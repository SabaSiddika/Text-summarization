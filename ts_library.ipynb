{
 "cells": [
  {
   "cell_type": "markdown",
   "metadata": {},
   "source": [
    "Preparing the environment"
   ]
  },
  {
   "cell_type": "code",
   "execution_count": 1,
   "metadata": {},
   "outputs": [],
   "source": [
    "import nltk\n",
    "import re"
   ]
  },
  {
   "cell_type": "code",
   "execution_count": 2,
   "metadata": {},
   "outputs": [],
   "source": [
    "original_text = \"\"\"Dengue remains a significant public health issue in Bangladesh despite vector control initiatives over the past ten years that have targeted mosquitoes and their breeding grounds. In comparison to 20% of the remaining months (August to March) of the same 12-year period, over 81 percent of the months of April, May, June, and July from 2008 to 2019 had a monthly GF of >1. These consistent results over a long period of time point to the significance of an early vector control campaign in Bangladesh.\n",
    "The month of June was the one in which we found the highest GF, suggesting the peak month for transmission, meaning that there were more secondary cases of dengue in June than any other month. This might be due to the availability of vulnerable human hosts at the start of the transmission seasons along with favorable environmental variables (rainfall that coincides with higher temperatures). June is one of the warmest months of the year in Bangladesh and the first month of the monsoon season.\n",
    "More rapid transmission cycles and infection rates are anticipated as a result of the interaction between increased rainfall, which favorably influences Aedes mosquito breeding locations, and increased temperatures, which are predicted to shorten the extrinsic incubation period and biting interval . We argue that starting the vector-control program in April would be ideal because the estimated GF began to exceed 1 in April and remained above 1 through July. Our analysis revealed that the early transmission season (April–July), when dengue cases are rising at a higher rate, presents an opportunity to launch the vector control program sooner and more successfully reduce dengue incidence.\n",
    "We advise trying out earlier community involvement for eradicating Aedes breeding areas, since this could improve overall control and possibly lower case occurrence.\"\"\""
   ]
  },
  {
   "cell_type": "code",
   "execution_count": 3,
   "metadata": {},
   "outputs": [
    {
     "data": {
      "text/plain": [
       "'Dengue remains a significant public health issue in Bangladesh despite vector control initiatives over the past ten years that have targeted mosquitoes and their breeding grounds. In comparison to 20% of the remaining months (August to March) of the same 12-year period, over 81 percent of the months of April, May, June, and July from 2008 to 2019 had a monthly GF of >1. These consistent results over a long period of time point to the significance of an early vector control campaign in Bangladesh.\\nThe month of June was the one in which we found the highest GF, suggesting the peak month for transmission, meaning that there were more secondary cases of dengue in June than any other month. This might be due to the availability of vulnerable human hosts at the start of the transmission seasons along with favorable environmental variables (rainfall that coincides with higher temperatures). June is one of the warmest months of the year in Bangladesh and the first month of the monsoon season.\\nMore rapid transmission cycles and infection rates are anticipated as a result of the interaction between increased rainfall, which favorably influences Aedes mosquito breeding locations, and increased temperatures, which are predicted to shorten the extrinsic incubation period and biting interval . We argue that starting the vector-control program in April would be ideal because the estimated GF began to exceed 1 in April and remained above 1 through July. Our analysis revealed that the early transmission season (April–July), when dengue cases are rising at a higher rate, presents an opportunity to launch the vector control program sooner and more successfully reduce dengue incidence.\\nWe advise trying out earlier community involvement for eradicating Aedes breeding areas, since this could improve overall control and possibly lower case occurrence.'"
      ]
     },
     "execution_count": 3,
     "metadata": {},
     "output_type": "execute_result"
    }
   ],
   "source": [
    "original_text"
   ]
  },
  {
   "cell_type": "code",
   "execution_count": 4,
   "metadata": {},
   "outputs": [
    {
     "name": "stderr",
     "output_type": "stream",
     "text": [
      "[nltk_data] Downloading package punkt to\n",
      "[nltk_data]     C:\\Users\\ITS\\AppData\\Roaming\\nltk_data...\n",
      "[nltk_data]   Package punkt is already up-to-date!\n"
     ]
    },
    {
     "data": {
      "text/plain": [
       "True"
      ]
     },
     "execution_count": 4,
     "metadata": {},
     "output_type": "execute_result"
    }
   ],
   "source": [
    "nltk.download('punkt')"
   ]
  },
  {
   "cell_type": "code",
   "execution_count": 5,
   "metadata": {},
   "outputs": [
    {
     "data": {
      "text/plain": [
       "['Dengue remains a significant public health issue in Bangladesh despite vector control initiatives over the past ten years that have targeted mosquitoes and their breeding grounds.',\n",
       " 'In comparison to 20% of the remaining months (August to March) of the same 12-year period, over 81 percent of the months of April, May, June, and July from 2008 to 2019 had a monthly GF of >1.',\n",
       " 'These consistent results over a long period of time point to the significance of an early vector control campaign in Bangladesh.',\n",
       " 'The month of June was the one in which we found the highest GF, suggesting the peak month for transmission, meaning that there were more secondary cases of dengue in June than any other month.',\n",
       " 'This might be due to the availability of vulnerable human hosts at the start of the transmission seasons along with favorable environmental variables (rainfall that coincides with higher temperatures).',\n",
       " 'June is one of the warmest months of the year in Bangladesh and the first month of the monsoon season.',\n",
       " 'More rapid transmission cycles and infection rates are anticipated as a result of the interaction between increased rainfall, which favorably influences Aedes mosquito breeding locations, and increased temperatures, which are predicted to shorten the extrinsic incubation period and biting interval .',\n",
       " 'We argue that starting the vector-control program in April would be ideal because the estimated GF began to exceed 1 in April and remained above 1 through July.',\n",
       " 'Our analysis revealed that the early transmission season (April–July), when dengue cases are rising at a higher rate, presents an opportunity to launch the vector control program sooner and more successfully reduce dengue incidence.',\n",
       " 'We advise trying out earlier community involvement for eradicating Aedes breeding areas, since this could improve overall control and possibly lower case occurrence.']"
      ]
     },
     "execution_count": 5,
     "metadata": {},
     "output_type": "execute_result"
    }
   ],
   "source": [
    "original_sentences = [sentence for sentence in nltk.sent_tokenize(original_text)]\n",
    "original_sentences"
   ]
  },
  {
   "cell_type": "markdown",
   "metadata": {},
   "source": [
    "Sumy"
   ]
  },
  {
   "cell_type": "code",
   "execution_count": 6,
   "metadata": {},
   "outputs": [
    {
     "name": "stdout",
     "output_type": "stream",
     "text": [
      "Defaulting to user installation because normal site-packages is not writeable\n",
      "Requirement already satisfied: sumy in c:\\users\\its\\appdata\\roaming\\python\\python39\\site-packages (0.10.0)\n",
      "Requirement already satisfied: requests>=2.7.0 in c:\\programdata\\anaconda3\\lib\\site-packages (from sumy) (2.27.1)\n",
      "Requirement already satisfied: nltk>=3.0.2 in c:\\programdata\\anaconda3\\lib\\site-packages (from sumy) (3.7)\n",
      "Requirement already satisfied: docopt<0.7,>=0.6.1 in c:\\users\\its\\appdata\\roaming\\python\\python39\\site-packages (from sumy) (0.6.2)\n",
      "Requirement already satisfied: pycountry>=18.2.23 in c:\\users\\its\\appdata\\roaming\\python\\python39\\site-packages (from sumy) (22.3.5)\n",
      "Requirement already satisfied: breadability>=0.1.20 in c:\\users\\its\\appdata\\roaming\\python\\python39\\site-packages (from sumy) (0.1.20)\n",
      "Requirement already satisfied: chardet in c:\\programdata\\anaconda3\\lib\\site-packages (from breadability>=0.1.20->sumy) (4.0.0)\n",
      "Requirement already satisfied: lxml>=2.0 in c:\\programdata\\anaconda3\\lib\\site-packages (from breadability>=0.1.20->sumy) (4.8.0)\n",
      "Requirement already satisfied: regex>=2021.8.3 in c:\\programdata\\anaconda3\\lib\\site-packages (from nltk>=3.0.2->sumy) (2022.3.15)\n",
      "Requirement already satisfied: tqdm in c:\\programdata\\anaconda3\\lib\\site-packages (from nltk>=3.0.2->sumy) (4.64.0)\n",
      "Requirement already satisfied: click in c:\\programdata\\anaconda3\\lib\\site-packages (from nltk>=3.0.2->sumy) (8.0.4)\n",
      "Requirement already satisfied: joblib in c:\\programdata\\anaconda3\\lib\\site-packages (from nltk>=3.0.2->sumy) (1.1.0)\n",
      "Requirement already satisfied: setuptools in c:\\programdata\\anaconda3\\lib\\site-packages (from pycountry>=18.2.23->sumy) (61.2.0)\n",
      "Requirement already satisfied: charset-normalizer~=2.0.0 in c:\\programdata\\anaconda3\\lib\\site-packages (from requests>=2.7.0->sumy) (2.0.4)\n",
      "Requirement already satisfied: urllib3<1.27,>=1.21.1 in c:\\programdata\\anaconda3\\lib\\site-packages (from requests>=2.7.0->sumy) (1.26.9)\n",
      "Requirement already satisfied: idna<4,>=2.5 in c:\\programdata\\anaconda3\\lib\\site-packages (from requests>=2.7.0->sumy) (3.3)\n",
      "Requirement already satisfied: certifi>=2017.4.17 in c:\\programdata\\anaconda3\\lib\\site-packages (from requests>=2.7.0->sumy) (2021.10.8)\n",
      "Requirement already satisfied: colorama in c:\\programdata\\anaconda3\\lib\\site-packages (from click->nltk>=3.0.2->sumy) (0.4.4)\n"
     ]
    }
   ],
   "source": [
    "!pip3 install sumy"
   ]
  },
  {
   "cell_type": "code",
   "execution_count": 7,
   "metadata": {},
   "outputs": [],
   "source": [
    "from sumy.parsers.plaintext import PlaintextParser\n",
    "from sumy.nlp.tokenizers import Tokenizer\n",
    "from sumy.summarizers.lex_rank import LexRankSummarizer"
   ]
  },
  {
   "cell_type": "code",
   "execution_count": 8,
   "metadata": {},
   "outputs": [],
   "source": [
    "parser = PlaintextParser.from_string(original_text, Tokenizer('english'))"
   ]
  },
  {
   "cell_type": "code",
   "execution_count": 9,
   "metadata": {},
   "outputs": [],
   "source": [
    "lex_rank_summarizer = LexRankSummarizer()\n",
    "lexrank_summary = lex_rank_summarizer(parser.document,sentences_count=3)"
   ]
  },
  {
   "cell_type": "code",
   "execution_count": 10,
   "metadata": {},
   "outputs": [
    {
     "name": "stdout",
     "output_type": "stream",
     "text": [
      "In comparison to 20% of the remaining months (August to March) of the same 12-year period, over 81 percent of the months of April, May, June, and July from 2008 to 2019 had a monthly GF of >1.\n",
      "These consistent results over a long period of time point to the significance of an early vector control campaign in Bangladesh.\n",
      "June is one of the warmest months of the year in Bangladesh and the first month of the monsoon season.\n"
     ]
    }
   ],
   "source": [
    "for sentence in lexrank_summary:\n",
    "  print(sentence)"
   ]
  },
  {
   "cell_type": "markdown",
   "metadata": {},
   "source": [
    "LSA(latent semantic analysis)"
   ]
  },
  {
   "cell_type": "code",
   "execution_count": 11,
   "metadata": {},
   "outputs": [],
   "source": [
    "from sumy.summarizers.lsa import LsaSummarizer"
   ]
  },
  {
   "cell_type": "code",
   "execution_count": 12,
   "metadata": {},
   "outputs": [],
   "source": [
    "from sumy.nlp.tokenizers import Tokenizer\n",
    "from sumy.parsers.plaintext import PlaintextParser\n",
    "parser=PlaintextParser.from_string(original_text,Tokenizer('english'))"
   ]
  },
  {
   "cell_type": "code",
   "execution_count": 13,
   "metadata": {},
   "outputs": [],
   "source": [
    "lsa_summarizer=LsaSummarizer()\n",
    "lsa_summary= lsa_summarizer(parser.document, 4)"
   ]
  },
  {
   "cell_type": "code",
   "execution_count": 14,
   "metadata": {},
   "outputs": [
    {
     "name": "stdout",
     "output_type": "stream",
     "text": [
      "Dengue remains a significant public health issue in Bangladesh despite vector control initiatives over the past ten years that have targeted mosquitoes and their breeding grounds.\n",
      "We argue that starting the vector-control program in April would be ideal because the estimated GF began to exceed 1 in April and remained above 1 through July.\n",
      "Our analysis revealed that the early transmission season (April–July), when dengue cases are rising at a higher rate, presents an opportunity to launch the vector control program sooner and more successfully reduce dengue incidence.\n",
      "We advise trying out earlier community involvement for eradicating Aedes breeding areas, since this could improve overall control and possibly lower case occurrence.\n"
     ]
    }
   ],
   "source": [
    "for sentence in lsa_summary:\n",
    "  print(sentence)"
   ]
  },
  {
   "cell_type": "markdown",
   "metadata": {},
   "source": [
    "Luhn"
   ]
  },
  {
   "cell_type": "code",
   "execution_count": 15,
   "metadata": {},
   "outputs": [],
   "source": [
    "from sumy.summarizers.luhn import LuhnSummarizer"
   ]
  },
  {
   "cell_type": "code",
   "execution_count": 16,
   "metadata": {},
   "outputs": [],
   "source": [
    "from sumy.nlp.tokenizers import Tokenizer\n",
    "from sumy.parsers.plaintext import PlaintextParser\n",
    "parser=PlaintextParser.from_string(original_text,Tokenizer('english'))"
   ]
  },
  {
   "cell_type": "code",
   "execution_count": 17,
   "metadata": {},
   "outputs": [],
   "source": [
    "luhn_summarizer=LuhnSummarizer()\n",
    "luhn_summary=luhn_summarizer(parser.document,sentences_count=3)"
   ]
  },
  {
   "cell_type": "code",
   "execution_count": 18,
   "metadata": {},
   "outputs": [
    {
     "name": "stdout",
     "output_type": "stream",
     "text": [
      "In comparison to 20% of the remaining months (August to March) of the same 12-year period, over 81 percent of the months of April, May, June, and July from 2008 to 2019 had a monthly GF of >1.\n",
      "The month of June was the one in which we found the highest GF, suggesting the peak month for transmission, meaning that there were more secondary cases of dengue in June than any other month.\n",
      "Our analysis revealed that the early transmission season (April–July), when dengue cases are rising at a higher rate, presents an opportunity to launch the vector control program sooner and more successfully reduce dengue incidence.\n"
     ]
    }
   ],
   "source": [
    "for sentence in luhn_summary:\n",
    "  print(sentence)"
   ]
  },
  {
   "cell_type": "markdown",
   "metadata": {},
   "source": [
    "KL-Sum"
   ]
  },
  {
   "cell_type": "code",
   "execution_count": 19,
   "metadata": {},
   "outputs": [],
   "source": [
    "from sumy.summarizers.kl import KLSummarizer"
   ]
  },
  {
   "cell_type": "code",
   "execution_count": 20,
   "metadata": {},
   "outputs": [],
   "source": [
    "from sumy.nlp.tokenizers import Tokenizer\n",
    "from sumy.parsers.plaintext import PlaintextParser\n",
    "parser=PlaintextParser.from_string(original_text,Tokenizer('english'))"
   ]
  },
  {
   "cell_type": "code",
   "execution_count": 21,
   "metadata": {},
   "outputs": [],
   "source": [
    "kl_summarizer=KLSummarizer()\n",
    "kl_summary=kl_summarizer(parser.document,sentences_count=3)"
   ]
  },
  {
   "cell_type": "code",
   "execution_count": 22,
   "metadata": {},
   "outputs": [
    {
     "name": "stdout",
     "output_type": "stream",
     "text": [
      "In comparison to 20% of the remaining months (August to March) of the same 12-year period, over 81 percent of the months of April, May, June, and July from 2008 to 2019 had a monthly GF of >1.\n",
      "These consistent results over a long period of time point to the significance of an early vector control campaign in Bangladesh.\n",
      "June is one of the warmest months of the year in Bangladesh and the first month of the monsoon season.\n"
     ]
    }
   ],
   "source": [
    "for sentence in kl_summary:\n",
    "    print(sentence)"
   ]
  },
  {
   "cell_type": "markdown",
   "metadata": {},
   "source": [
    "pysummarization"
   ]
  },
  {
   "cell_type": "code",
   "execution_count": 23,
   "metadata": {},
   "outputs": [
    {
     "name": "stdout",
     "output_type": "stream",
     "text": [
      "Defaulting to user installation because normal site-packages is not writeable\n",
      "Requirement already satisfied: pysummarization in c:\\users\\its\\appdata\\roaming\\python\\python39\\site-packages (1.1.9)\n",
      "Requirement already satisfied: nltk in c:\\programdata\\anaconda3\\lib\\site-packages (from pysummarization) (3.7)\n",
      "Requirement already satisfied: numpy in c:\\programdata\\anaconda3\\lib\\site-packages (from pysummarization) (1.21.5)\n",
      "Requirement already satisfied: regex>=2021.8.3 in c:\\programdata\\anaconda3\\lib\\site-packages (from nltk->pysummarization) (2022.3.15)\n",
      "Requirement already satisfied: joblib in c:\\programdata\\anaconda3\\lib\\site-packages (from nltk->pysummarization) (1.1.0)\n",
      "Requirement already satisfied: click in c:\\programdata\\anaconda3\\lib\\site-packages (from nltk->pysummarization) (8.0.4)\n",
      "Requirement already satisfied: tqdm in c:\\programdata\\anaconda3\\lib\\site-packages (from nltk->pysummarization) (4.64.0)\n",
      "Requirement already satisfied: colorama in c:\\programdata\\anaconda3\\lib\\site-packages (from click->nltk->pysummarization) (0.4.4)\n"
     ]
    }
   ],
   "source": [
    "!pip3 install pysummarization"
   ]
  },
  {
   "cell_type": "code",
   "execution_count": 24,
   "metadata": {},
   "outputs": [],
   "source": [
    "from pysummarization.nlpbase.auto_abstractor import AutoAbstractor\n",
    "from pysummarization.tokenizabledoc.simple_tokenizer import SimpleTokenizer\n",
    "from pysummarization.abstractabledoc.top_n_rank_abstractor import TopNRankAbstractor"
   ]
  },
  {
   "cell_type": "code",
   "execution_count": 25,
   "metadata": {},
   "outputs": [],
   "source": [
    "auto_abstractor = AutoAbstractor()\n",
    "auto_abstractor.tokenizable_doc = SimpleTokenizer()\n",
    "auto_abstractor.delimiter_list = [\".\", \"\\n\"]\n",
    "abstractable_doc = TopNRankAbstractor()"
   ]
  },
  {
   "cell_type": "code",
   "execution_count": 26,
   "metadata": {},
   "outputs": [],
   "source": [
    "summary = auto_abstractor.summarize(original_text,abstractable_doc)"
   ]
  },
  {
   "cell_type": "code",
   "execution_count": 27,
   "metadata": {},
   "outputs": [
    {
     "data": {
      "text/plain": [
       "{'summarize_result': ['Dengue remains a significant public health issue in Bangladesh despite vector control initiatives over the past ten years that have targeted mosquitoes and their breeding grounds.\\n',\n",
       "  ' In comparison to 20% of the remaining months (August to March) of the same 12-year period, over 81 percent of the months of April, May, June, and July from 2008 to 2019 had a monthly GF of >1.\\n',\n",
       "  ' These consistent results over a long period of time point to the significance of an early vector control campaign in Bangladesh.\\n',\n",
       "  'The month of June was the one in which we found the highest GF, suggesting the peak month for transmission, meaning that there were more secondary cases of dengue in June than any other month.\\n',\n",
       "  ' This might be due to the availability of vulnerable human hosts at the start of the transmission seasons along with favorable environmental variables (rainfall that coincides with higher temperatures).\\n',\n",
       "  ' June is one of the warmest months of the year in Bangladesh and the first month of the monsoon season.\\n',\n",
       "  'More rapid transmission cycles and infection rates are anticipated as a result of the interaction between increased rainfall, which favorably influences Aedes mosquito breeding locations, and increased temperatures, which are predicted to shorten the extrinsic incubation period and biting interval .\\n',\n",
       "  ' We argue that starting the vector-control program in April would be ideal because the estimated GF began to exceed 1 in April and remained above 1 through July.\\n',\n",
       "  ' Our analysis revealed that the early transmission season (April–July), when dengue cases are rising at a higher rate, presents an opportunity to launch the vector control program sooner and more successfully reduce dengue incidence.\\n',\n",
       "  'We advise trying out earlier community involvement for eradicating Aedes breeding areas, since this could improve overall control and possibly lower case occurrence.\\n'],\n",
       " 'scoring_data': [(0, 25.0),\n",
       "  (1, 13.473684210526315),\n",
       "  (2, 18.05),\n",
       "  (3, 22.09090909090909),\n",
       "  (4, 13.473684210526315),\n",
       "  (5, 5.0625),\n",
       "  (6, 2.25),\n",
       "  (7, 1.7777777777777777),\n",
       "  (8, 7.2592592592592595),\n",
       "  (9, 2.0)]}"
      ]
     },
     "execution_count": 27,
     "metadata": {},
     "output_type": "execute_result"
    }
   ],
   "source": [
    "summary"
   ]
  },
  {
   "cell_type": "code",
   "execution_count": 28,
   "metadata": {},
   "outputs": [],
   "source": [
    "best_sentences = []\n",
    "for sentence in summary['summarize_result']:\n",
    "  #print(sentence)\n",
    "  best_sentences.append(re.sub(r'\\s+', ' ', sentence).strip())"
   ]
  },
  {
   "cell_type": "code",
   "execution_count": 29,
   "metadata": {},
   "outputs": [
    {
     "data": {
      "text/plain": [
       "['Dengue remains a significant public health issue in Bangladesh despite vector control initiatives over the past ten years that have targeted mosquitoes and their breeding grounds.',\n",
       " 'In comparison to 20% of the remaining months (August to March) of the same 12-year period, over 81 percent of the months of April, May, June, and July from 2008 to 2019 had a monthly GF of >1.',\n",
       " 'These consistent results over a long period of time point to the significance of an early vector control campaign in Bangladesh.',\n",
       " 'The month of June was the one in which we found the highest GF, suggesting the peak month for transmission, meaning that there were more secondary cases of dengue in June than any other month.',\n",
       " 'This might be due to the availability of vulnerable human hosts at the start of the transmission seasons along with favorable environmental variables (rainfall that coincides with higher temperatures).',\n",
       " 'June is one of the warmest months of the year in Bangladesh and the first month of the monsoon season.',\n",
       " 'More rapid transmission cycles and infection rates are anticipated as a result of the interaction between increased rainfall, which favorably influences Aedes mosquito breeding locations, and increased temperatures, which are predicted to shorten the extrinsic incubation period and biting interval .',\n",
       " 'We argue that starting the vector-control program in April would be ideal because the estimated GF began to exceed 1 in April and remained above 1 through July.',\n",
       " 'Our analysis revealed that the early transmission season (April–July), when dengue cases are rising at a higher rate, presents an opportunity to launch the vector control program sooner and more successfully reduce dengue incidence.',\n",
       " 'We advise trying out earlier community involvement for eradicating Aedes breeding areas, since this could improve overall control and possibly lower case occurrence.']"
      ]
     },
     "execution_count": 29,
     "metadata": {},
     "output_type": "execute_result"
    }
   ],
   "source": [
    "best_sentences"
   ]
  },
  {
   "cell_type": "markdown",
   "metadata": {},
   "source": [
    "BERT"
   ]
  },
  {
   "cell_type": "code",
   "execution_count": 30,
   "metadata": {},
   "outputs": [
    {
     "name": "stdout",
     "output_type": "stream",
     "text": [
      "Defaulting to user installation because normal site-packages is not writeable\n",
      "Requirement already satisfied: bert-extractive-summarizer in c:\\users\\its\\appdata\\roaming\\python\\python39\\site-packages (0.10.1)\n",
      "Requirement already satisfied: transformers in c:\\users\\its\\appdata\\roaming\\python\\python39\\site-packages (from bert-extractive-summarizer) (4.21.0.dev0)\n",
      "Requirement already satisfied: spacy in c:\\programdata\\anaconda3\\lib\\site-packages (from bert-extractive-summarizer) (3.3.0)\n",
      "Requirement already satisfied: scikit-learn in c:\\programdata\\anaconda3\\lib\\site-packages (from bert-extractive-summarizer) (1.0.2)\n",
      "Requirement already satisfied: numpy>=1.14.6 in c:\\programdata\\anaconda3\\lib\\site-packages (from scikit-learn->bert-extractive-summarizer) (1.21.5)\n",
      "Requirement already satisfied: joblib>=0.11 in c:\\programdata\\anaconda3\\lib\\site-packages (from scikit-learn->bert-extractive-summarizer) (1.1.0)\n",
      "Requirement already satisfied: scipy>=1.1.0 in c:\\programdata\\anaconda3\\lib\\site-packages (from scikit-learn->bert-extractive-summarizer) (1.7.3)\n",
      "Requirement already satisfied: threadpoolctl>=2.0.0 in c:\\programdata\\anaconda3\\lib\\site-packages (from scikit-learn->bert-extractive-summarizer) (2.2.0)\n",
      "Requirement already satisfied: requests<3.0.0,>=2.13.0 in c:\\programdata\\anaconda3\\lib\\site-packages (from spacy->bert-extractive-summarizer) (2.27.1)\n",
      "Requirement already satisfied: murmurhash<1.1.0,>=0.28.0 in c:\\programdata\\anaconda3\\lib\\site-packages (from spacy->bert-extractive-summarizer) (1.0.7)\n",
      "Requirement already satisfied: blis<0.8.0,>=0.4.0 in c:\\programdata\\anaconda3\\lib\\site-packages (from spacy->bert-extractive-summarizer) (0.7.7)\n",
      "Requirement already satisfied: tqdm<5.0.0,>=4.38.0 in c:\\programdata\\anaconda3\\lib\\site-packages (from spacy->bert-extractive-summarizer) (4.64.0)\n",
      "Requirement already satisfied: packaging>=20.0 in c:\\programdata\\anaconda3\\lib\\site-packages (from spacy->bert-extractive-summarizer) (21.3)\n",
      "Requirement already satisfied: catalogue<2.1.0,>=2.0.6 in c:\\programdata\\anaconda3\\lib\\site-packages (from spacy->bert-extractive-summarizer) (2.0.6)\n",
      "Requirement already satisfied: spacy-legacy<3.1.0,>=3.0.9 in c:\\programdata\\anaconda3\\lib\\site-packages (from spacy->bert-extractive-summarizer) (3.0.9)\n",
      "Requirement already satisfied: setuptools in c:\\programdata\\anaconda3\\lib\\site-packages (from spacy->bert-extractive-summarizer) (61.2.0)\n",
      "Requirement already satisfied: typer<0.5.0,>=0.3.0 in c:\\programdata\\anaconda3\\lib\\site-packages (from spacy->bert-extractive-summarizer) (0.4.1)\n",
      "Requirement already satisfied: thinc<8.1.0,>=8.0.14 in c:\\programdata\\anaconda3\\lib\\site-packages (from spacy->bert-extractive-summarizer) (8.0.17)\n",
      "Requirement already satisfied: wasabi<1.1.0,>=0.9.1 in c:\\programdata\\anaconda3\\lib\\site-packages (from spacy->bert-extractive-summarizer) (0.9.1)\n",
      "Requirement already satisfied: preshed<3.1.0,>=3.0.2 in c:\\programdata\\anaconda3\\lib\\site-packages (from spacy->bert-extractive-summarizer) (3.0.6)\n",
      "Requirement already satisfied: srsly<3.0.0,>=2.4.3 in c:\\programdata\\anaconda3\\lib\\site-packages (from spacy->bert-extractive-summarizer) (2.4.3)\n",
      "Requirement already satisfied: pydantic!=1.8,!=1.8.1,<1.9.0,>=1.7.4 in c:\\programdata\\anaconda3\\lib\\site-packages (from spacy->bert-extractive-summarizer) (1.8.2)\n",
      "Requirement already satisfied: langcodes<4.0.0,>=3.2.0 in c:\\programdata\\anaconda3\\lib\\site-packages (from spacy->bert-extractive-summarizer) (3.3.0)\n",
      "Requirement already satisfied: pathy>=0.3.5 in c:\\programdata\\anaconda3\\lib\\site-packages (from spacy->bert-extractive-summarizer) (0.6.1)\n",
      "Requirement already satisfied: spacy-loggers<2.0.0,>=1.0.0 in c:\\programdata\\anaconda3\\lib\\site-packages (from spacy->bert-extractive-summarizer) (1.0.2)\n",
      "Requirement already satisfied: jinja2 in c:\\programdata\\anaconda3\\lib\\site-packages (from spacy->bert-extractive-summarizer) (2.11.3)\n",
      "Requirement already satisfied: cymem<2.1.0,>=2.0.2 in c:\\programdata\\anaconda3\\lib\\site-packages (from spacy->bert-extractive-summarizer) (2.0.6)\n",
      "Requirement already satisfied: pyparsing!=3.0.5,>=2.0.2 in c:\\programdata\\anaconda3\\lib\\site-packages (from packaging>=20.0->spacy->bert-extractive-summarizer) (3.0.4)\n",
      "Requirement already satisfied: smart-open<6.0.0,>=5.0.0 in c:\\programdata\\anaconda3\\lib\\site-packages (from pathy>=0.3.5->spacy->bert-extractive-summarizer) (5.1.0)\n",
      "Requirement already satisfied: typing-extensions>=3.7.4.3 in c:\\programdata\\anaconda3\\lib\\site-packages (from pydantic!=1.8,!=1.8.1,<1.9.0,>=1.7.4->spacy->bert-extractive-summarizer) (4.1.1)\n",
      "Requirement already satisfied: urllib3<1.27,>=1.21.1 in c:\\programdata\\anaconda3\\lib\\site-packages (from requests<3.0.0,>=2.13.0->spacy->bert-extractive-summarizer) (1.26.9)\n",
      "Requirement already satisfied: certifi>=2017.4.17 in c:\\programdata\\anaconda3\\lib\\site-packages (from requests<3.0.0,>=2.13.0->spacy->bert-extractive-summarizer) (2021.10.8)\n",
      "Requirement already satisfied: charset-normalizer~=2.0.0 in c:\\programdata\\anaconda3\\lib\\site-packages (from requests<3.0.0,>=2.13.0->spacy->bert-extractive-summarizer) (2.0.4)\n",
      "Requirement already satisfied: idna<4,>=2.5 in c:\\programdata\\anaconda3\\lib\\site-packages (from requests<3.0.0,>=2.13.0->spacy->bert-extractive-summarizer) (3.3)\n",
      "Requirement already satisfied: colorama in c:\\programdata\\anaconda3\\lib\\site-packages (from tqdm<5.0.0,>=4.38.0->spacy->bert-extractive-summarizer) (0.4.4)\n",
      "Requirement already satisfied: click<9.0.0,>=7.1.1 in c:\\programdata\\anaconda3\\lib\\site-packages (from typer<0.5.0,>=0.3.0->spacy->bert-extractive-summarizer) (8.0.4)\n",
      "Requirement already satisfied: MarkupSafe>=0.23 in c:\\programdata\\anaconda3\\lib\\site-packages (from jinja2->spacy->bert-extractive-summarizer) (2.0.1)\n",
      "Requirement already satisfied: regex!=2019.12.17 in c:\\programdata\\anaconda3\\lib\\site-packages (from transformers->bert-extractive-summarizer) (2022.3.15)\n",
      "Requirement already satisfied: huggingface-hub<1.0,>=0.1.0 in c:\\users\\its\\appdata\\roaming\\python\\python39\\site-packages (from transformers->bert-extractive-summarizer) (0.7.0)\n",
      "Requirement already satisfied: pyyaml>=5.1 in c:\\programdata\\anaconda3\\lib\\site-packages (from transformers->bert-extractive-summarizer) (6.0)\n",
      "Requirement already satisfied: filelock in c:\\programdata\\anaconda3\\lib\\site-packages (from transformers->bert-extractive-summarizer) (3.6.0)\n",
      "Requirement already satisfied: tokenizers!=0.11.3,<0.13,>=0.11.1 in c:\\users\\its\\appdata\\roaming\\python\\python39\\site-packages (from transformers->bert-extractive-summarizer) (0.12.1)\n"
     ]
    }
   ],
   "source": [
    "!pip3 install bert-extractive-summarizer"
   ]
  },
  {
   "cell_type": "code",
   "execution_count": 31,
   "metadata": {},
   "outputs": [
    {
     "name": "stdout",
     "output_type": "stream",
     "text": [
      "Defaulting to user installation because normal site-packages is not writeable\n",
      "Requirement already satisfied: transformers in c:\\users\\its\\appdata\\roaming\\python\\python39\\site-packages (4.21.0.dev0)\n",
      "Requirement already satisfied: packaging>=20.0 in c:\\programdata\\anaconda3\\lib\\site-packages (from transformers) (21.3)\n",
      "Requirement already satisfied: filelock in c:\\programdata\\anaconda3\\lib\\site-packages (from transformers) (3.6.0)\n",
      "Requirement already satisfied: huggingface-hub<1.0,>=0.1.0 in c:\\users\\its\\appdata\\roaming\\python\\python39\\site-packages (from transformers) (0.7.0)\n",
      "Requirement already satisfied: tokenizers!=0.11.3,<0.13,>=0.11.1 in c:\\users\\its\\appdata\\roaming\\python\\python39\\site-packages (from transformers) (0.12.1)\n",
      "Requirement already satisfied: tqdm>=4.27 in c:\\programdata\\anaconda3\\lib\\site-packages (from transformers) (4.64.0)\n",
      "Requirement already satisfied: regex!=2019.12.17 in c:\\programdata\\anaconda3\\lib\\site-packages (from transformers) (2022.3.15)\n",
      "Requirement already satisfied: pyyaml>=5.1 in c:\\programdata\\anaconda3\\lib\\site-packages (from transformers) (6.0)\n",
      "Requirement already satisfied: requests in c:\\programdata\\anaconda3\\lib\\site-packages (from transformers) (2.27.1)\n",
      "Requirement already satisfied: numpy>=1.17 in c:\\programdata\\anaconda3\\lib\\site-packages (from transformers) (1.21.5)\n",
      "Requirement already satisfied: typing-extensions>=3.7.4.3 in c:\\programdata\\anaconda3\\lib\\site-packages (from huggingface-hub<1.0,>=0.1.0->transformers) (4.1.1)\n",
      "Requirement already satisfied: pyparsing!=3.0.5,>=2.0.2 in c:\\programdata\\anaconda3\\lib\\site-packages (from packaging>=20.0->transformers) (3.0.4)\n",
      "Requirement already satisfied: colorama in c:\\programdata\\anaconda3\\lib\\site-packages (from tqdm>=4.27->transformers) (0.4.4)\n",
      "Requirement already satisfied: certifi>=2017.4.17 in c:\\programdata\\anaconda3\\lib\\site-packages (from requests->transformers) (2021.10.8)\n",
      "Requirement already satisfied: idna<4,>=2.5 in c:\\programdata\\anaconda3\\lib\\site-packages (from requests->transformers) (3.3)\n",
      "Requirement already satisfied: charset-normalizer~=2.0.0 in c:\\programdata\\anaconda3\\lib\\site-packages (from requests->transformers) (2.0.4)\n",
      "Requirement already satisfied: urllib3<1.27,>=1.21.1 in c:\\programdata\\anaconda3\\lib\\site-packages (from requests->transformers) (1.26.9)\n"
     ]
    }
   ],
   "source": [
    "!pip3 install transformers"
   ]
  },
  {
   "cell_type": "code",
   "execution_count": 32,
   "metadata": {},
   "outputs": [
    {
     "name": "stdout",
     "output_type": "stream",
     "text": [
      "Defaulting to user installation because normal site-packages is not writeable\n",
      "Requirement already satisfied: transformers[torch] in c:\\users\\its\\appdata\\roaming\\python\\python39\\site-packages (4.21.0.dev0)\n",
      "Requirement already satisfied: huggingface-hub<1.0,>=0.1.0 in c:\\users\\its\\appdata\\roaming\\python\\python39\\site-packages (from transformers[torch]) (0.7.0)\n",
      "Requirement already satisfied: packaging>=20.0 in c:\\programdata\\anaconda3\\lib\\site-packages (from transformers[torch]) (21.3)\n",
      "Requirement already satisfied: pyyaml>=5.1 in c:\\programdata\\anaconda3\\lib\\site-packages (from transformers[torch]) (6.0)\n",
      "Requirement already satisfied: regex!=2019.12.17 in c:\\programdata\\anaconda3\\lib\\site-packages (from transformers[torch]) (2022.3.15)\n",
      "Requirement already satisfied: numpy>=1.17 in c:\\programdata\\anaconda3\\lib\\site-packages (from transformers[torch]) (1.21.5)\n",
      "Requirement already satisfied: requests in c:\\programdata\\anaconda3\\lib\\site-packages (from transformers[torch]) (2.27.1)\n",
      "Requirement already satisfied: tqdm>=4.27 in c:\\programdata\\anaconda3\\lib\\site-packages (from transformers[torch]) (4.64.0)\n",
      "Requirement already satisfied: tokenizers!=0.11.3,<0.13,>=0.11.1 in c:\\users\\its\\appdata\\roaming\\python\\python39\\site-packages (from transformers[torch]) (0.12.1)\n",
      "Requirement already satisfied: filelock in c:\\programdata\\anaconda3\\lib\\site-packages (from transformers[torch]) (3.6.0)\n",
      "Requirement already satisfied: torch>=1.0 in c:\\users\\its\\appdata\\roaming\\python\\python39\\site-packages (from transformers[torch]) (1.11.0)\n",
      "Requirement already satisfied: typing-extensions>=3.7.4.3 in c:\\programdata\\anaconda3\\lib\\site-packages (from huggingface-hub<1.0,>=0.1.0->transformers[torch]) (4.1.1)\n",
      "Requirement already satisfied: pyparsing!=3.0.5,>=2.0.2 in c:\\programdata\\anaconda3\\lib\\site-packages (from packaging>=20.0->transformers[torch]) (3.0.4)\n",
      "Requirement already satisfied: colorama in c:\\programdata\\anaconda3\\lib\\site-packages (from tqdm>=4.27->transformers[torch]) (0.4.4)\n",
      "Requirement already satisfied: certifi>=2017.4.17 in c:\\programdata\\anaconda3\\lib\\site-packages (from requests->transformers[torch]) (2021.10.8)\n",
      "Requirement already satisfied: urllib3<1.27,>=1.21.1 in c:\\programdata\\anaconda3\\lib\\site-packages (from requests->transformers[torch]) (1.26.9)\n",
      "Requirement already satisfied: idna<4,>=2.5 in c:\\programdata\\anaconda3\\lib\\site-packages (from requests->transformers[torch]) (3.3)\n",
      "Requirement already satisfied: charset-normalizer~=2.0.0 in c:\\programdata\\anaconda3\\lib\\site-packages (from requests->transformers[torch]) (2.0.4)\n"
     ]
    }
   ],
   "source": [
    "!pip3 install transformers[torch]"
   ]
  },
  {
   "cell_type": "code",
   "execution_count": 33,
   "metadata": {},
   "outputs": [
    {
     "name": "stdout",
     "output_type": "stream",
     "text": [
      "Defaulting to user installation because normal site-packages is not writeable\n",
      "Requirement already satisfied: sacremoses in c:\\users\\its\\appdata\\roaming\\python\\python39\\site-packages (0.0.53)\n",
      "Requirement already satisfied: joblib in c:\\programdata\\anaconda3\\lib\\site-packages (from sacremoses) (1.1.0)\n",
      "Requirement already satisfied: tqdm in c:\\programdata\\anaconda3\\lib\\site-packages (from sacremoses) (4.64.0)\n",
      "Requirement already satisfied: regex in c:\\programdata\\anaconda3\\lib\\site-packages (from sacremoses) (2022.3.15)\n",
      "Requirement already satisfied: six in c:\\programdata\\anaconda3\\lib\\site-packages (from sacremoses) (1.16.0)\n",
      "Requirement already satisfied: click in c:\\programdata\\anaconda3\\lib\\site-packages (from sacremoses) (8.0.4)\n",
      "Requirement already satisfied: colorama in c:\\programdata\\anaconda3\\lib\\site-packages (from click->sacremoses) (0.4.4)\n"
     ]
    }
   ],
   "source": [
    "!pip3 install sacremoses"
   ]
  },
  {
   "cell_type": "code",
   "execution_count": 34,
   "metadata": {},
   "outputs": [
    {
     "name": "stdout",
     "output_type": "stream",
     "text": [
      "Defaulting to user installation because normal site-packages is not writeable\n",
      "Collecting git+https://github.com/huggingface/transformers\n",
      "  Cloning https://github.com/huggingface/transformers to c:\\users\\its\\appdata\\local\\temp\\pip-req-build-qjorh_gj\n"
     ]
    },
    {
     "name": "stderr",
     "output_type": "stream",
     "text": [
      "  Running command git clone -q https://github.com/huggingface/transformers 'C:\\Users\\ITS\\AppData\\Local\\Temp\\pip-req-build-qjorh_gj'\n",
      "  error: 6462 bytes of body are still expected\n",
      "  fetch-pack: unexpected disconnect while reading sideband packet\n",
      "  fatal: early EOF\n",
      "  fatal: fetch-pack: invalid index-pack output\n",
      "WARNING: Discarding git+https://github.com/huggingface/transformers. Command errored out with exit status 128: git clone -q https://github.com/huggingface/transformers 'C:\\Users\\ITS\\AppData\\Local\\Temp\\pip-req-build-qjorh_gj' Check the logs for full command output.\n",
      "ERROR: Command errored out with exit status 128: git clone -q https://github.com/huggingface/transformers 'C:\\Users\\ITS\\AppData\\Local\\Temp\\pip-req-build-qjorh_gj' Check the logs for full command output.\n"
     ]
    }
   ],
   "source": [
    "!pip3 install git+https://github.com/huggingface/transformers"
   ]
  },
  {
   "cell_type": "code",
   "execution_count": 35,
   "metadata": {},
   "outputs": [
    {
     "name": "stdout",
     "output_type": "stream",
     "text": [
      "Defaulting to user installation because normal site-packages is not writeable\n",
      "Requirement already satisfied: tensorflow in c:\\users\\its\\appdata\\roaming\\python\\python39\\site-packages (2.9.1)\n",
      "Requirement already satisfied: tensorboard<2.10,>=2.9 in c:\\users\\its\\appdata\\roaming\\python\\python39\\site-packages (from tensorflow) (2.9.1)\n",
      "Requirement already satisfied: gast<=0.4.0,>=0.2.1 in c:\\users\\its\\appdata\\roaming\\python\\python39\\site-packages (from tensorflow) (0.4.0)\n",
      "Requirement already satisfied: grpcio<2.0,>=1.24.3 in c:\\programdata\\anaconda3\\lib\\site-packages (from tensorflow) (1.42.0)\n",
      "Requirement already satisfied: six>=1.12.0 in c:\\programdata\\anaconda3\\lib\\site-packages (from tensorflow) (1.16.0)\n",
      "Requirement already satisfied: absl-py>=1.0.0 in c:\\users\\its\\appdata\\roaming\\python\\python39\\site-packages (from tensorflow) (1.1.0)\n",
      "Requirement already satisfied: setuptools in c:\\programdata\\anaconda3\\lib\\site-packages (from tensorflow) (61.2.0)\n",
      "Requirement already satisfied: opt-einsum>=2.3.2 in c:\\users\\its\\appdata\\roaming\\python\\python39\\site-packages (from tensorflow) (3.3.0)\n",
      "Requirement already satisfied: protobuf<3.20,>=3.9.2 in c:\\programdata\\anaconda3\\lib\\site-packages (from tensorflow) (3.19.1)\n",
      "Requirement already satisfied: keras-preprocessing>=1.1.1 in c:\\users\\its\\appdata\\roaming\\python\\python39\\site-packages (from tensorflow) (1.1.2)\n",
      "Requirement already satisfied: tensorflow-io-gcs-filesystem>=0.23.1 in c:\\users\\its\\appdata\\roaming\\python\\python39\\site-packages (from tensorflow) (0.26.0)\n",
      "Requirement already satisfied: termcolor>=1.1.0 in c:\\users\\its\\appdata\\roaming\\python\\python39\\site-packages (from tensorflow) (1.1.0)\n",
      "Requirement already satisfied: packaging in c:\\programdata\\anaconda3\\lib\\site-packages (from tensorflow) (21.3)\n",
      "Requirement already satisfied: astunparse>=1.6.0 in c:\\users\\its\\appdata\\roaming\\python\\python39\\site-packages (from tensorflow) (1.6.3)\n",
      "Requirement already satisfied: typing-extensions>=3.6.6 in c:\\programdata\\anaconda3\\lib\\site-packages (from tensorflow) (4.1.1)\n",
      "Requirement already satisfied: wrapt>=1.11.0 in c:\\programdata\\anaconda3\\lib\\site-packages (from tensorflow) (1.12.1)\n",
      "Requirement already satisfied: keras<2.10.0,>=2.9.0rc0 in c:\\users\\its\\appdata\\roaming\\python\\python39\\site-packages (from tensorflow) (2.9.0)\n",
      "Requirement already satisfied: libclang>=13.0.0 in c:\\users\\its\\appdata\\roaming\\python\\python39\\site-packages (from tensorflow) (14.0.1)\n",
      "Requirement already satisfied: tensorflow-estimator<2.10.0,>=2.9.0rc0 in c:\\users\\its\\appdata\\roaming\\python\\python39\\site-packages (from tensorflow) (2.9.0)\n",
      "Requirement already satisfied: google-pasta>=0.1.1 in c:\\users\\its\\appdata\\roaming\\python\\python39\\site-packages (from tensorflow) (0.2.0)\n",
      "Requirement already satisfied: h5py>=2.9.0 in c:\\programdata\\anaconda3\\lib\\site-packages (from tensorflow) (3.6.0)\n",
      "Requirement already satisfied: numpy>=1.20 in c:\\programdata\\anaconda3\\lib\\site-packages (from tensorflow) (1.21.5)\n",
      "Requirement already satisfied: flatbuffers<2,>=1.12 in c:\\users\\its\\appdata\\roaming\\python\\python39\\site-packages (from tensorflow) (1.12)\n",
      "Requirement already satisfied: wheel<1.0,>=0.23.0 in c:\\programdata\\anaconda3\\lib\\site-packages (from astunparse>=1.6.0->tensorflow) (0.37.1)\n",
      "Requirement already satisfied: markdown>=2.6.8 in c:\\programdata\\anaconda3\\lib\\site-packages (from tensorboard<2.10,>=2.9->tensorflow) (3.3.4)\n",
      "Requirement already satisfied: requests<3,>=2.21.0 in c:\\programdata\\anaconda3\\lib\\site-packages (from tensorboard<2.10,>=2.9->tensorflow) (2.27.1)\n",
      "Requirement already satisfied: werkzeug>=1.0.1 in c:\\programdata\\anaconda3\\lib\\site-packages (from tensorboard<2.10,>=2.9->tensorflow) (2.0.3)\n",
      "Requirement already satisfied: tensorboard-plugin-wit>=1.6.0 in c:\\users\\its\\appdata\\roaming\\python\\python39\\site-packages (from tensorboard<2.10,>=2.9->tensorflow) (1.8.1)\n",
      "Requirement already satisfied: tensorboard-data-server<0.7.0,>=0.6.0 in c:\\users\\its\\appdata\\roaming\\python\\python39\\site-packages (from tensorboard<2.10,>=2.9->tensorflow) (0.6.1)\n",
      "Requirement already satisfied: google-auth<3,>=1.6.3 in c:\\programdata\\anaconda3\\lib\\site-packages (from tensorboard<2.10,>=2.9->tensorflow) (1.33.0)\n",
      "Requirement already satisfied: google-auth-oauthlib<0.5,>=0.4.1 in c:\\users\\its\\appdata\\roaming\\python\\python39\\site-packages (from tensorboard<2.10,>=2.9->tensorflow) (0.4.6)\n",
      "Requirement already satisfied: cachetools<5.0,>=2.0.0 in c:\\programdata\\anaconda3\\lib\\site-packages (from google-auth<3,>=1.6.3->tensorboard<2.10,>=2.9->tensorflow) (4.2.2)\n",
      "Requirement already satisfied: rsa<5,>=3.1.4 in c:\\programdata\\anaconda3\\lib\\site-packages (from google-auth<3,>=1.6.3->tensorboard<2.10,>=2.9->tensorflow) (4.7.2)\n",
      "Requirement already satisfied: pyasn1-modules>=0.2.1 in c:\\programdata\\anaconda3\\lib\\site-packages (from google-auth<3,>=1.6.3->tensorboard<2.10,>=2.9->tensorflow) (0.2.8)\n",
      "Requirement already satisfied: requests-oauthlib>=0.7.0 in c:\\users\\its\\appdata\\roaming\\python\\python39\\site-packages (from google-auth-oauthlib<0.5,>=0.4.1->tensorboard<2.10,>=2.9->tensorflow) (1.3.1)\n",
      "Requirement already satisfied: pyasn1<0.5.0,>=0.4.6 in c:\\programdata\\anaconda3\\lib\\site-packages (from pyasn1-modules>=0.2.1->google-auth<3,>=1.6.3->tensorboard<2.10,>=2.9->tensorflow) (0.4.8)\n",
      "Requirement already satisfied: urllib3<1.27,>=1.21.1 in c:\\programdata\\anaconda3\\lib\\site-packages (from requests<3,>=2.21.0->tensorboard<2.10,>=2.9->tensorflow) (1.26.9)\n",
      "Requirement already satisfied: charset-normalizer~=2.0.0 in c:\\programdata\\anaconda3\\lib\\site-packages (from requests<3,>=2.21.0->tensorboard<2.10,>=2.9->tensorflow) (2.0.4)\n",
      "Requirement already satisfied: certifi>=2017.4.17 in c:\\programdata\\anaconda3\\lib\\site-packages (from requests<3,>=2.21.0->tensorboard<2.10,>=2.9->tensorflow) (2021.10.8)\n",
      "Requirement already satisfied: idna<4,>=2.5 in c:\\programdata\\anaconda3\\lib\\site-packages (from requests<3,>=2.21.0->tensorboard<2.10,>=2.9->tensorflow) (3.3)\n",
      "Requirement already satisfied: oauthlib>=3.0.0 in c:\\users\\its\\appdata\\roaming\\python\\python39\\site-packages (from requests-oauthlib>=0.7.0->google-auth-oauthlib<0.5,>=0.4.1->tensorboard<2.10,>=2.9->tensorflow) (3.2.0)\n",
      "Requirement already satisfied: pyparsing!=3.0.5,>=2.0.2 in c:\\programdata\\anaconda3\\lib\\site-packages (from packaging->tensorflow) (3.0.4)\n"
     ]
    }
   ],
   "source": [
    "!pip3 install tensorflow"
   ]
  },
  {
   "cell_type": "code",
   "execution_count": 36,
   "metadata": {},
   "outputs": [
    {
     "name": "stdout",
     "output_type": "stream",
     "text": [
      "Defaulting to user installation because normal site-packages is not writeable\n",
      "Requirement already satisfied: jax in c:\\users\\its\\appdata\\roaming\\python\\python39\\site-packages (0.3.13)\n",
      "Requirement already satisfied: scipy>=1.2.1 in c:\\programdata\\anaconda3\\lib\\site-packages (from jax) (1.7.3)\n",
      "Requirement already satisfied: numpy>=1.19 in c:\\programdata\\anaconda3\\lib\\site-packages (from jax) (1.21.5)\n",
      "Requirement already satisfied: typing-extensions in c:\\programdata\\anaconda3\\lib\\site-packages (from jax) (4.1.1)\n",
      "Requirement already satisfied: opt-einsum in c:\\users\\its\\appdata\\roaming\\python\\python39\\site-packages (from jax) (3.3.0)\n",
      "Requirement already satisfied: absl-py in c:\\users\\its\\appdata\\roaming\\python\\python39\\site-packages (from jax) (1.1.0)\n"
     ]
    }
   ],
   "source": [
    "!pip3 install jax"
   ]
  },
  {
   "cell_type": "code",
   "execution_count": 37,
   "metadata": {},
   "outputs": [],
   "source": [
    "from transformers import BigBirdTokenizer"
   ]
  },
  {
   "cell_type": "code",
   "execution_count": 38,
   "metadata": {},
   "outputs": [],
   "source": [
    "from summarizer import Summarizer"
   ]
  },
  {
   "cell_type": "code",
   "execution_count": 39,
   "metadata": {},
   "outputs": [
    {
     "name": "stderr",
     "output_type": "stream",
     "text": [
      "Some weights of the model checkpoint at bert-large-uncased were not used when initializing BertModel: ['cls.predictions.transform.LayerNorm.bias', 'cls.seq_relationship.weight', 'cls.predictions.transform.dense.weight', 'cls.seq_relationship.bias', 'cls.predictions.decoder.weight', 'cls.predictions.transform.LayerNorm.weight', 'cls.predictions.bias', 'cls.predictions.transform.dense.bias']\n",
      "- This IS expected if you are initializing BertModel from the checkpoint of a model trained on another task or with another architecture (e.g. initializing a BertForSequenceClassification model from a BertForPreTraining model).\n",
      "- This IS NOT expected if you are initializing BertModel from the checkpoint of a model that you expect to be exactly identical (initializing a BertForSequenceClassification model from a BertForSequenceClassification model).\n",
      "c:\\ProgramData\\Anaconda3\\lib\\site-packages\\sklearn\\cluster\\_kmeans.py:1036: UserWarning: KMeans is known to have a memory leak on Windows with MKL, when there are less chunks than available threads. You can avoid it by setting the environment variable OMP_NUM_THREADS=1.\n",
      "  warnings.warn(\n"
     ]
    }
   ],
   "source": [
    "summarizer = Summarizer()\n",
    "summary = summarizer(original_text)"
   ]
  },
  {
   "cell_type": "code",
   "execution_count": 40,
   "metadata": {},
   "outputs": [
    {
     "data": {
      "text/plain": [
       "'Dengue remains a significant public health issue in Bangladesh despite vector control initiatives over the past ten years that have targeted mosquitoes and their breeding grounds. Our analysis revealed that the early transmission season (April–July), when dengue cases are rising at a higher rate, presents an opportunity to launch the vector control program sooner and more successfully reduce dengue incidence.'"
      ]
     },
     "execution_count": 40,
     "metadata": {},
     "output_type": "execute_result"
    }
   ],
   "source": [
    "summary"
   ]
  },
  {
   "cell_type": "code",
   "execution_count": 41,
   "metadata": {},
   "outputs": [
    {
     "data": {
      "text/plain": [
       "['Dengue remains a significant public health issue in Bangladesh despite vector control initiatives over the past ten years that have targeted mosquitoes and their breeding grounds.',\n",
       " 'Our analysis revealed that the early transmission season (April–July), when dengue cases are rising at a higher rate, presents an opportunity to launch the vector control program sooner and more successfully reduce dengue incidence.']"
      ]
     },
     "execution_count": 41,
     "metadata": {},
     "output_type": "execute_result"
    }
   ],
   "source": [
    "summary_tokenized = [sentence for sentence in nltk.sent_tokenize(summary)]\n",
    "summary_tokenized"
   ]
  }
 ],
 "metadata": {
  "kernelspec": {
   "display_name": "Python 3.9.12 ('base')",
   "language": "python",
   "name": "python3"
  },
  "language_info": {
   "codemirror_mode": {
    "name": "ipython",
    "version": 3
   },
   "file_extension": ".py",
   "mimetype": "text/x-python",
   "name": "python",
   "nbconvert_exporter": "python",
   "pygments_lexer": "ipython3",
   "version": "3.9.12"
  },
  "orig_nbformat": 4,
  "vscode": {
   "interpreter": {
    "hash": "ad2bdc8ecc057115af97d19610ffacc2b4e99fae6737bb82f5d7fb13d2f2c186"
   }
  }
 },
 "nbformat": 4,
 "nbformat_minor": 2
}
