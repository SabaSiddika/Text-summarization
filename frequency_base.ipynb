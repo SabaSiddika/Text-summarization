{
 "cells": [
  {
   "cell_type": "markdown",
   "metadata": {},
   "source": [
    "Preprocessing the texts"
   ]
  },
  {
   "cell_type": "code",
   "execution_count": 1,
   "metadata": {},
   "outputs": [],
   "source": [
    "import re\n",
    "import string\n",
    "import nltk"
   ]
  },
  {
   "cell_type": "code",
   "execution_count": 2,
   "metadata": {},
   "outputs": [],
   "source": [
    "original_text = \"\"\"Dengue remains a significant public health issue in Bangladesh despite vector control initiatives over the past ten years that have targeted mosquitoes and their breeding grounds. In comparison to 20% of the remaining months (August to March) of the same 12-year period, over 81 percent of the months of April, May, June, and July from 2008 to 2019 had a monthly GF of >1. These consistent results over a long period of time point to the significance of an early vector control campaign in Bangladesh. The month of June was the one in which we found the highest GF, suggesting the peak month for transmission, meaning that there were more secondary cases of dengue in June than any other month. This might be due to the availability of vulnerable human hosts at the start of the transmission seasons along with favorable environmental variables (rainfall that coincides with higher temperatures). June is one of the warmest months of the year in Bangladesh and the first month of the monsoon season. More rapid transmission cycles and infection rates are anticipated as a result of the interaction between increased rainfall, which favorably influences Aedes mosquito breeding locations, and increased temperatures, which are predicted to shorten the extrinsic incubation period and biting interval . We argue that starting the vector-control program in April would be ideal because the estimated GF began to exceed 1 in April and remained above 1 through July. Our analysis revealed that the early transmission season (April–July), when dengue cases are rising at a higher rate, presents an opportunity to launch the vector control program sooner and more successfully reduce dengue incidence. We advise trying out earlier community involvement for eradicating Aedes breeding areas, since this could improve overall control and possibly lower case occurrence.\"\"\"\n",
    "                   "
   ]
  },
  {
   "cell_type": "code",
   "execution_count": 3,
   "metadata": {},
   "outputs": [
    {
     "data": {
      "text/plain": [
       "'Dengue remains a significant public health issue in Bangladesh despite vector control initiatives over the past ten years that have targeted mosquitoes and their breeding grounds. In comparison to 20% of the remaining months (August to March) of the same 12-year period, over 81 percent of the months of April, May, June, and July from 2008 to 2019 had a monthly GF of >1. These consistent results over a long period of time point to the significance of an early vector control campaign in Bangladesh. The month of June was the one in which we found the highest GF, suggesting the peak month for transmission, meaning that there were more secondary cases of dengue in June than any other month. This might be due to the availability of vulnerable human hosts at the start of the transmission seasons along with favorable environmental variables (rainfall that coincides with higher temperatures). June is one of the warmest months of the year in Bangladesh and the first month of the monsoon season. More rapid transmission cycles and infection rates are anticipated as a result of the interaction between increased rainfall, which favorably influences Aedes mosquito breeding locations, and increased temperatures, which are predicted to shorten the extrinsic incubation period and biting interval . We argue that starting the vector-control program in April would be ideal because the estimated GF began to exceed 1 in April and remained above 1 through July. Our analysis revealed that the early transmission season (April–July), when dengue cases are rising at a higher rate, presents an opportunity to launch the vector control program sooner and more successfully reduce dengue incidence. We advise trying out earlier community involvement for eradicating Aedes breeding areas, since this could improve overall control and possibly lower case occurrence.'"
      ]
     },
     "execution_count": 3,
     "metadata": {},
     "output_type": "execute_result"
    }
   ],
   "source": [
    "original_text"
   ]
  },
  {
   "cell_type": "code",
   "execution_count": 4,
   "metadata": {},
   "outputs": [],
   "source": [
    "original_text = re.sub(r'\\s+', ' ', original_text)"
   ]
  },
  {
   "cell_type": "code",
   "execution_count": 5,
   "metadata": {},
   "outputs": [
    {
     "data": {
      "text/plain": [
       "'Dengue remains a significant public health issue in Bangladesh despite vector control initiatives over the past ten years that have targeted mosquitoes and their breeding grounds. In comparison to 20% of the remaining months (August to March) of the same 12-year period, over 81 percent of the months of April, May, June, and July from 2008 to 2019 had a monthly GF of >1. These consistent results over a long period of time point to the significance of an early vector control campaign in Bangladesh. The month of June was the one in which we found the highest GF, suggesting the peak month for transmission, meaning that there were more secondary cases of dengue in June than any other month. This might be due to the availability of vulnerable human hosts at the start of the transmission seasons along with favorable environmental variables (rainfall that coincides with higher temperatures). June is one of the warmest months of the year in Bangladesh and the first month of the monsoon season. More rapid transmission cycles and infection rates are anticipated as a result of the interaction between increased rainfall, which favorably influences Aedes mosquito breeding locations, and increased temperatures, which are predicted to shorten the extrinsic incubation period and biting interval . We argue that starting the vector-control program in April would be ideal because the estimated GF began to exceed 1 in April and remained above 1 through July. Our analysis revealed that the early transmission season (April–July), when dengue cases are rising at a higher rate, presents an opportunity to launch the vector control program sooner and more successfully reduce dengue incidence. We advise trying out earlier community involvement for eradicating Aedes breeding areas, since this could improve overall control and possibly lower case occurrence.'"
      ]
     },
     "execution_count": 5,
     "metadata": {},
     "output_type": "execute_result"
    }
   ],
   "source": [
    "original_text"
   ]
  },
  {
   "cell_type": "code",
   "execution_count": 6,
   "metadata": {},
   "outputs": [
    {
     "data": {
      "text/plain": [
       "1860"
      ]
     },
     "execution_count": 6,
     "metadata": {},
     "output_type": "execute_result"
    }
   ],
   "source": [
    "len(original_text)"
   ]
  },
  {
   "cell_type": "code",
   "execution_count": 7,
   "metadata": {},
   "outputs": [
    {
     "name": "stderr",
     "output_type": "stream",
     "text": [
      "[nltk_data] Downloading package punkt to\n",
      "[nltk_data]     C:\\Users\\ITS\\AppData\\Roaming\\nltk_data...\n",
      "[nltk_data]   Package punkt is already up-to-date!\n"
     ]
    },
    {
     "data": {
      "text/plain": [
       "True"
      ]
     },
     "execution_count": 7,
     "metadata": {},
     "output_type": "execute_result"
    }
   ],
   "source": [
    "nltk.download('punkt')"
   ]
  },
  {
   "cell_type": "code",
   "execution_count": 8,
   "metadata": {},
   "outputs": [
    {
     "name": "stderr",
     "output_type": "stream",
     "text": [
      "[nltk_data] Downloading package stopwords to\n",
      "[nltk_data]     C:\\Users\\ITS\\AppData\\Roaming\\nltk_data...\n",
      "[nltk_data]   Package stopwords is already up-to-date!\n"
     ]
    },
    {
     "data": {
      "text/plain": [
       "True"
      ]
     },
     "execution_count": 8,
     "metadata": {},
     "output_type": "execute_result"
    }
   ],
   "source": [
    "nltk.download('stopwords')"
   ]
  },
  {
   "cell_type": "code",
   "execution_count": 9,
   "metadata": {},
   "outputs": [
    {
     "name": "stdout",
     "output_type": "stream",
     "text": [
      "['i', 'me', 'my', 'myself', 'we', 'our', 'ours', 'ourselves', 'you', \"you're\", \"you've\", \"you'll\", \"you'd\", 'your', 'yours', 'yourself', 'yourselves', 'he', 'him', 'his', 'himself', 'she', \"she's\", 'her', 'hers', 'herself', 'it', \"it's\", 'its', 'itself', 'they', 'them', 'their', 'theirs', 'themselves', 'what', 'which', 'who', 'whom', 'this', 'that', \"that'll\", 'these', 'those', 'am', 'is', 'are', 'was', 'were', 'be', 'been', 'being', 'have', 'has', 'had', 'having', 'do', 'does', 'did', 'doing', 'a', 'an', 'the', 'and', 'but', 'if', 'or', 'because', 'as', 'until', 'while', 'of', 'at', 'by', 'for', 'with', 'about', 'against', 'between', 'into', 'through', 'during', 'before', 'after', 'above', 'below', 'to', 'from', 'up', 'down', 'in', 'out', 'on', 'off', 'over', 'under', 'again', 'further', 'then', 'once', 'here', 'there', 'when', 'where', 'why', 'how', 'all', 'any', 'both', 'each', 'few', 'more', 'most', 'other', 'some', 'such', 'no', 'nor', 'not', 'only', 'own', 'same', 'so', 'than', 'too', 'very', 's', 't', 'can', 'will', 'just', 'don', \"don't\", 'should', \"should've\", 'now', 'd', 'll', 'm', 'o', 're', 've', 'y', 'ain', 'aren', \"aren't\", 'couldn', \"couldn't\", 'didn', \"didn't\", 'doesn', \"doesn't\", 'hadn', \"hadn't\", 'hasn', \"hasn't\", 'haven', \"haven't\", 'isn', \"isn't\", 'ma', 'mightn', \"mightn't\", 'mustn', \"mustn't\", 'needn', \"needn't\", 'shan', \"shan't\", 'shouldn', \"shouldn't\", 'wasn', \"wasn't\", 'weren', \"weren't\", 'won', \"won't\", 'wouldn', \"wouldn't\"]\n"
     ]
    }
   ],
   "source": [
    "stopwords = nltk.corpus.stopwords.words('english')\n",
    "print(stopwords)"
   ]
  },
  {
   "cell_type": "code",
   "execution_count": 10,
   "metadata": {},
   "outputs": [
    {
     "data": {
      "text/plain": [
       "179"
      ]
     },
     "execution_count": 10,
     "metadata": {},
     "output_type": "execute_result"
    }
   ],
   "source": [
    "len(stopwords)"
   ]
  },
  {
   "cell_type": "code",
   "execution_count": 11,
   "metadata": {},
   "outputs": [
    {
     "data": {
      "text/plain": [
       "'!\"#$%&\\'()*+,-./:;<=>?@[\\\\]^_`{|}~'"
      ]
     },
     "execution_count": 11,
     "metadata": {},
     "output_type": "execute_result"
    }
   ],
   "source": [
    "string.punctuation"
   ]
  },
  {
   "cell_type": "code",
   "execution_count": 12,
   "metadata": {},
   "outputs": [],
   "source": [
    "def preprocess(text):\n",
    "    formatted_text = text.lower()\n",
    "    tokens = []\n",
    "    for token in nltk.word_tokenize(formatted_text):\n",
    "      tokens.append(token)\n",
    "    #print(tokens)\n",
    "    tokens = [word for word in tokens if word not in stopwords and word not in string.punctuation]\n",
    "    formatted_text = ' '.join(element for element in tokens)\n",
    "\n",
    "    return formatted_text"
   ]
  },
  {
   "cell_type": "code",
   "execution_count": 13,
   "metadata": {},
   "outputs": [
    {
     "data": {
      "text/plain": [
       "'dengue remains significant public health issue bangladesh despite vector control initiatives past ten years targeted mosquitoes breeding grounds comparison 20 remaining months august march 12-year period 81 percent months april may june july 2008 2019 monthly gf 1 consistent results long period time point significance early vector control campaign bangladesh month june one found highest gf suggesting peak month transmission meaning secondary cases dengue june month might due availability vulnerable human hosts start transmission seasons along favorable environmental variables rainfall coincides higher temperatures june one warmest months year bangladesh first month monsoon season rapid transmission cycles infection rates anticipated result interaction increased rainfall favorably influences aedes mosquito breeding locations increased temperatures predicted shorten extrinsic incubation period biting interval argue starting vector-control program april would ideal estimated gf began exceed 1 april remained 1 july analysis revealed early transmission season april–july dengue cases rising higher rate presents opportunity launch vector control program sooner successfully reduce dengue incidence advise trying earlier community involvement eradicating aedes breeding areas since could improve overall control possibly lower case occurrence'"
      ]
     },
     "execution_count": 13,
     "metadata": {},
     "output_type": "execute_result"
    }
   ],
   "source": [
    "formatted_text = preprocess(original_text)\n",
    "formatted_text"
   ]
  },
  {
   "cell_type": "markdown",
   "metadata": {},
   "source": [
    "Word frequency"
   ]
  },
  {
   "cell_type": "code",
   "execution_count": 14,
   "metadata": {},
   "outputs": [
    {
     "data": {
      "text/plain": [
       "FreqDist({'dengue': 4, 'control': 4, 'june': 4, 'month': 4, 'transmission': 4, 'bangladesh': 3, 'vector': 3, 'breeding': 3, 'months': 3, 'period': 3, ...})"
      ]
     },
     "execution_count": 14,
     "metadata": {},
     "output_type": "execute_result"
    }
   ],
   "source": [
    "word_frequency = nltk.FreqDist(nltk.word_tokenize(formatted_text))\n",
    "word_frequency"
   ]
  },
  {
   "cell_type": "code",
   "execution_count": 15,
   "metadata": {},
   "outputs": [
    {
     "data": {
      "text/plain": [
       "0"
      ]
     },
     "execution_count": 15,
     "metadata": {},
     "output_type": "execute_result"
    }
   ],
   "source": [
    "word_frequency['situations']"
   ]
  },
  {
   "cell_type": "markdown",
   "metadata": {},
   "source": [
    "word_frequency.keys()"
   ]
  },
  {
   "cell_type": "code",
   "execution_count": 16,
   "metadata": {},
   "outputs": [
    {
     "data": {
      "text/plain": [
       "132"
      ]
     },
     "execution_count": 16,
     "metadata": {},
     "output_type": "execute_result"
    }
   ],
   "source": [
    "len(word_frequency.keys())"
   ]
  },
  {
   "cell_type": "code",
   "execution_count": 17,
   "metadata": {},
   "outputs": [
    {
     "data": {
      "text/plain": [
       "4"
      ]
     },
     "execution_count": 17,
     "metadata": {},
     "output_type": "execute_result"
    }
   ],
   "source": [
    "highest_frequency = max(word_frequency.values())\n",
    "highest_frequency"
   ]
  },
  {
   "cell_type": "code",
   "execution_count": 18,
   "metadata": {},
   "outputs": [],
   "source": [
    "for word in word_frequency.keys():\n",
    "      #print(word)\n",
    "  word_frequency[word] = (word_frequency[word] / highest_frequency)"
   ]
  },
  {
   "cell_type": "markdown",
   "metadata": {},
   "source": [
    "weighted word frequency"
   ]
  },
  {
   "cell_type": "code",
   "execution_count": 19,
   "metadata": {},
   "outputs": [
    {
     "data": {
      "text/plain": [
       "FreqDist({'dengue': 1.0, 'control': 1.0, 'june': 1.0, 'month': 1.0, 'transmission': 1.0, 'bangladesh': 0.75, 'vector': 0.75, 'breeding': 0.75, 'months': 0.75, 'period': 0.75, ...})"
      ]
     },
     "execution_count": 19,
     "metadata": {},
     "output_type": "execute_result"
    }
   ],
   "source": [
    "word_frequency"
   ]
  },
  {
   "cell_type": "code",
   "execution_count": 20,
   "metadata": {},
   "outputs": [
    {
     "data": {
      "image/png": "[encoded data removed]",
      "text/plain": [
       "<Figure size 432x288 with 1 Axes>"
      ]
     },
     "metadata": {
      "needs_background": "light"
     },
     "output_type": "display_data"
    },
    {
     "data": {
      "text/plain": [
       "<AxesSubplot:xlabel='Samples', ylabel='Counts'>"
      ]
     },
     "execution_count": 20,
     "metadata": {},
     "output_type": "execute_result"
    }
   ],
   "source": [
    "frequency_dist = nltk.FreqDist(word_frequency)\n",
    "frequency_dist.plot(30)"
   ]
  },
  {
   "cell_type": "markdown",
   "metadata": {},
   "source": [
    "Sentence tokenization"
   ]
  },
  {
   "cell_type": "code",
   "execution_count": 21,
   "metadata": {},
   "outputs": [
    {
     "data": {
      "text/plain": [
       "['Phd John went home', ' He arrived early', '']"
      ]
     },
     "execution_count": 21,
     "metadata": {},
     "output_type": "execute_result"
    }
   ],
   "source": [
    "'Phd John went home. He arrived early.'.split('.')"
   ]
  },
  {
   "cell_type": "code",
   "execution_count": 22,
   "metadata": {},
   "outputs": [
    {
     "data": {
      "text/plain": [
       "['Ph', 'd John went home', ' He arrived early', '']"
      ]
     },
     "execution_count": 22,
     "metadata": {},
     "output_type": "execute_result"
    }
   ],
   "source": [
    "'Ph.d John went home. He arrived early.'.split('.')"
   ]
  },
  {
   "cell_type": "code",
   "execution_count": 23,
   "metadata": {},
   "outputs": [
    {
     "data": {
      "text/plain": [
       "['Ph.d John went home.', 'He arrived early.']"
      ]
     },
     "execution_count": 23,
     "metadata": {},
     "output_type": "execute_result"
    }
   ],
   "source": [
    "nltk.sent_tokenize('Ph.d John went home. He arrived early.')"
   ]
  },
  {
   "cell_type": "code",
   "execution_count": 24,
   "metadata": {},
   "outputs": [
    {
     "data": {
      "text/plain": [
       "['Dengue remains a significant public health issue in Bangladesh despite vector control initiatives over the past ten years that have targeted mosquitoes and their breeding grounds.',\n",
       " 'In comparison to 20% of the remaining months (August to March) of the same 12-year period, over 81 percent of the months of April, May, June, and July from 2008 to 2019 had a monthly GF of >1.',\n",
       " 'These consistent results over a long period of time point to the significance of an early vector control campaign in Bangladesh.',\n",
       " 'The month of June was the one in which we found the highest GF, suggesting the peak month for transmission, meaning that there were more secondary cases of dengue in June than any other month.',\n",
       " 'This might be due to the availability of vulnerable human hosts at the start of the transmission seasons along with favorable environmental variables (rainfall that coincides with higher temperatures).',\n",
       " 'June is one of the warmest months of the year in Bangladesh and the first month of the monsoon season.',\n",
       " 'More rapid transmission cycles and infection rates are anticipated as a result of the interaction between increased rainfall, which favorably influences Aedes mosquito breeding locations, and increased temperatures, which are predicted to shorten the extrinsic incubation period and biting interval .',\n",
       " 'We argue that starting the vector-control program in April would be ideal because the estimated GF began to exceed 1 in April and remained above 1 through July.',\n",
       " 'Our analysis revealed that the early transmission season (April–July), when dengue cases are rising at a higher rate, presents an opportunity to launch the vector control program sooner and more successfully reduce dengue incidence.',\n",
       " 'We advise trying out earlier community involvement for eradicating Aedes breeding areas, since this could improve overall control and possibly lower case occurrence.']"
      ]
     },
     "execution_count": 24,
     "metadata": {},
     "output_type": "execute_result"
    }
   ],
   "source": [
    "sentence_list = nltk.sent_tokenize(original_text)\n",
    "sentence_list"
   ]
  },
  {
   "cell_type": "markdown",
   "metadata": {},
   "source": [
    "Generate the summary (score for sentences)"
   ]
  },
  {
   "cell_type": "code",
   "execution_count": 25,
   "metadata": {},
   "outputs": [
    {
     "data": {
      "text/plain": [
       "FreqDist({'dengue': 1.0, 'control': 1.0, 'june': 1.0, 'month': 1.0, 'transmission': 1.0, 'bangladesh': 0.75, 'vector': 0.75, 'breeding': 0.75, 'months': 0.75, 'period': 0.75, ...})"
      ]
     },
     "execution_count": 25,
     "metadata": {},
     "output_type": "execute_result"
    }
   ],
   "source": [
    "word_frequency"
   ]
  },
  {
   "cell_type": "code",
   "execution_count": 26,
   "metadata": {},
   "outputs": [],
   "source": [
    "score_sentences = {}\n",
    "for sentence in sentence_list:\n",
    "  #print(sentence)\n",
    "  for word in nltk.word_tokenize(sentence.lower()):\n",
    "    #print(word)\n",
    "    if sentence not in score_sentences.keys():\n",
    "      score_sentences[sentence] = word_frequency[word]\n",
    "    else:\n",
    "      score_sentences[sentence] += word_frequency[word]"
   ]
  },
  {
   "cell_type": "code",
   "execution_count": 27,
   "metadata": {},
   "outputs": [
    {
     "data": {
      "text/plain": [
       "{'Dengue remains a significant public health issue in Bangladesh despite vector control initiatives over the past ten years that have targeted mosquitoes and their breeding grounds.': 7.5,\n",
       " 'In comparison to 20% of the remaining months (August to March) of the same 12-year period, over 81 percent of the months of April, May, June, and July from 2008 to 2019 had a monthly GF of >1.': 9.0,\n",
       " 'These consistent results over a long period of time point to the significance of an early vector control campaign in Bangladesh.': 5.5,\n",
       " 'The month of June was the one in which we found the highest GF, suggesting the peak month for transmission, meaning that there were more secondary cases of dengue in June than any other month.': 10.25,\n",
       " 'This might be due to the availability of vulnerable human hosts at the start of the transmission seasons along with favorable environmental variables (rainfall that coincides with higher temperatures).': 5.75,\n",
       " 'June is one of the warmest months of the year in Bangladesh and the first month of the monsoon season.': 5.5,\n",
       " 'More rapid transmission cycles and infection rates are anticipated as a result of the interaction between increased rainfall, which favorably influences Aedes mosquito breeding locations, and increased temperatures, which are predicted to shorten the extrinsic incubation period and biting interval .': 9.25,\n",
       " 'We argue that starting the vector-control program in April would be ideal because the estimated GF began to exceed 1 in April and remained above 1 through July.': 7.0,\n",
       " 'Our analysis revealed that the early transmission season (April–July), when dengue cases are rising at a higher rate, presents an opportunity to launch the vector control program sooner and more successfully reduce dengue incidence.': 10.25,\n",
       " 'We advise trying out earlier community involvement for eradicating Aedes breeding areas, since this could improve overall control and possibly lower case occurrence.': 6.0}"
      ]
     },
     "execution_count": 27,
     "metadata": {},
     "output_type": "execute_result"
    }
   ],
   "source": [
    "score_sentences"
   ]
  },
  {
   "cell_type": "code",
   "execution_count": null,
   "metadata": {},
   "outputs": [
    {
     "data": {
      "text/plain": [
       "dict_keys(['Dengue remains a significant public health issue in Bangladesh despite vector control initiatives over the past ten years that have targeted mosquitoes and their breeding grounds.', 'In comparison to 20% of the remaining months (August to March) of the same 12-year period, over 81 percent of the months of April, May, June, and July from 2008 to 2019 had a monthly GF of >1.', 'These consistent results over a long period of time point to the significance of an early vector control campaign in Bangladesh.', 'The month of June was the one in which we found the highest GF, suggesting the peak month for transmission, meaning that there were more secondary cases of dengue in June than any other month.', 'This might be due to the availability of vulnerable human hosts at the start of the transmission seasons along with favorable environmental variables (rainfall that coincides with higher temperatures).', 'June is one of the warmest months of the year in Bangladesh and the first month of the monsoon season.', 'More rapid transmission cycles and infection rates are anticipated as a result of the interaction between increased rainfall, which favorably influences Aedes mosquito breeding locations, and increased temperatures, which are predicted to shorten the extrinsic incubation period and biting interval .', 'We argue that starting the vector-control program in April would be ideal because the estimated GF began to exceed 1 in April and remained above 1 through July.', 'Our analysis revealed that the early transmission season (April–July), when dengue cases are rising at a higher rate, presents an opportunity to launch the vector control program sooner and more successfully reduce dengue incidence.', 'We advise trying out earlier community involvement for eradicating Aedes breeding areas, since this could improve overall control and possibly lower case occurrence.'])"
      ]
     },
     "execution_count": 98,
     "metadata": {},
     "output_type": "execute_result"
    }
   ],
   "source": [
    "score_sentences.keys()"
   ]
  },
  {
   "cell_type": "code",
   "execution_count": null,
   "metadata": {},
   "outputs": [],
   "source": [
    "import heapq\n",
    "best_sentences = heapq.nlargest(3, score_sentences, key = score_sentences.get)"
   ]
  },
  {
   "cell_type": "code",
   "execution_count": null,
   "metadata": {},
   "outputs": [
    {
     "data": {
      "text/plain": [
       "['The month of June was the one in which we found the highest GF, suggesting the peak month for transmission, meaning that there were more secondary cases of dengue in June than any other month.',\n",
       " 'Our analysis revealed that the early transmission season (April–July), when dengue cases are rising at a higher rate, presents an opportunity to launch the vector control program sooner and more successfully reduce dengue incidence.',\n",
       " 'More rapid transmission cycles and infection rates are anticipated as a result of the interaction between increased rainfall, which favorably influences Aedes mosquito breeding locations, and increased temperatures, which are predicted to shorten the extrinsic incubation period and biting interval .']"
      ]
     },
     "execution_count": 100,
     "metadata": {},
     "output_type": "execute_result"
    }
   ],
   "source": [
    "best_sentences"
   ]
  },
  {
   "cell_type": "code",
   "execution_count": null,
   "metadata": {},
   "outputs": [
    {
     "data": {
      "text/plain": [
       "'When evaluating a product\\'s nutritional value, double-check health claims such as \"low in fat\" or \"sugar free,\" as these can be misleading. Because the product may also contain salt or fat and be high in kilojoules, even sugar-free products can be considered junk foods. Junk food is defined as food that is high in fat, salt, and sugar but low in nutrients such as fiber, vitamins, and minerals.'"
      ]
     },
     "execution_count": 82,
     "metadata": {},
     "output_type": "execute_result"
    }
   ],
   "source": [
    "summary = ' '.join(best_sentences)\n",
    "summary"
   ]
  },
  {
   "cell_type": "code",
   "execution_count": null,
   "metadata": {},
   "outputs": [
    {
     "data": {
      "text/plain": [
       "396"
      ]
     },
     "execution_count": 83,
     "metadata": {},
     "output_type": "execute_result"
    }
   ],
   "source": [
    "len(summary)"
   ]
  },
  {
   "cell_type": "code",
   "execution_count": null,
   "metadata": {},
   "outputs": [
    {
     "data": {
      "text/plain": [
       "'Artificial intelligence is human like intelligence. It is the study of intelligent artificial agents. Science and engineering to produce intelligent machines. Solve problems and have intelligence. An AI system is made up of an agent and its surroundings. An agent is anything that can perceive its surroundings through sensors and act on them through effectors. Intelligent agents must be capable of setting and achieving goals. In classical planning problems, the agent can assume that it is the only system acting in the world, allowing the agent to be confident in the outcomes of its actions. However, if the agent is not the only actor, the agent must be able to reason under uncertainty. This necessitates an agent that not only assesses its surroundings and makes predictions, but also evaluates its predictions and adapts based on its findings.'"
      ]
     },
     "execution_count": 95,
     "metadata": {},
     "output_type": "execute_result"
    }
   ],
   "source": [
    "original_text"
   ]
  },
  {
   "cell_type": "markdown",
   "metadata": {},
   "source": [
    "Visualizing the summary in HTML"
   ]
  },
  {
   "cell_type": "code",
   "execution_count": null,
   "metadata": {},
   "outputs": [],
   "source": [
    "from IPython.core.display import HTML"
   ]
  },
  {
   "cell_type": "code",
   "execution_count": null,
   "metadata": {},
   "outputs": [
    {
     "data": {
      "text/html": [
       "<h2>Summary</h2>"
      ],
      "text/plain": [
       "<IPython.core.display.HTML object>"
      ]
     },
     "metadata": {},
     "output_type": "display_data"
    },
    {
     "data": {
      "text/html": [
       " Artificial intelligence is human like intelligence. It is the study of intelligent artificial agents. Science and engineering to produce intelligent machines. Solve problems and have intelligence. An AI system is made up of an agent and its surroundings. An agent is anything that can perceive its surroundings through sensors and act on them through effectors. Intelligent agents must be capable of setting and achieving goals. <mark>In classical planning problems, the agent can assume that it is the only system acting in the world, allowing the agent to be confident in the outcomes of its actions.</mark> <mark>However, if the agent is not the only actor, the agent must be able to reason under uncertainty.</mark> <mark>This necessitates an agent that not only assesses its surroundings and makes predictions, but also evaluates its predictions and adapts based on its findings.</mark>"
      ],
      "text/plain": [
       "<IPython.core.display.HTML object>"
      ]
     },
     "metadata": {},
     "output_type": "display_data"
    }
   ],
   "source": [
    "text = ''\n",
    "display(HTML(f'<h2>Summary</h2>'))\n",
    "for sentence in sentence_list:\n",
    "  #print(sentence)\n",
    "  #text += sentence\n",
    "  if sentence in best_sentences:\n",
    "    text += ' ' + sentence.replace(sentence, f\"<mark>{sentence}</mark>\")\n",
    "  else:\n",
    "    text += ' ' + sentence\n",
    "\n",
    "display(HTML(f\"\"\"{text}\"\"\"))"
   ]
  },
  {
   "cell_type": "markdown",
   "metadata": {},
   "source": [
    "Extracting texts from the Internet"
   ]
  },
  {
   "cell_type": "code",
   "execution_count": null,
   "metadata": {},
   "outputs": [
    {
     "name": "stdout",
     "output_type": "stream",
     "text": [
      "Defaulting to user installation because normal site-packages is not writeable"
     ]
    }
   ],
   "source": [
    "!pip3 install goose3"
   ]
  },
  {
   "cell_type": "code",
   "execution_count": null,
   "metadata": {},
   "outputs": [],
   "source": [
    "from goose3 import Goose"
   ]
  },
  {
   "cell_type": "code",
   "execution_count": null,
   "metadata": {},
   "outputs": [],
   "source": [
    "g = Goose()\n",
    "url = 'https://en.wikipedia.org/wiki/Automatic_summarization'\n",
    "article = g.extract(url)"
   ]
  },
  {
   "cell_type": "code",
   "execution_count": null,
   "metadata": {},
   "outputs": [
    {
     "data": {
      "text/plain": [
       "{'meta': {'description': '',\n",
       "  'lang': 'en',\n",
       "  'keywords': '',\n",
       "  'favicon': '/static/apple-touch/wikipedia.png',\n",
       "  'canonical': 'https://en.wikipedia.org/wiki/Automatic_summarization',\n",
       "  'encoding': 'UTF-8'},\n",
       " 'image': None,\n",
       " 'domain': 'en.wikipedia.org',\n",
       " 'title': 'Automatic summarization - Wikipedia',\n",
       " 'cleaned_text': 'Automatic summarization is the process of shortening a set of data computationally, to create a subset (a summary) that represents the most important or relevant information within the original content.\\n\\nIn addition to text, images and videos can also be summarized. Text summarization finds the most informative sentences in a document;[1] various methods of image summarization are the subject of ongoing research, with some looking to display the most representative images from a given collection or generating a video;[2][3][4] video summarization extracts the most important frames from the video content.[5]\\n\\nThere are two general approaches to automatic summarization: extraction and abstraction.\\n\\nHere, content is extracted from the original data, but the extracted content is not modified in any way. Examples of extracted content include key-phrases that can be used to \"tag\" or index a text document, or key sentences (including headings) that collectively comprise an abstract, and representative images or video segments, as stated above. For text, extraction is analogous to the process of skimming, where the summary (if available), headings and subheadings, figures, the first and last paragraphs of a section, and optionally the first and last sentences in a paragraph are read before one chooses to read the entire document in detail.[7] Other examples of extraction that include key sequences of text in terms of clinical relevance (including patient/problem, intervention, and outcome).[8]\\n\\nThis has been applied mainly for text. Abstractive methods build an internal semantic representation of the original content, and then use this representation to create a summary that is closer to what a human might express. Abstraction may transform the extracted content by paraphrasing sections of the source document, to condense a text more strongly than extraction. Such transformation, however, is computationally much more challenging than extraction, involving both natural language processing and often a deep understanding of the domain of the original text in cases where the original document relates to a special field of knowledge. \"Paraphrasing\" is even more difficult to apply to image and video, which is why most summarization systems are extractive.\\n\\nApproaches aimed at higher summarization quality rely on combined software and human effort. In Machine Aided Human Summarization, extractive techniques highlight candidate passages for inclusion (to which the human adds or removes text). In Human Aided Machine Summarization, a human post-processes software output, in the same way that one edits the output of automatic translation by Google Translate.\\n\\nThere are broadly two types of extractive summarization tasks depending on what the summarization program focuses on. The first is generic summarization, which focuses on obtaining a generic summary or abstract of the collection (whether documents, or sets of images, or videos, news stories etc.). The second is query relevant summarization, sometimes called query-based summarization, which summarizes objects specific to a query. Summarization systems are able to create both query relevant text summaries and generic machine-generated summaries depending on what the user needs.\\n\\nAn example of a summarization problem is document summarization, which attempts to automatically produce an abstract from a given document. Sometimes one might be interested in generating a summary from a single source document, while others can use multiple source documents (for example, a cluster of articles on the same topic). This problem is called multi-document summarization. A related application is summarizing news articles. Imagine a system, which automatically pulls together news articles on a given topic (from the web), and concisely represents the latest news as a summary.\\n\\nImage collection summarization is another application example of automatic summarization. It consists in selecting a representative set of images from a larger set of images.[9] A summary in this context is useful to show the most representative images of results in an image collection exploration system. Video summarization is a related domain, where the system automatically creates a trailer of a long video. This also has applications in consumer or personal videos, where one might want to skip the boring or repetitive actions. Similarly, in surveillance videos, one would want to extract important and suspicious activity, while ignoring all the boring and redundant frames captured.\\n\\nAt a very high level, summarization algorithms try to find subsets of objects (like set of sentences, or a set of images), which cover information of the entire set. This is also called the core-set. These algorithms model notions like diversity, coverage, information and representativeness of the summary. Query based summarization techniques, additionally model for relevance of the summary with the query. Some techniques and algorithms which naturally model summarization problems are TextRank and PageRank, Submodular set function, Determinantal point process, maximal marginal relevance (MMR) etc.\\n\\nThe task is the following. You are given a piece of text, such as a journal article, and you must produce a list of keywords or key[phrase]s that capture the primary topics discussed in the text.[10] In the case of research articles, many authors provide manually assigned keywords, but most text lacks pre-existing keyphrases. For example, news articles rarely have keyphrases attached, but it would be useful to be able to automatically do so for a number of applications discussed below. Consider the example text from a news article:\\n\\nA keyphrase extractor might select \"Army Corps of Engineers\", \"President Bush\", \"New Orleans\", and \"defective flood-control pumps\" as keyphrases. These are pulled directly from the text. In contrast, an abstractive keyphrase system would somehow internalize the content and generate keyphrases that do not appear in the text, but more closely resemble what a human might produce, such as \"political negligence\" or \"inadequate protection from floods\". Abstraction requires a deep understanding of the text, which makes it difficult for a computer system. Keyphrases have many applications. They can enable document browsing by providing a short summary, improve information retrieval (if documents have keyphrases assigned, a user could search by keyphrase to produce more reliable hits than a full-text search), and be employed in generating index entries for a large text corpus.\\n\\nDepending on the different literature and the definition of key terms, words or phrases, keyword extraction is a highly related theme.\\n\\nBeginning with the work of Turney,[11] many researchers have approached keyphrase extraction as a supervised machine learning problem. Given a document, we construct an example for each unigram, bigram, and trigram found in the text (though other text units are also possible, as discussed below). We then compute various features describing each example (e.g., does the phrase begin with an upper-case letter?). We assume there are known keyphrases available for a set of training documents. Using the known keyphrases, we can assign positive or negative labels to the examples. Then we learn a classifier that can discriminate between positive and negative examples as a function of the features. Some classifiers make a binary classification for a test example, while others assign a probability of being a keyphrase. For instance, in the above text, we might learn a rule that says phrases with initial capital letters are likely to be keyphrases. After training a learner, we can select keyphrases for test documents in the following manner. We apply the same example-generation strategy to the test documents, then run each example through the learner. We can determine the keyphrases by looking at binary classification decisions or probabilities returned from our learned model. If probabilities are given, a threshold is used to select the keyphrases. Keyphrase extractors are generally evaluated using precision and recall. Precision measures how many of the proposed keyphrases are actually correct. Recall measures how many of the true keyphrases your system proposed. The two measures can be combined in an F-score, which is the harmonic mean of the two (F = 2PR/(P + R) ). Matches between the proposed keyphrases and the known keyphrases can be checked after stemming or applying some other text normalization.\\n\\nDesigning a supervised keyphrase extraction system involves deciding on several choices (some of these apply to unsupervised, too). The first choice is exactly how to generate examples. Turney and others have used all possible unigrams, bigrams, and trigrams without intervening punctuation and after removing stopwords. Hulth showed that you can get some improvement by selecting examples to be sequences of tokens that match certain patterns of part-of-speech tags. Ideally, the mechanism for generating examples produces all the known labeled keyphrases as candidates, though this is often not the case. For example, if we use only unigrams, bigrams, and trigrams, then we will never be able to extract a known keyphrase containing four words. Thus, recall may suffer. However, generating too many examples can also lead to low precision.\\n\\nWe also need to create features that describe the examples and are informative enough to allow a learning algorithm to discriminate keyphrases from non- keyphrases. Typically features involve various term frequencies (how many times a phrase appears in the current text or in a larger corpus), the length of the example, relative position of the first occurrence, various boolean syntactic features (e.g., contains all caps), etc. The Turney paper used about 12 such features. Hulth uses a reduced set of features, which were found most successful in the KEA (Keyphrase Extraction Algorithm) work derived from Turney\\'s seminal paper.\\n\\nIn the end, the system will need to return a list of keyphrases for a test document, so we need to have a way to limit the number. Ensemble methods (i.e., using votes from several classifiers) have been used to produce numeric scores that can be thresholded to provide a user-provided number of keyphrases. This is the technique used by Turney with C4.5 decision trees. Hulth used a single binary classifier so the learning algorithm implicitly determines the appropriate number.\\n\\nOnce examples and features are created, we need a way to learn to predict keyphrases. Virtually any supervised learning algorithm could be used, such as decision trees, Naive Bayes, and rule induction. In the case of Turney\\'s GenEx algorithm, a genetic algorithm is used to learn parameters for a domain-specific keyphrase extraction algorithm. The extractor follows a series of heuristics to identify keyphrases. The genetic algorithm optimizes parameters for these heuristics with respect to performance on training documents with known key phrases.\\n\\nAnother keyphrase extraction algorithm is TextRank. While supervised methods have some nice properties, like being able to produce interpretable rules for what features characterize a keyphrase, they also require a large amount of training data. Many documents with known keyphrases are needed. Furthermore, training on a specific domain tends to customize the extraction process to that domain, so the resulting classifier is not necessarily portable, as some of Turney\\'s results demonstrate. Unsupervised keyphrase extraction removes the need for training data. It approaches the problem from a different angle. Instead of trying to learn explicit features that characterize keyphrases, the TextRank algorithm[12] exploits the structure of the text itself to determine keyphrases that appear \"central\" to the text in the same way that PageRank selects important Web pages. Recall this is based on the notion of \"prestige\" or \"recommendation\" from social networks. In this way, TextRank does not rely on any previous training data at all, but rather can be run on any arbitrary piece of text, and it can produce output simply based on the text\\'s intrinsic properties. Thus the algorithm is easily portable to new domains and languages.\\n\\nTextRank is a general purpose graph-based ranking algorithm for NLP. Essentially, it runs PageRank on a graph specially designed for a particular NLP task. For keyphrase extraction, it builds a graph using some set of text units as vertices. Edges are based on some measure of semantic or lexical similarity between the text unit vertices. Unlike PageRank, the edges are typically undirected and can be weighted to reflect a degree of similarity. Once the graph is constructed, it is used to form a stochastic matrix, combined with a damping factor (as in the \"random surfer model\"), and the ranking over vertices is obtained by finding the eigenvector corresponding to eigenvalue 1 (i.e., the stationary distribution of the random walk on the graph).\\n\\nThe vertices should correspond to what we want to rank. Potentially, we could do something similar to the supervised methods and create a vertex for each unigram, bigram, trigram, etc. However, to keep the graph small, the authors decide to rank individual unigrams in a first step, and then include a second step that merges highly ranked adjacent unigrams to form multi-word phrases. This has a nice side effect of allowing us to produce keyphrases of arbitrary length. For example, if we rank unigrams and find that \"advanced\", \"natural\", \"language\", and \"processing\" all get high ranks, then we would look at the original text and see that these words appear consecutively and create a final keyphrase using all four together. Note that the unigrams placed in the graph can be filtered by part of speech. The authors found that adjectives and nouns were the best to include. Thus, some linguistic knowledge comes into play in this step.\\n\\nEdges are created based on word co-occurrence in this application of TextRank. Two vertices are connected by an edge if the unigrams appear within a window of size N in the original text. N is typically around 2–10. Thus, \"natural\" and \"language\" might be linked in a text about NLP. \"Natural\" and \"processing\" would also be linked because they would both appear in the same string of N words. These edges build on the notion of \"text cohesion\" and the idea that words that appear near each other are likely related in a meaningful way and \"recommend\" each other to the reader.\\n\\nSince this method simply ranks the individual vertices, we need a way to threshold or produce a limited number of keyphrases. The technique chosen is to set a count T to be a user-specified fraction of the total number of vertices in the graph. Then the top T vertices/unigrams are selected based on their stationary probabilities. A post- processing step is then applied to merge adjacent instances of these T unigrams. As a result, potentially more or less than T final keyphrases will be produced, but the number should be roughly proportional to the length of the original text.\\n\\nIt is not initially clear why applying PageRank to a co-occurrence graph would produce useful keyphrases. One way to think about it is the following. A word that appears multiple times throughout a text may have many different co-occurring neighbors. For example, in a text about machine learning, the unigram \"learning\" might co-occur with \"machine\", \"supervised\", \"un-supervised\", and \"semi-supervised\" in four different sentences. Thus, the \"learning\" vertex would be a central \"hub\" that connects to these other modifying words. Running PageRank/TextRank on the graph is likely to rank \"learning\" highly. Similarly, if the text contains the phrase \"supervised classification\", then there would be an edge between \"supervised\" and \"classification\". If \"classification\" appears several other places and thus has many neighbors, its importance would contribute to the importance of \"supervised\". If it ends up with a high rank, it will be selected as one of the top T unigrams, along with \"learning\" and probably \"classification\". In the final post-processing step, we would then end up with keyphrases \"supervised learning\" and \"supervised classification\".\\n\\nIn short, the co-occurrence graph will contain densely connected regions for terms that appear often and in different contexts. A random walk on this graph will have a stationary distribution that assigns large probabilities to the terms in the centers of the clusters. This is similar to densely connected Web pages getting ranked highly by PageRank. This approach has also been used in document summarization, considered below.\\n\\nLike keyphrase extraction, document summarization aims to identify the essence of a text. The only real difference is that now we are dealing with larger text units—whole sentences instead of words and phrases.\\n\\nBefore getting into the details of some summarization methods, we will mention how summarization systems are typically evaluated. The most common way is using the so-called ROUGE (Recall-Oriented Understudy for Gisting Evaluation) measure. This is a recall-based measure that determines how well a system-generated summary covers the content present in one or more human-generated model summaries known as references. It is recall-based to encourage systems to include all the important topics in the text. Recall can be computed with respect to unigram, bigram, trigram, or 4-gram matching. For example, ROUGE-1 is computed as division of count of unigrams in reference that appear in system and count of unigrams in reference summary.\\n\\nIf there are multiple references, the ROUGE-1 scores are averaged. Because ROUGE is based only on content overlap, it can determine if the same general concepts are discussed between an automatic summary and a reference summary, but it cannot determine if the result is coherent or the sentences flow together in a sensible manner. High-order n-gram ROUGE measures try to judge fluency to some degree. Note that ROUGE is similar to the BLEU measure for machine translation, but BLEU is precision- based, because translation systems favor accuracy.\\n\\nA promising line in document summarization is adaptive document/text summarization.[13] The idea of adaptive summarization involves preliminary recognition of document/text genre and subsequent application of summarization algorithms optimized for this genre. First summarizes that perform adaptive summarization have been created.[14]\\n\\nSupervised text summarization is very much like supervised keyphrase extraction. Basically, if you have a collection of documents and human-generated summaries for them, you can learn features of sentences that make them good candidates for inclusion in the summary. Features might include the position in the document (i.e., the first few sentences are probably important), the number of words in the sentence, etc. The main difficulty in supervised extractive summarization is that the known summaries must be manually created by extracting sentences so the sentences in an original training document can be labeled as \"in summary\" or \"not in summary\". This is not typically how people create summaries, so simply using journal abstracts or existing summaries is usually not sufficient. The sentences in these summaries do not necessarily match up with sentences in the original text, so it would be difficult to assign labels to examples for training. Note, however, that these natural summaries can still be used for evaluation purposes, since ROUGE-1 only cares about unigrams.\\n\\nDuring the DUC 2001 and 2002 evaluation workshops, TNO developed a sentence extraction system for multi-document summarization in the news domain. The system was based on a hybrid system using a naive Bayes classifier and statistical language models for modeling salience. Although the system exhibited good results, the researchers wanted to explore the effectiveness of a maximum entropy (ME) classifier for the meeting summarization task, as ME is known to be robust against feature dependencies. Maximum entropy has also been applied successfully for summarization in the broadcast news domain.\\n\\nThe unsupervised approach to summarization is also quite similar in spirit to unsupervised keyphrase extraction and gets around the issue of costly training data. Some unsupervised summarization approaches are based on finding a \"centroid\" sentence, which is the mean word vector of all the sentences in the document. Then the sentences can be ranked with regard to their similarity to this centroid sentence.\\n\\nA more principled way to estimate sentence importance is using random walks and eigenvector centrality. LexRank[15] is an algorithm essentially identical to TextRank, and both use this approach for document summarization. The two methods were developed by different groups at the same time, and LexRank simply focused on summarization, but could just as easily be used for keyphrase extraction or any other NLP ranking task.\\n\\nIn both LexRank and TextRank, a graph is constructed by creating a vertex for each sentence in the document.\\n\\nThe edges between sentences are based on some form of semantic similarity or content overlap. While LexRank uses cosine similarity of TF-IDF vectors, TextRank uses a very similar measure based on the number of words two sentences have in common (normalized by the sentences\\' lengths). The LexRank paper explored using unweighted edges after applying a threshold to the cosine values, but also experimented with using edges with weights equal to the similarity score. TextRank uses continuous similarity scores as weights.\\n\\nIn both algorithms, the sentences are ranked by applying PageRank to the resulting graph. A summary is formed by combining the top ranking sentences, using a threshold or length cutoff to limit the size of the summary.\\n\\nIt is worth noting that TextRank was applied to summarization exactly as described here, while LexRank was used as part of a larger summarization system (MEAD) that combines the LexRank score (stationary probability) with other features like sentence position and length using a linear combination with either user-specified or automatically tuned weights. In this case, some training documents might be needed, though the TextRank results show the additional features are not absolutely necessary.\\n\\nAnother important distinction is that TextRank was used for single document summarization, while LexRank has been applied to multi-document summarization. The task remains the same in both cases—only the number of sentences to choose from has grown. However, when summarizing multiple documents, there is a greater risk of selecting duplicate or highly redundant sentences to place in the same summary. Imagine you have a cluster of news articles on a particular event, and you want to produce one summary. Each article is likely to have many similar sentences, and you would only want to include distinct ideas in the summary. To address this issue, LexRank applies a heuristic post-processing step that builds up a summary by adding sentences in rank order, but discards any sentences that are too similar to ones already placed in the summary. The method used is called Cross-Sentence Information Subsumption (CSIS).\\n\\nThese methods work based on the idea that sentences \"recommend\" other similar sentences to the reader. Thus, if one sentence is very similar to many others, it will likely be a sentence of great importance. The importance of this sentence also stems from the importance of the sentences \"recommending\" it. Thus, to get ranked highly and placed in a summary, a sentence must be similar to many sentences that are in turn also similar to many other sentences. This makes intuitive sense and allows the algorithms to be applied to any arbitrary new text. The methods are domain-independent and easily portable. One could imagine the features indicating important sentences in the news domain might vary considerably from the biomedical domain. However, the unsupervised \"recommendation\"-based approach applies to any domain.\\n\\nMulti-document summarization is an automatic procedure aimed at extraction of information from multiple texts written about the same topic. Resulting summary report allows individual users, such as professional information consumers, to quickly familiarize themselves with information contained in a large cluster of documents. In such a way, multi-document summarization systems are complementing the news aggregators performing the next step down the road of coping with information overload. Multi-document summarization may also be done in response to a question.[16][8]\\n\\nMulti-document summarization creates information reports that are both concise and comprehensive. With different opinions being put together and outlined, every topic is described from multiple perspectives within a single document. While the goal of a brief summary is to simplify information search and cut the time by pointing to the most relevant source documents, comprehensive multi-document summary should itself contain the required information, hence limiting the need for accessing original files to cases when refinement is required. Automatic summaries present information extracted from multiple sources algorithmically, without any editorial touch or subjective human intervention, thus making it completely unbiased.[dubious – discuss]\\n\\nMulti-document extractive summarization faces a problem of potential redundancy. Ideally, we would like to extract sentences that are both \"central\" (i.e., contain the main ideas) and \"diverse\" (i.e., they differ from one another). LexRank deals with diversity as a heuristic final stage using CSIS, and other systems have used similar methods, such as Maximal Marginal Relevance (MMR),[17] in trying to eliminate redundancy in information retrieval results. There is a general purpose graph-based ranking algorithm like Page/Lex/TextRank that handles both \"centrality\" and \"diversity\" in a unified mathematical framework based on absorbing Markov chain random walks. (An absorbing random walk is like a standard random walk, except some states are now absorbing states that act as \"black holes\" that cause the walk to end abruptly at that state.) The algorithm is called GRASSHOPPER.[18] In addition to explicitly promoting diversity during the ranking process, GRASSHOPPER incorporates a prior ranking (based on sentence position in the case of summarization).\\n\\nThe state of the art results for multi-document summarization, however, are obtained using mixtures of submodular functions. These methods have achieved the state of the art results for Document Summarization Corpora, DUC 04 - 07.[19] Similar results were also achieved with the use of determinantal point processes (which are a special case of submodular functions) for DUC-04.[20]\\n\\nA new method for multi-lingual multi-document summarization that avoids redundancy works by simplifying and generating ideograms that represent the meaning of each sentence in each document and then evaluates similarity \"qualitatively\" by comparing the shape and position of said ideograms has recently been developed. This tool does not use word frequency, does not need training or preprocessing of any kind and works by generating ideograms that represent the meaning of each sentence and then summarizes using two user-supplied parameters: equivalence (when are two sentences to be considered equivalent) and relevance (how long is the desired summary).\\n\\nThe idea of a submodular set function has recently emerged as a powerful modeling tool for various summarization problems. Submodular functions naturally model notions of coverage, information, representation and diversity. Moreover, several important combinatorial optimization problems occur as special instances of submodular optimization. For example, the set cover problem is a special case of submodular optimization, since the set cover function is submodular. The set cover function attempts to find a subset of objects which cover a given set of concepts. For example, in document summarization, one would like the summary to cover all important and relevant concepts in the document. This is an instance of set cover. Similarly, the facility location problem is a special case of submodular functions. The Facility Location function also naturally models coverage and diversity. Another example of a submodular optimization problem is using a determinantal point process to model diversity. Similarly, the Maximum-Marginal-Relevance procedure can also be seen as an instance of submodular optimization. All these important models encouraging coverage, diversity and information are all submodular. Moreover, submodular functions can be efficiently combined, and the resulting function is still submodular. Hence, one could combine one submodular function which models diversity, another one which models coverage and use human supervision to learn a right model of a submodular function for the problem.\\n\\nWhile submodular functions are fitting problems for summarization, they also admit very efficient algorithms for optimization. For example, a simple greedy algorithm admits a constant factor guarantee.[21] Moreover, the greedy algorithm is extremely simple to implement and can scale to large datasets, which is very important for summarization problems.\\n\\nSubmodular functions have achieved state-of-the-art for almost all summarization problems. For example, work by Lin and Bilmes, 2012[22] shows that submodular functions achieve the best results to date on DUC-04, DUC-05, DUC-06 and DUC-07 systems for document summarization. Similarly, work by Lin and Bilmes, 2011,[23] shows that many existing systems for automatic summarization are instances of submodular functions. This was a breakthrough result establishing submodular functions as the right models for summarization problems.[citation needed]\\n\\nSubmodular Functions have also been used for other summarization tasks. Tschiatschek et al., 2014 show[24] that mixtures of submodular functions achieve state-of-the-art results for image collection summarization. Similarly, Bairi et al., 2015[25] show the utility of submodular functions for summarizing multi-document topic hierarchies. Submodular Functions have also successfully been used for summarizing machine learning datasets.[26]\\n• The Reddit bot \"autotldr\",[27] created in 2011 summarizes news articles in the comment-section of reddit posts. It was found to be very useful by the reddit community which upvoted its summaries hundreds of thousands of times.[28] The name is reference to TL;DR − Internet slang for \"too long; didn\\'t read\".[29][30]\\n\\nThe most common way to evaluate the informativeness of automatic summaries is to compare them with human-made model summaries.\\n\\nEvaluation techniques fall into intrinsic and extrinsic,[31] inter-textual and intra-textual.[32]\\n\\nAn intrinsic evaluation tests the summarization system in and of itself while an extrinsic evaluation tests the summarization based on how it affects the completion of some other task. Intrinsic evaluations have assessed mainly the coherence and informativeness of summaries. Extrinsic evaluations, on the other hand, have tested the impact of summarization on tasks like relevance assessment, reading comprehension, etc.\\n\\nIntra-textual methods assess the output of a specific summarization system, and the inter-textual ones focus on contrastive analysis of outputs of several summarization systems.\\n\\nHuman judgement often has wide variance on what is considered a \"good\" summary, which means that making the evaluation process automatic is particularly difficult. Manual evaluation can be used, but this is both time and labor-intensive as it requires humans to read not only the summaries but also the source documents. Other issues are those concerning coherence and coverage.\\n\\nOne of the metrics used in NIST\\'s annual Document Understanding Conferences, in which research groups submit their systems for both summarization and translation tasks, is the ROUGE metric (Recall-Oriented Understudy for Gisting Evaluation [2]). It essentially calculates n-gram overlaps between automatically generated summaries and previously written human summaries. A high level of overlap should indicate a high level of shared concepts between the two summaries. Note that overlap metrics like this are unable to provide any feedback on a summary\\'s coherence. Anaphor resolution remains another problem yet to be fully solved. Similarly, for image summarization, Tschiatschek et al., developed a Visual-ROUGE score which judges the performance of algorithms for image summarization.[33]\\n\\nDomain independent summarization techniques generally apply sets of general features which can be used to identify information-rich text segments. Recent research focus has drifted to domain-specific summarization techniques that utilize the available knowledge specific to the domain of text. For example, automatic summarization research on medical text generally attempts to utilize the various sources of codified medical knowledge and ontologies.[34]\\n\\nThe main drawback of the evaluation systems existing so far is that we need at least one reference summary, and for some methods more than one, to be able to compare automatic summaries with models. This is a hard and expensive task. Much effort has to be done in order to have corpus of texts and their corresponding summaries. Furthermore, for some methods, not only do we need to have human-made summaries available for comparison, but also manual annotation has to be performed in some of them (e.g. SCU in the Pyramid Method). In any case, what the evaluation methods need as an input, is a set of summaries to serve as gold standards and a set of automatic summaries. Moreover, they all perform a quantitative evaluation with regard to different similarity metrics.\\n\\nThe first publication in the area dates back to 1957 [35] (Hans Peter Luhn), starting with a statistical technique. Research increased significantly in 2015. Term frequency–inverse document frequency had been used by 2016. Pattern-based summarization was the most powerful option for multi-document summarization found by 2016. In the following year it was surpassed by latent semantic analysis (LSA) combined with non-negative matrix factorization (NMF). Although they did not replace other approaches and are often combined with them, by 2019 machine learning methods dominated the extractive summarization of single documents, which was considered to be nearing maturity. By 2020, the field was still very active and research is shifting towards abstractive summation and real-time summarization.[36]\\n\\nRecently the rise of Transformer models replacing more traditional RNN (LSTM) have provided a flexibility in the mapping of text sequences to text sequences of a different type, which is well suited to automatic summarization. This includes models such as T5[37] and Pegasus.\\n• None Roxana, Angheluta (2002). The Use of Topic Segmentation for Automatic Summarization.\\n• None Elena, Lloret and Manuel, Palomar (2009). Challenging Issues of Automatic Summarization: Relevance Detection and Quality-based Evaluation.\\n• None Alrehamy, Hassan (2017). \"SemCluster: Unsupervised Automatic Keyphrase Extraction Using Affinity Propagation\". Automatic Keyphrases Extraction. Advances in Intelligent Systems and Computing. Vol. 650. pp. 222–235. doi:10.1007/978-3-319-66939-7_19. ISBN .\\n• None Marcu, Daniel (2000). The Theory and Practice of Discourse Parsing and Summarization. ISBN .\\n• , Published in Proceeding RIAO\\'10 Adaptivity, Personalization and Fusion of Heterogeneous Information, CID Paris, France\\n• None Xiaojin, Zhu, Andrew Goldberg, Jurgen Van Gael, and David Andrzejewski (2007). Improving diversity in ranking using absorbing random walks . , The GRASSHOPPER algorithm\\n• None Miranda-Jiménez, Sabino, Gelbukh, Alexander, and Sidorov, Grigori (2013). \"Summarizing Conceptual Graphs for Automatic Summarization Task\". Conceptual Structures for STEM Research and Education. Lecture Notes in Computer Science. Vol. 7735. pp. 245–253. doi:10.1007/978-3-642-35786-2_18. ISBN . , Conceptual Structures for STEM Research and Education.',\n",
       " 'opengraph': {'title': 'Automatic summarization - Wikipedia',\n",
       "  'type': 'website'},\n",
       " 'tags': [],\n",
       " 'tweets': [],\n",
       " 'movies': [],\n",
       " 'links': ['/wiki/File:Question_book-new.svg',\n",
       "  '/wiki/Wikipedia:Verifiability',\n",
       "  '//www.google.com/search?as_eq=wikipedia&q=%22Automatic+summarization%22',\n",
       "  '//www.google.com/search?tbm=nws&q=%22Automatic+summarization%22+-wikipedia&tbs=ar:1',\n",
       "  '//www.google.com/search?&q=%22Automatic+summarization%22&tbs=bkt:s&tbm=bks',\n",
       "  '//www.google.com/search?tbs=bks:1&q=%22Automatic+summarization%22+-wikipedia',\n",
       "  '//scholar.google.com/scholar?q=%22Automatic+summarization%22',\n",
       "  'https://www.jstor.org/action/doBasicSearch?Query=%22Automatic+summarization%22&acc=on&wc=on',\n",
       "  'https://en.wikipedia.org/w/index.php?title=Automatic_summarization&action=edit',\n",
       "  '/wiki/Help:Referencing_for_beginners',\n",
       "  '/wiki/Help:Maintenance_template_removal',\n",
       "  '/wiki/Abstract_(summary)',\n",
       "  '#cite_note-Torres2014-1',\n",
       "  '#cite_note-2',\n",
       "  '#cite_note-3',\n",
       "  '#cite_note-4',\n",
       "  '#cite_note-PalPetrosino2012-5',\n",
       "  '#Commercial_products',\n",
       "  '#Approaches',\n",
       "  '#Extraction-based_summarization',\n",
       "  '#Abstraction-based_summarization',\n",
       "  '#Aided_summarization',\n",
       "  '#Applications_and_systems_for_summarization',\n",
       "  '#Keyphrase_extraction',\n",
       "  '#Supervised_learning_approaches',\n",
       "  '#Unsupervised_approach:_TextRank',\n",
       "  '#Document_summarization',\n",
       "  '#Supervised_learning_approaches_2',\n",
       "  '#Maximum_entropy-based_summarization',\n",
       "  '#TextRank_and_LexRank',\n",
       "  '#Multi-document_summarization',\n",
       "  '#Incorporating_diversity',\n",
       "  '#Submodular_functions_as_generic_tools_for_summarization',\n",
       "  '#Applications',\n",
       "  '#Evaluation_techniques',\n",
       "  '#Intrinsic_and_extrinsic_evaluation',\n",
       "  '#Inter-textual_and_intra-textual',\n",
       "  '#Domain_specific_versus_domain_independent_summarization_techniques',\n",
       "  '#Evaluating_summaries_qualitatively',\n",
       "  '#History',\n",
       "  '#Recent_approaches',\n",
       "  '#See_also',\n",
       "  '#References',\n",
       "  '#Further_reading',\n",
       "  '/w/index.php?title=Automatic_summarization&action=edit&section=1',\n",
       "  '/wiki/Google_Docs',\n",
       "  '#cite_note-6',\n",
       "  '/w/index.php?title=Automatic_summarization&action=edit&section=2',\n",
       "  '/wiki/Information_extraction',\n",
       "  '/wiki/Abstract_(summary)',\n",
       "  '/w/index.php?title=Automatic_summarization&action=edit&section=3',\n",
       "  '#cite_note-7',\n",
       "  '#cite_note-Afzal_et_al-8',\n",
       "  '/w/index.php?title=Automatic_summarization&action=edit&section=4',\n",
       "  '/wiki/Automated_paraphrasing',\n",
       "  '/wiki/Natural_language_processing',\n",
       "  '/w/index.php?title=Automatic_summarization&action=edit&section=5',\n",
       "  '/w/index.php?title=Automatic_summarization&action=edit&section=6',\n",
       "  '/wiki/Cluster_analysis',\n",
       "  '/wiki/Multi-document_summarization',\n",
       "  '#cite_note-9',\n",
       "  '/wiki/Image_collection_exploration',\n",
       "  '/wiki/Submodular_set_function',\n",
       "  '/wiki/Determinantal_point_process',\n",
       "  '/w/index.php?title=Automatic_summarization&action=edit&section=7',\n",
       "  '#cite_note-10',\n",
       "  '/wiki/Research_article',\n",
       "  '/wiki/Natural-language_understanding',\n",
       "  '/wiki/Information_retrieval',\n",
       "  '/wiki/Full-text_search',\n",
       "  '/wiki/Keyword_extraction',\n",
       "  '/w/index.php?title=Automatic_summarization&action=edit&section=8',\n",
       "  '#cite_note-11',\n",
       "  '/wiki/Supervised_machine_learning',\n",
       "  '/wiki/Unigram',\n",
       "  '/wiki/Bigram',\n",
       "  '/wiki/Binary_classification',\n",
       "  '/wiki/Naive_Bayes',\n",
       "  '/wiki/Genetic_algorithm',\n",
       "  '/w/index.php?title=Automatic_summarization&action=edit&section=9',\n",
       "  '/wiki/Training_set',\n",
       "  '#cite_note-12',\n",
       "  '/wiki/PageRank',\n",
       "  '/wiki/Social_network',\n",
       "  '/wiki/Graph_(abstract_data_type)',\n",
       "  '/wiki/Natural_language_processing',\n",
       "  '/wiki/Lexical_(semiotics)',\n",
       "  '/wiki/Semantic_similarity',\n",
       "  '/wiki/Eigenvalue',\n",
       "  '/wiki/Stationary_distribution',\n",
       "  '/wiki/Random_walk',\n",
       "  '/wiki/Co-occurrence',\n",
       "  '/wiki/Unigram',\n",
       "  '/wiki/Cohesion_(linguistics)',\n",
       "  '/w/index.php?title=Automatic_summarization&action=edit&section=10',\n",
       "  '/wiki/ROUGE_(metric)',\n",
       "  '#cite_note-13',\n",
       "  '#cite_note-14',\n",
       "  '/w/index.php?title=Automatic_summarization&action=edit&section=11',\n",
       "  '/w/index.php?title=Automatic_summarization&action=edit&section=12',\n",
       "  '/wiki/Netherlands_Organisation_for_Applied_Scientific_Research',\n",
       "  '/wiki/Naive_Bayes',\n",
       "  '/wiki/Maximum_entropy_classifier',\n",
       "  '/w/index.php?title=Automatic_summarization&action=edit&section=13',\n",
       "  '/wiki/Centroid',\n",
       "  '#cite_note-15',\n",
       "  '/wiki/Cosine_similarity',\n",
       "  '/wiki/TF-IDF',\n",
       "  '/wiki/Quantile_normalization',\n",
       "  '/wiki/Similarity_score',\n",
       "  '/w/index.php?title=MEAD&action=edit&redlink=1',\n",
       "  '/wiki/Linear_combination',\n",
       "  '/w/index.php?title=Automatic_summarization&action=edit&section=14',\n",
       "  '/wiki/Multi-document_summarization',\n",
       "  '/wiki/News_aggregators',\n",
       "  '/wiki/Information_overload',\n",
       "  '#cite_note-16',\n",
       "  '#cite_note-Afzal_et_al-8',\n",
       "  '/wiki/Wikipedia:Accuracy_dispute#Disputed_statement',\n",
       "  '/wiki/Talk:Automatic_summarization#Dubious',\n",
       "  '/w/index.php?title=Automatic_summarization&action=edit&section=15',\n",
       "  '#cite_note-17',\n",
       "  '/wiki/Absorbing_Markov_chain',\n",
       "  '#cite_note-18',\n",
       "  '#cite_note-19',\n",
       "  '#cite_note-20',\n",
       "  '/w/index.php?title=Automatic_summarization&action=edit&section=16',\n",
       "  '/wiki/Submodular_set_function',\n",
       "  '/wiki/Combinatorial_optimization',\n",
       "  '/wiki/Set_cover_problem',\n",
       "  '/wiki/Facility_location_problem',\n",
       "  '/wiki/Determinantal_point_process',\n",
       "  '/wiki/Greedy_algorithm',\n",
       "  '#cite_note-21',\n",
       "  '#cite_note-22',\n",
       "  '#cite_note-23',\n",
       "  '/wiki/Wikipedia:Citation_needed',\n",
       "  '#cite_note-24',\n",
       "  '#cite_note-25',\n",
       "  '#cite_note-26',\n",
       "  '/w/index.php?title=Automatic_summarization&action=edit&section=17',\n",
       "  '/wiki/File:Wiki_letter_w_cropped.svg',\n",
       "  'https://en.wikipedia.org/w/index.php?title=Automatic_summarization&action=edit&section=',\n",
       "  '/wiki/Reddit',\n",
       "  '/wiki/Internet_bot',\n",
       "  '#cite_note-27',\n",
       "  '#cite_note-28',\n",
       "  '/wiki/TL;DR',\n",
       "  '/wiki/Internet_slang',\n",
       "  '#cite_note-29',\n",
       "  '#cite_note-30',\n",
       "  '/w/index.php?title=Automatic_summarization&action=edit&section=18',\n",
       "  '#cite_note-31',\n",
       "  '#cite_note-32',\n",
       "  '/w/index.php?title=Automatic_summarization&action=edit&section=19',\n",
       "  '/w/index.php?title=Automatic_summarization&action=edit&section=20',\n",
       "  '/wiki/Coherence_(linguistics)',\n",
       "  '/wiki/NIST',\n",
       "  'https://web.archive.org/web/20060408135021/http://haydn.isi.edu/ROUGE/',\n",
       "  '/wiki/N-gram',\n",
       "  '/wiki/Anaphora_(linguistics)',\n",
       "  '#cite_note-33',\n",
       "  '/w/index.php?title=Automatic_summarization&action=edit&section=21',\n",
       "  '#cite_note-34',\n",
       "  '/w/index.php?title=Automatic_summarization&action=edit&section=22',\n",
       "  '/w/index.php?title=Automatic_summarization&action=edit&section=23',\n",
       "  '#cite_note-35',\n",
       "  '/wiki/Hans_Peter_Luhn',\n",
       "  '/wiki/Term_frequency%E2%80%93inverse_document_frequency',\n",
       "  '/wiki/Latent_semantic_analysis',\n",
       "  '/wiki/Non-negative_matrix_factorization',\n",
       "  '#cite_note-36',\n",
       "  '/w/index.php?title=Automatic_summarization&action=edit&section=24',\n",
       "  '/wiki/Transformer_(machine_learning_model)',\n",
       "  '/wiki/Rnn_(software)',\n",
       "  '/wiki/LSTM',\n",
       "  '#cite_note-37',\n",
       "  '/w/index.php?title=Automatic_summarization&action=edit&section=25',\n",
       "  '/wiki/Sentence_extraction',\n",
       "  '/wiki/Text_mining',\n",
       "  '/wiki/Multi-document_summarization',\n",
       "  '/w/index.php?title=Automatic_summarization&action=edit&section=26',\n",
       "  '#cite_ref-Torres2014_1-0',\n",
       "  'https://www.wiley.com/en-gb/Automatic+Text+Summarization-p-9781848216686',\n",
       "  '/wiki/ISBN_(identifier)',\n",
       "  '/wiki/Special:BookSources/978-1-848-21668-6',\n",
       "  '#cite_ref-2',\n",
       "  '/wiki/Doi_(identifier)',\n",
       "  'https://doi.org/10.1109%2Ftvcg.2019.2948611',\n",
       "  '/wiki/ISSN_(identifier)',\n",
       "  '//www.worldcat.org/issn/1077-2626',\n",
       "  '/wiki/PMID_(identifier)',\n",
       "  '//pubmed.ncbi.nlm.nih.gov/31647438',\n",
       "  '/wiki/S2CID_(identifier)',\n",
       "  'https://api.semanticscholar.org/CorpusID:204865221',\n",
       "  '#cite_ref-3',\n",
       "  'https://www.proquest.com/docview/1986931333',\n",
       "  '/wiki/ProQuest_(identifier)',\n",
       "  'https://search.proquest.com/docview/1986931333',\n",
       "  '#cite_ref-4',\n",
       "  '/wiki/Doi_(identifier)',\n",
       "  'https://doi.org/10.1109%2Fmcg.2011.89',\n",
       "  '/wiki/ISSN_(identifier)',\n",
       "  '//www.worldcat.org/issn/0272-1716',\n",
       "  '/wiki/PMID_(identifier)',\n",
       "  '//pubmed.ncbi.nlm.nih.gov/24808292',\n",
       "  '/wiki/S2CID_(identifier)',\n",
       "  'https://api.semanticscholar.org/CorpusID:7668289',\n",
       "  '#cite_ref-PalPetrosino2012_5-0',\n",
       "  'https://books.google.com/books?id=O0fNBQAAQBAJ&q=video+surveillance+summarization&pg=PA81',\n",
       "  '/wiki/ISBN_(identifier)',\n",
       "  '/wiki/Special:BookSources/978-1-4398-5685-7',\n",
       "  '#cite_ref-6',\n",
       "  'http://ai.googleblog.com/2022/03/auto-generated-summaries-in-google-docs.html',\n",
       "  '#cite_ref-7',\n",
       "  'https://www.dummies.com/education/language-arts/speed-reading/how-to-skim-text/',\n",
       "  '#cite_ref-Afzal_et_al_8-0',\n",
       "  '#cite_ref-Afzal_et_al_8-1',\n",
       "  'https://www.jmir.org/2020/10/e19810/',\n",
       "  '#cite_ref-9',\n",
       "  'https://doi.org/10.1007%2F978-3-642-10268-4_64',\n",
       "  '/wiki/Doi_(identifier)',\n",
       "  '#cite_ref-10',\n",
       "  '/wiki/Doi_(identifier)',\n",
       "  'https://doi.org/10.1007%2F978-3-319-66939-7_19',\n",
       "  '/wiki/ISBN_(identifier)',\n",
       "  '/wiki/Special:BookSources/978-3-319-66938-0',\n",
       "  '#cite_ref-11',\n",
       "  '/wiki/ArXiv_(identifier)',\n",
       "  '//arxiv.org/abs/cs/0212020',\n",
       "  '/wiki/Bibcode_(identifier)',\n",
       "  'https://ui.adsabs.harvard.edu/abs/2002cs.......12020T',\n",
       "  '/wiki/Doi_(identifier)',\n",
       "  'https://doi.org/10.1023%2FA%3A1009976227802',\n",
       "  '/wiki/S2CID_(identifier)',\n",
       "  'https://api.semanticscholar.org/CorpusID:7007323',\n",
       "  '#cite_ref-12',\n",
       "  'https://web.archive.org/web/20120617170501/http://acl.ldc.upenn.edu/acl2004/emnlp/pdf/Mihalcea.pdf',\n",
       "  '#cite_ref-13',\n",
       "  '/wiki/Doi_(identifier)',\n",
       "  'https://doi.org/10.3103%2FS0005105510030027',\n",
       "  '/wiki/S2CID_(identifier)',\n",
       "  'https://api.semanticscholar.org/CorpusID:1586931',\n",
       "  '#cite_ref-14',\n",
       "  'http://yatsko.zohosites.com/universal-summarizer-unis.html',\n",
       "  '#cite_ref-15',\n",
       "  'https://www.cs.cmu.edu/afs/cs/project/jair/pub/volume22/erkan04a-html/erkan04a.html',\n",
       "  '#cite_ref-16',\n",
       "  'https://www.academia.edu/2475776/Versatile_question_answering_systems_seeing_in_synthesis',\n",
       "  '#cite_ref-17',\n",
       "  'https://www.cs.cmu.edu/afs/.cs.cmu.edu/Web/People/jgc/publication/MMR_DiversityBased_Reranking_SIGIR_1998.pdf',\n",
       "  '#cite_ref-18',\n",
       "  'http://www.aclweb.org/anthology/N07-1013',\n",
       "  '#cite_ref-19',\n",
       "  'https://arxiv.org/abs/1210.4871',\n",
       "  '#cite_ref-20',\n",
       "  'http://www.nowpublishers.com/article/DownloadSummary/MAL-044',\n",
       "  '#cite_ref-21',\n",
       "  '#cite_ref-22',\n",
       "  'https://arxiv.org/abs/1210.4871',\n",
       "  '#cite_ref-23',\n",
       "  'http://www.aclweb.org/anthology/P11-1052',\n",
       "  '#cite_ref-24',\n",
       "  'http://papers.nips.cc/paper/5415-learning-mixtures-of-submodular-functions-for-image-collection-summarization.pdf',\n",
       "  '#cite_ref-25',\n",
       "  'http://www.aclweb.org/anthology/P15-1054',\n",
       "  '#cite_ref-26',\n",
       "  'http://www.jmlr.org/proceedings/papers/v37/wei15.pdf',\n",
       "  '#cite_ref-27',\n",
       "  'https://www.reddit.com/user/autotldr',\n",
       "  '#cite_ref-28',\n",
       "  '/wiki/Megan_Squire',\n",
       "  'https://books.google.com/books?id=_qXWDQAAQBAJ&pg=PA185',\n",
       "  '/wiki/ISBN_(identifier)',\n",
       "  '/wiki/Special:BookSources/9781785885914',\n",
       "  '#cite_ref-29',\n",
       "  'https://www.lifewire.com/what-is-tldr-2483633',\n",
       "  '#cite_ref-30',\n",
       "  'http://www.ibtimes.com/what-does-tldr-mean-ama-til-glossary-reddit-terms-abbreviations-431704',\n",
       "  '#cite_ref-31',\n",
       "  'http://research.nii.ac.jp/ntcir/workshop/OnlineProceedings2/sum-mani.pdf',\n",
       "  '#cite_ref-32',\n",
       "  '/wiki/Doi_(identifier)',\n",
       "  'https://doi.org/10.3103%2FS0005105507030041',\n",
       "  '/wiki/S2CID_(identifier)',\n",
       "  'https://api.semanticscholar.org/CorpusID:7853204',\n",
       "  '#cite_ref-33',\n",
       "  'http://papers.nips.cc/paper/5415-learning-mixtures-of-submodular-functions-for-image-collection-summarization.pdf',\n",
       "  '#cite_ref-34',\n",
       "  '/wiki/Doi_(identifier)',\n",
       "  'https://doi.org/10.1007%2F978-3-642-38326-7_41',\n",
       "  '/wiki/ISBN_(identifier)',\n",
       "  '/wiki/Special:BookSources/978-3-642-38325-0',\n",
       "  '#cite_ref-35',\n",
       "  '#cite_ref-36',\n",
       "  'https://doi.org/10.1016%2Fj.jksuci.2020.05.006',\n",
       "  '/wiki/Doi_(identifier)',\n",
       "  'https://doi.org/10.1016%2Fj.jksuci.2020.05.006',\n",
       "  '/wiki/ISSN_(identifier)',\n",
       "  '//www.worldcat.org/issn/1319-1578',\n",
       "  '#cite_ref-37',\n",
       "  'http://ai.googleblog.com/2020/02/exploring-transfer-learning-with-t5.html',\n",
       "  '/w/index.php?title=Automatic_summarization&action=edit&section=27',\n",
       "  'https://www.researchgate.net/publication/277288103',\n",
       "  'https://www.researchgate.net/publication/2553088',\n",
       "  'https://www.cs.ru.nl/~kraaijw/pubs/Biblio/papers/meeting_sum_tno.pdf',\n",
       "  'https://repository.upenn.edu/cgi/viewcontent.cgi?article=1762&context=cis_papers',\n",
       "  'http://www.informatica.si/ojs-2.4.3/index.php/informatica/article/download/273/269',\n",
       "  '/wiki/Doi_(identifier)',\n",
       "  'https://doi.org/10.1007%2F978-3-319-66939-7_19',\n",
       "  '/wiki/ISBN_(identifier)',\n",
       "  '/wiki/Special:BookSources/978-3-319-66938-0',\n",
       "  'https://archive.org/details/springer_10.1007-978-3-642-72025-3',\n",
       "  '/wiki/ISBN_(identifier)',\n",
       "  '/wiki/Special:BookSources/978-3-540-63735-6',\n",
       "  '/wiki/ISBN_(identifier)',\n",
       "  '/wiki/Special:BookSources/978-0-262-13372-2',\n",
       "  '/wiki/ISBN_(identifier)',\n",
       "  '/wiki/Special:BookSources/978-1-58811-060-2',\n",
       "  'http://www.jason-huff.com/projects/autosummarize/',\n",
       "  'http://portal.acm.org/citation.cfm?id=1937055.1937111&coll=DL&dl=GUIDE&CFID=23185814&CFTOKEN=40272014/',\n",
       "  'http://pages.cs.wisc.edu/~jerryzhu/pub/grasshopper.pdf',\n",
       "  '/wiki/Doi_(identifier)',\n",
       "  'https://doi.org/10.1007%2F978-3-642-35786-2_18',\n",
       "  '/wiki/ISBN_(identifier)',\n",
       "  '/wiki/Special:BookSources/978-3-642-35785-5',\n",
       "  '/wiki/Natural_language_processing',\n",
       "  '/wiki/AI-complete',\n",
       "  '/wiki/Bag-of-words_model',\n",
       "  '/wiki/N-gram',\n",
       "  '/wiki/Bigram',\n",
       "  '/wiki/Trigram',\n",
       "  '/wiki/Computational_linguistics',\n",
       "  '/wiki/Natural-language_understanding',\n",
       "  '/wiki/Stop_word',\n",
       "  '/wiki/Text_processing',\n",
       "  '/wiki/Text_mining',\n",
       "  '/wiki/Collocation_extraction',\n",
       "  '/wiki/Concept_mining',\n",
       "  '/wiki/Coreference#Coreference_resolution',\n",
       "  '/wiki/Deep_linguistic_processing',\n",
       "  '/wiki/Distant_reading',\n",
       "  '/wiki/Information_extraction',\n",
       "  '/wiki/Named-entity_recognition',\n",
       "  '/wiki/Ontology_learning',\n",
       "  '/wiki/Parsing',\n",
       "  '/wiki/Part-of-speech_tagging',\n",
       "  '/wiki/Semantic_role_labeling',\n",
       "  '/wiki/Semantic_similarity',\n",
       "  '/wiki/Sentiment_analysis',\n",
       "  '/wiki/Terminology_extraction',\n",
       "  '/wiki/Text_mining',\n",
       "  '/wiki/Textual_entailment',\n",
       "  '/wiki/Truecasing',\n",
       "  '/wiki/Word-sense_disambiguation',\n",
       "  '/wiki/Word-sense_induction',\n",
       "  '/wiki/Text_segmentation',\n",
       "  '/wiki/Compound-term_processing',\n",
       "  '/wiki/Lemmatisation',\n",
       "  '/wiki/Lexical_analysis',\n",
       "  '/wiki/Shallow_parsing',\n",
       "  '/wiki/Stemming',\n",
       "  '/wiki/Sentence_boundary_disambiguation',\n",
       "  '/wiki/Word#Word_boundaries',\n",
       "  '/wiki/Multi-document_summarization',\n",
       "  '/wiki/Sentence_extraction',\n",
       "  '/wiki/Text_simplification',\n",
       "  '/wiki/Machine_translation',\n",
       "  '/wiki/Computer-assisted_translation',\n",
       "  '/wiki/Example-based_machine_translation',\n",
       "  '/wiki/Rule-based_machine_translation',\n",
       "  '/wiki/Statistical_machine_translation',\n",
       "  '/wiki/Transfer-based_machine_translation',\n",
       "  '/wiki/Neural_machine_translation',\n",
       "  '/wiki/Distributional_semantics',\n",
       "  '/wiki/BERT_(language_model)',\n",
       "  '/wiki/Document-term_matrix',\n",
       "  '/wiki/Explicit_semantic_analysis',\n",
       "  '/wiki/FastText',\n",
       "  '/wiki/GloVe',\n",
       "  '/wiki/Latent_semantic_analysis',\n",
       "  '/wiki/Word_embedding',\n",
       "  '/wiki/Word2vec',\n",
       "  '/wiki/Language_resource',\n",
       "  '/wiki/Corpus_linguistics',\n",
       "  '/wiki/Lexical_resource',\n",
       "  '/wiki/Linguistic_Linked_Open_Data',\n",
       "  '/wiki/Machine-readable_dictionary',\n",
       "  '/wiki/Parallel_text',\n",
       "  '/wiki/PropBank',\n",
       "  '/wiki/Semantic_network',\n",
       "  '/wiki/Simple_Knowledge_Organization_System',\n",
       "  '/wiki/Speech_corpus',\n",
       "  '/wiki/Text_corpus',\n",
       "  '/wiki/Thesaurus_(information_retrieval)',\n",
       "  '/wiki/Treebank',\n",
       "  '/wiki/Universal_Dependencies',\n",
       "  '/wiki/BabelNet',\n",
       "  '/wiki/Bank_of_English',\n",
       "  '/wiki/DBpedia',\n",
       "  '/wiki/FrameNet',\n",
       "  '/wiki/Google_Ngram_Viewer',\n",
       "  '/wiki/ThoughtTreasure',\n",
       "  '/wiki/UBY',\n",
       "  '/wiki/WordNet',\n",
       "  '/wiki/Automatic_identification_and_data_capture',\n",
       "  '/wiki/Speech_recognition',\n",
       "  '/wiki/Speech_segmentation',\n",
       "  '/wiki/Speech_synthesis',\n",
       "  '/wiki/Natural_language_generation',\n",
       "  '/wiki/Optical_character_recognition',\n",
       "  '/wiki/Topic_model',\n",
       "  '/wiki/Document_classification',\n",
       "  '/wiki/Latent_Dirichlet_allocation',\n",
       "  '/wiki/Pachinko_allocation',\n",
       "  '/wiki/Computer-assisted_reviewing',\n",
       "  '/wiki/Automated_essay_scoring',\n",
       "  '/wiki/Concordancer',\n",
       "  '/wiki/Grammar_checker',\n",
       "  '/wiki/Predictive_text',\n",
       "  '/wiki/Spell_checker',\n",
       "  '/wiki/Syntax_guessing',\n",
       "  '/wiki/Natural_language_user_interface',\n",
       "  '/wiki/Chatbot',\n",
       "  '/wiki/Interactive_fiction',\n",
       "  '/wiki/Question_answering',\n",
       "  '/wiki/Virtual_assistant',\n",
       "  '/wiki/Voice_user_interface',\n",
       "  '/wiki/Natural_Language_Toolkit',\n",
       "  '/wiki/SpaCy',\n",
       "  '/wiki/Help:Category',\n",
       "  '/wiki/Category:Computational_linguistics',\n",
       "  '/wiki/Category:Natural_language_processing',\n",
       "  '/wiki/Category:Tasks_of_natural_language_processing',\n",
       "  '/wiki/Category:Data_mining',\n",
       "  '/wiki/Category:CS1_maint:_archived_copy_as_title',\n",
       "  '/wiki/Category:CS1_maint:_bot:_original_URL_status_unknown',\n",
       "  '/wiki/Category:Articles_with_short_description',\n",
       "  '/wiki/Category:Short_description_is_different_from_Wikidata',\n",
       "  '/wiki/Category:Articles_needing_additional_references_from_April_2022',\n",
       "  '/wiki/Category:All_articles_needing_additional_references',\n",
       "  '/wiki/Category:All_accuracy_disputes',\n",
       "  '/wiki/Category:Articles_with_disputed_statements_from_June_2018',\n",
       "  '/wiki/Category:All_articles_with_unsourced_statements',\n",
       "  '/wiki/Category:Articles_with_unsourced_statements_from_June_2018',\n",
       "  '/wiki/Category:Articles_to_be_expanded_from_February_2017',\n",
       "  '/wiki/Category:All_articles_to_be_expanded',\n",
       "  '/wiki/Category:Articles_using_small_message_boxes',\n",
       "  '/wiki/Special:MyTalk',\n",
       "  '/wiki/Special:MyContributions',\n",
       "  '/w/index.php?title=Special:CreateAccount&returnto=Automatic+summarization',\n",
       "  '/w/index.php?title=Special:UserLogin&returnto=Automatic+summarization',\n",
       "  '/wiki/Automatic_summarization',\n",
       "  '/wiki/Talk:Automatic_summarization',\n",
       "  '/wiki/Automatic_summarization',\n",
       "  '/w/index.php?title=Automatic_summarization&action=edit',\n",
       "  '/w/index.php?title=Automatic_summarization&action=history',\n",
       "  '/wiki/Main_Page',\n",
       "  '/wiki/Main_Page',\n",
       "  '/wiki/Wikipedia:Contents',\n",
       "  '/wiki/Portal:Current_events',\n",
       "  '/wiki/Special:Random',\n",
       "  '/wiki/Wikipedia:About',\n",
       "  'https://donate.wikimedia.org/wiki/Special:FundraiserRedirector?utm_source=donate&utm_medium=sidebar&utm_campaign=C13_en.wikipedia.org&uselang=en',\n",
       "  '/wiki/Help:Contents',\n",
       "  '/wiki/Help:Introduction',\n",
       "  '/wiki/Wikipedia:Community_portal',\n",
       "  '/wiki/Special:RecentChanges',\n",
       "  '/wiki/Wikipedia:File_Upload_Wizard',\n",
       "  '/wiki/Special:WhatLinksHere/Automatic_summarization',\n",
       "  '/wiki/Special:RecentChangesLinked/Automatic_summarization',\n",
       "  '/wiki/Wikipedia:File_Upload_Wizard',\n",
       "  '/wiki/Special:SpecialPages',\n",
       "  '/w/index.php?title=Automatic_summarization&oldid=1097003217',\n",
       "  '/w/index.php?title=Automatic_summarization&action=info',\n",
       "  '/w/index.php?title=Special:CiteThisPage&page=Automatic_summarization&id=1097003217&wpFormIdentifier=titleform',\n",
       "  'https://www.wikidata.org/wiki/Special:EntityPage/Q1394144',\n",
       "  '/w/index.php?title=Special:DownloadAsPdf&page=Automatic_summarization&action=show-download-screen',\n",
       "  '/w/index.php?title=Automatic_summarization&printable=yes',\n",
       "  'https://ar.wikipedia.org/wiki/%D8%AA%D9%84%D8%AE%D9%8A%D8%B5_%D8%AA%D9%84%D9%82%D8%A7%D8%A6%D9%8A',\n",
       "  'https://bn.wikipedia.org/wiki/%E0%A6%B8%E0%A7%8D%E0%A6%AC%E0%A6%AF%E0%A6%BC%E0%A6%82%E0%A6%95%E0%A7%8D%E0%A6%B0%E0%A6%BF%E0%A6%AF%E0%A6%BC_%E0%A6%B8%E0%A6%82%E0%A6%95%E0%A7%8D%E0%A6%B7%E0%A6%BF%E0%A6%AA%E0%A7%8D%E0%A6%A4%E0%A6%95%E0%A6%B0%E0%A6%A3',\n",
       "  'https://de.wikipedia.org/wiki/Text-Extraction',\n",
       "  'https://eo.wikipedia.org/wiki/A%C5%ADtomata_noticado',\n",
       "  'https://eu.wikipedia.org/wiki/Laburpengintza_automatikoa',\n",
       "  'https://fa.wikipedia.org/wiki/%D8%AE%D9%84%D8%A7%D8%B5%D9%87%E2%80%8C%D8%B3%D8%A7%D8%B2%DB%8C_%D8%AE%D9%88%D8%AF%DA%A9%D8%A7%D8%B1',\n",
       "  'https://fr.wikipedia.org/wiki/R%C3%A9sum%C3%A9_automatique_de_texte',\n",
       "  'https://ko.wikipedia.org/wiki/%EC%9E%90%EB%8F%99_%EC%9A%94%EC%95%BD',\n",
       "  'https://ja.wikipedia.org/wiki/%E8%87%AA%E5%8B%95%E8%A6%81%E7%B4%84',\n",
       "  'https://nn.wikipedia.org/wiki/Automatisk_samandrag',\n",
       "  'https://ro.wikipedia.org/wiki/Sumarizare_automat%C4%83',\n",
       "  'https://ru.wikipedia.org/wiki/%D0%90%D0%B2%D1%82%D0%BE%D0%BC%D0%B0%D1%82%D0%B8%D1%87%D0%B5%D1%81%D0%BA%D0%BE%D0%B5_%D1%80%D0%B5%D1%84%D0%B5%D1%80%D0%B8%D1%80%D0%BE%D0%B2%D0%B0%D0%BD%D0%B8%D0%B5',\n",
       "  'https://fi.wikipedia.org/wiki/Tekstin_automaattinen_tiivist%C3%A4minen',\n",
       "  'https://sv.wikipedia.org/wiki/Textsammanfattning',\n",
       "  'https://th.wikipedia.org/wiki/%E0%B8%81%E0%B8%B2%E0%B8%A3%E0%B8%AA%E0%B8%A3%E0%B8%B8%E0%B8%9B%E0%B8%84%E0%B8%A7%E0%B8%B2%E0%B8%A1%E0%B8%AD%E0%B8%B1%E0%B8%95%E0%B9%82%E0%B8%99%E0%B8%A1%E0%B8%B1%E0%B8%95%E0%B8%B4',\n",
       "  'https://uk.wikipedia.org/wiki/%D0%90%D0%B2%D1%82%D0%BE%D0%BC%D0%B0%D1%82%D0%B8%D0%B7%D0%BE%D0%B2%D0%B0%D0%BD%D0%B5_%D1%80%D0%B5%D1%84%D0%B5%D1%80%D1%83%D0%B2%D0%B0%D0%BD%D0%BD%D1%8F',\n",
       "  'https://vi.wikipedia.org/wiki/T%C3%B3m_t%E1%BA%AFt_t%E1%BB%B1_%C4%91%E1%BB%99ng',\n",
       "  'https://zh-yue.wikipedia.org/wiki/%E8%87%AA%E5%8B%95%E7%B8%BD%E7%B5%90',\n",
       "  'https://www.wikidata.org/wiki/Special:EntityPage/Q1394144#sitelinks-wikipedia',\n",
       "  '/wiki/News_aggregators',\n",
       "  '/wiki/Information_overload',\n",
       "  '#cite_note-16',\n",
       "  '#cite_note-Afzal_et_al-8',\n",
       "  '/wiki/Wikipedia:Accuracy_dispute#Disputed_statement',\n",
       "  '/wiki/Talk:Automatic_summarization#Dubious',\n",
       "  '/w/index.php?title=Automatic_summarization&action=edit&section=15',\n",
       "  '#cite_note-17',\n",
       "  '/wiki/Absorbing_Markov_chain',\n",
       "  '#cite_note-18',\n",
       "  '#cite_note-19',\n",
       "  '#cite_note-20',\n",
       "  '/w/index.php?title=Automatic_summarization&action=edit&section=16',\n",
       "  '/wiki/Submodular_set_function',\n",
       "  '/wiki/Combinatorial_optimization',\n",
       "  '/wiki/Set_cover_problem',\n",
       "  '/wiki/Facility_location_problem',\n",
       "  '/wiki/Determinantal_point_process',\n",
       "  '/wiki/Greedy_algorithm',\n",
       "  '#cite_note-21',\n",
       "  '#cite_note-22',\n",
       "  '#cite_note-23',\n",
       "  '/wiki/Wikipedia:Citation_needed',\n",
       "  '#cite_note-24',\n",
       "  '#cite_note-25',\n",
       "  '#cite_note-26',\n",
       "  '/w/index.php?title=Automatic_summarization&action=edit&section=17',\n",
       "  '/wiki/File:Wiki_letter_w_cropped.svg',\n",
       "  'https://en.wikipedia.org/w/index.php?title=Automatic_summarization&action=edit&section=',\n",
       "  '/wiki/Reddit',\n",
       "  '/wiki/Internet_bot',\n",
       "  '#cite_note-27',\n",
       "  '#cite_note-28',\n",
       "  '/wiki/TL;DR',\n",
       "  '/wiki/Internet_slang',\n",
       "  '#cite_note-29',\n",
       "  '#cite_note-30',\n",
       "  '/w/index.php?title=Automatic_summarization&action=edit&section=18',\n",
       "  '#cite_note-31',\n",
       "  '#cite_note-32',\n",
       "  '/w/index.php?title=Automatic_summarization&action=edit&section=19',\n",
       "  '/w/index.php?title=Automatic_summarization&action=edit&section=20',\n",
       "  '/wiki/Coherence_(linguistics)',\n",
       "  '/wiki/NIST',\n",
       "  'https://web.archive.org/web/20060408135021/http://haydn.isi.edu/ROUGE/',\n",
       "  '/wiki/N-gram',\n",
       "  '/wiki/Anaphora_(linguistics)',\n",
       "  '#cite_note-33',\n",
       "  '/w/index.php?title=Automatic_summarization&action=edit&section=21',\n",
       "  '#cite_note-34',\n",
       "  '/w/index.php?title=Automatic_summarization&action=edit&section=22',\n",
       "  '/w/index.php?title=Automatic_summarization&action=edit&section=23',\n",
       "  '#cite_note-35',\n",
       "  '/wiki/Hans_Peter_Luhn',\n",
       "  '/wiki/Term_frequency%E2%80%93inverse_document_frequency',\n",
       "  '/wiki/Latent_semantic_analysis',\n",
       "  '/wiki/Non-negative_matrix_factorization',\n",
       "  '#cite_note-36',\n",
       "  '/w/index.php?title=Automatic_summarization&action=edit&section=24',\n",
       "  '/wiki/Transformer_(machine_learning_model)',\n",
       "  '/wiki/Rnn_(software)',\n",
       "  '/wiki/LSTM',\n",
       "  '#cite_note-37',\n",
       "  '/w/index.php?title=Automatic_summarization&action=edit&section=25',\n",
       "  '/wiki/Sentence_extraction',\n",
       "  '/wiki/Text_mining',\n",
       "  '/wiki/Multi-document_summarization',\n",
       "  '/w/index.php?title=Automatic_summarization&action=edit&section=26',\n",
       "  '#cite_ref-Torres2014_1-0',\n",
       "  'https://www.wiley.com/en-gb/Automatic+Text+Summarization-p-9781848216686',\n",
       "  '/wiki/ISBN_(identifier)',\n",
       "  '/wiki/Special:BookSources/978-1-848-21668-6',\n",
       "  '#cite_ref-2',\n",
       "  '/wiki/Doi_(identifier)',\n",
       "  'https://doi.org/10.1109%2Ftvcg.2019.2948611',\n",
       "  '/wiki/ISSN_(identifier)',\n",
       "  '//www.worldcat.org/issn/1077-2626',\n",
       "  '/wiki/PMID_(identifier)',\n",
       "  '//pubmed.ncbi.nlm.nih.gov/31647438',\n",
       "  '/wiki/S2CID_(identifier)',\n",
       "  'https://api.semanticscholar.org/CorpusID:204865221',\n",
       "  '#cite_ref-3',\n",
       "  'https://www.proquest.com/docview/1986931333',\n",
       "  '/wiki/ProQuest_(identifier)',\n",
       "  'https://search.proquest.com/docview/1986931333',\n",
       "  '#cite_ref-4',\n",
       "  '/wiki/Doi_(identifier)',\n",
       "  'https://doi.org/10.1109%2Fmcg.2011.89',\n",
       "  '/wiki/ISSN_(identifier)',\n",
       "  '//www.worldcat.org/issn/0272-1716',\n",
       "  '/wiki/PMID_(identifier)',\n",
       "  '//pubmed.ncbi.nlm.nih.gov/24808292',\n",
       "  '/wiki/S2CID_(identifier)',\n",
       "  'https://api.semanticscholar.org/CorpusID:7668289',\n",
       "  '#cite_ref-PalPetrosino2012_5-0',\n",
       "  'https://books.google.com/books?id=O0fNBQAAQBAJ&q=video+surveillance+summarization&pg=PA81',\n",
       "  '/wiki/ISBN_(identifier)',\n",
       "  '/wiki/Special:BookSources/978-1-4398-5685-7',\n",
       "  '#cite_ref-6',\n",
       "  'http://ai.googleblog.com/2022/03/auto-generated-summaries-in-google-docs.html',\n",
       "  '#cite_ref-7',\n",
       "  'https://www.dummies.com/education/language-arts/speed-reading/how-to-skim-text/',\n",
       "  '#cite_ref-Afzal_et_al_8-0',\n",
       "  '#cite_ref-Afzal_et_al_8-1',\n",
       "  'https://www.jmir.org/2020/10/e19810/',\n",
       "  '#cite_ref-9',\n",
       "  '/wiki/Doi_(identifier)',\n",
       "  'https://doi.org/10.1007%2F978-3-642-10268-4_64',\n",
       "  '#cite_ref-10',\n",
       "  '/wiki/Doi_(identifier)',\n",
       "  'https://doi.org/10.1007%2F978-3-319-66939-7_19',\n",
       "  '/wiki/ISBN_(identifier)',\n",
       "  '/wiki/Special:BookSources/978-3-319-66938-0',\n",
       "  '#cite_ref-11',\n",
       "  '/wiki/ArXiv_(identifier)',\n",
       "  '//arxiv.org/abs/cs/0212020',\n",
       "  '/wiki/Bibcode_(identifier)',\n",
       "  'https://ui.adsabs.harvard.edu/abs/2002cs.......12020T',\n",
       "  '/wiki/Doi_(identifier)',\n",
       "  'https://doi.org/10.1023%2FA%3A1009976227802',\n",
       "  '/wiki/S2CID_(identifier)',\n",
       "  'https://api.semanticscholar.org/CorpusID:7007323',\n",
       "  '#cite_ref-12',\n",
       "  'https://web.archive.org/web/20120617170501/http://acl.ldc.upenn.edu/acl2004/emnlp/pdf/Mihalcea.pdf',\n",
       "  '#cite_ref-13',\n",
       "  '/wiki/Doi_(identifier)',\n",
       "  'https://doi.org/10.3103%2FS0005105510030027',\n",
       "  '/wiki/S2CID_(identifier)',\n",
       "  'https://api.semanticscholar.org/CorpusID:1586931',\n",
       "  '#cite_ref-14',\n",
       "  'http://yatsko.zohosites.com/universal-summarizer-unis.html',\n",
       "  '#cite_ref-15',\n",
       "  'https://www.cs.cmu.edu/afs/cs/project/jair/pub/volume22/erkan04a-html/erkan04a.html',\n",
       "  '#cite_ref-16',\n",
       "  'https://www.academia.edu/2475776/Versatile_question_answering_systems_seeing_in_synthesis',\n",
       "  '#cite_ref-17',\n",
       "  'https://www.cs.cmu.edu/afs/.cs.cmu.edu/Web/People/jgc/publication/MMR_DiversityBased_Reranking_SIGIR_1998.pdf',\n",
       "  '#cite_ref-18',\n",
       "  'http://www.aclweb.org/anthology/N07-1013',\n",
       "  '#cite_ref-19',\n",
       "  'https://arxiv.org/abs/1210.4871',\n",
       "  '#cite_ref-20',\n",
       "  'http://www.nowpublishers.com/article/DownloadSummary/MAL-044',\n",
       "  '#cite_ref-21',\n",
       "  '#cite_ref-22',\n",
       "  'https://arxiv.org/abs/1210.4871',\n",
       "  '#cite_ref-23',\n",
       "  'http://www.aclweb.org/anthology/P11-1052',\n",
       "  '#cite_ref-24',\n",
       "  'http://papers.nips.cc/paper/5415-learning-mixtures-of-submodular-functions-for-image-collection-summarization.pdf',\n",
       "  '#cite_ref-25',\n",
       "  'http://www.aclweb.org/anthology/P15-1054',\n",
       "  '#cite_ref-26',\n",
       "  'http://www.jmlr.org/proceedings/papers/v37/wei15.pdf',\n",
       "  '#cite_ref-27',\n",
       "  'https://www.reddit.com/user/autotldr',\n",
       "  '#cite_ref-28',\n",
       "  '/wiki/Megan_Squire',\n",
       "  'https://books.google.com/books?id=_qXWDQAAQBAJ&pg=PA185',\n",
       "  '/wiki/ISBN_(identifier)',\n",
       "  '/wiki/Special:BookSources/9781785885914',\n",
       "  '#cite_ref-29',\n",
       "  'https://www.lifewire.com/what-is-tldr-2483633',\n",
       "  '#cite_ref-30',\n",
       "  'http://www.ibtimes.com/what-does-tldr-mean-ama-til-glossary-reddit-terms-abbreviations-431704',\n",
       "  '#cite_ref-31',\n",
       "  'http://research.nii.ac.jp/ntcir/workshop/OnlineProceedings2/sum-mani.pdf',\n",
       "  '#cite_ref-32',\n",
       "  '/wiki/Doi_(identifier)',\n",
       "  'https://doi.org/10.3103%2FS0005105507030041',\n",
       "  '/wiki/S2CID_(identifier)',\n",
       "  'https://api.semanticscholar.org/CorpusID:7853204',\n",
       "  '#cite_ref-33',\n",
       "  'http://papers.nips.cc/paper/5415-learning-mixtures-of-submodular-functions-for-image-collection-summarization.pdf',\n",
       "  '#cite_ref-34',\n",
       "  '/wiki/Doi_(identifier)',\n",
       "  'https://doi.org/10.1007%2F978-3-642-38326-7_41',\n",
       "  '/wiki/ISBN_(identifier)',\n",
       "  '/wiki/Special:BookSources/978-3-642-38325-0',\n",
       "  '#cite_ref-35',\n",
       "  '#cite_ref-36',\n",
       "  'https://doi.org/10.1016%2Fj.jksuci.2020.05.006',\n",
       "  '/wiki/Doi_(identifier)',\n",
       "  'https://doi.org/10.1016%2Fj.jksuci.2020.05.006',\n",
       "  '/wiki/ISSN_(identifier)',\n",
       "  '//www.worldcat.org/issn/1319-1578',\n",
       "  '#cite_ref-37',\n",
       "  'http://ai.googleblog.com/2020/02/exploring-transfer-learning-with-t5.html',\n",
       "  '/w/index.php?title=Automatic_summarization&action=edit&section=27',\n",
       "  'https://www.researchgate.net/publication/277288103',\n",
       "  'https://www.researchgate.net/publication/2553088',\n",
       "  'https://www.cs.ru.nl/~kraaijw/pubs/Biblio/papers/meeting_sum_tno.pdf',\n",
       "  'https://repository.upenn.edu/cgi/viewcontent.cgi?article=1762&context=cis_papers',\n",
       "  'http://www.informatica.si/ojs-2.4.3/index.php/informatica/article/download/273/269',\n",
       "  '/wiki/Doi_(identifier)',\n",
       "  'https://doi.org/10.1007%2F978-3-319-66939-7_19',\n",
       "  '/wiki/ISBN_(identifier)',\n",
       "  '/wiki/Special:BookSources/978-3-319-66938-0',\n",
       "  'https://archive.org/details/springer_10.1007-978-3-642-72025-3',\n",
       "  '/wiki/ISBN_(identifier)',\n",
       "  '/wiki/Special:BookSources/978-3-540-63735-6',\n",
       "  '/wiki/ISBN_(identifier)',\n",
       "  '/wiki/Special:BookSources/978-0-262-13372-2',\n",
       "  '/wiki/ISBN_(identifier)',\n",
       "  '/wiki/Special:BookSources/978-1-58811-060-2',\n",
       "  'http://www.jason-huff.com/projects/autosummarize/',\n",
       "  'http://portal.acm.org/citation.cfm?id=1937055.1937111&coll=DL&dl=GUIDE&CFID=23185814&CFTOKEN=40272014/',\n",
       "  'http://pages.cs.wisc.edu/~jerryzhu/pub/grasshopper.pdf',\n",
       "  '/wiki/Doi_(identifier)',\n",
       "  'https://doi.org/10.1007%2F978-3-642-35786-2_18',\n",
       "  '/wiki/ISBN_(identifier)',\n",
       "  '/wiki/Special:BookSources/978-3-642-35785-5',\n",
       "  '/wiki/Natural_language_processing',\n",
       "  '/wiki/AI-complete',\n",
       "  '/wiki/Bag-of-words_model',\n",
       "  '/wiki/N-gram',\n",
       "  '/wiki/Bigram',\n",
       "  '/wiki/Trigram',\n",
       "  '/wiki/Computational_linguistics',\n",
       "  '/wiki/Natural-language_understanding',\n",
       "  '/wiki/Stop_word',\n",
       "  '/wiki/Text_processing',\n",
       "  '/wiki/Text_mining',\n",
       "  '/wiki/Collocation_extraction',\n",
       "  '/wiki/Concept_mining',\n",
       "  '/wiki/Coreference#Coreference_resolution',\n",
       "  '/wiki/Deep_linguistic_processing',\n",
       "  '/wiki/Distant_reading',\n",
       "  '/wiki/Information_extraction',\n",
       "  '/wiki/Named-entity_recognition',\n",
       "  '/wiki/Ontology_learning',\n",
       "  '/wiki/Parsing',\n",
       "  '/wiki/Part-of-speech_tagging',\n",
       "  '/wiki/Semantic_role_labeling',\n",
       "  '/wiki/Semantic_similarity',\n",
       "  '/wiki/Sentiment_analysis',\n",
       "  '/wiki/Terminology_extraction',\n",
       "  '/wiki/Text_mining',\n",
       "  '/wiki/Textual_entailment',\n",
       "  '/wiki/Truecasing',\n",
       "  '/wiki/Word-sense_disambiguation',\n",
       "  '/wiki/Word-sense_induction',\n",
       "  '/wiki/Text_segmentation',\n",
       "  '/wiki/Compound-term_processing',\n",
       "  '/wiki/Lemmatisation',\n",
       "  '/wiki/Lexical_analysis',\n",
       "  '/wiki/Shallow_parsing',\n",
       "  '/wiki/Stemming',\n",
       "  '/wiki/Sentence_boundary_disambiguation',\n",
       "  '/wiki/Word#Word_boundaries',\n",
       "  '/wiki/Multi-document_summarization',\n",
       "  '/wiki/Sentence_extraction',\n",
       "  '/wiki/Text_simplification',\n",
       "  '/wiki/Machine_translation',\n",
       "  '/wiki/Computer-assisted_translation',\n",
       "  '/wiki/Example-based_machine_translation',\n",
       "  '/wiki/Rule-based_machine_translation',\n",
       "  '/wiki/Statistical_machine_translation',\n",
       "  '/wiki/Transfer-based_machine_translation',\n",
       "  '/wiki/Neural_machine_translation',\n",
       "  '/wiki/Distributional_semantics',\n",
       "  '/wiki/BERT_(language_model)',\n",
       "  '/wiki/Document-term_matrix',\n",
       "  '/wiki/Explicit_semantic_analysis',\n",
       "  '/wiki/FastText',\n",
       "  '/wiki/GloVe',\n",
       "  '/wiki/Latent_semantic_analysis',\n",
       "  '/wiki/Word_embedding',\n",
       "  '/wiki/Word2vec',\n",
       "  '/wiki/Language_resource',\n",
       "  '/wiki/Corpus_linguistics',\n",
       "  '/wiki/Lexical_resource',\n",
       "  '/wiki/Linguistic_Linked_Open_Data',\n",
       "  '/wiki/Machine-readable_dictionary',\n",
       "  '/wiki/Parallel_text',\n",
       "  '/wiki/PropBank',\n",
       "  '/wiki/Semantic_network',\n",
       "  '/wiki/Simple_Knowledge_Organization_System',\n",
       "  '/wiki/Speech_corpus',\n",
       "  '/wiki/Text_corpus',\n",
       "  '/wiki/Thesaurus_(information_retrieval)',\n",
       "  '/wiki/Treebank',\n",
       "  '/wiki/Universal_Dependencies',\n",
       "  '/wiki/BabelNet',\n",
       "  '/wiki/Bank_of_English',\n",
       "  '/wiki/DBpedia',\n",
       "  '/wiki/FrameNet',\n",
       "  '/wiki/Google_Ngram_Viewer',\n",
       "  '/wiki/ThoughtTreasure',\n",
       "  '/wiki/UBY',\n",
       "  '/wiki/WordNet',\n",
       "  '/wiki/Automatic_identification_and_data_capture',\n",
       "  '/wiki/Speech_recognition',\n",
       "  '/wiki/Speech_segmentation',\n",
       "  '/wiki/Speech_synthesis',\n",
       "  '/wiki/Natural_language_generation',\n",
       "  '/wiki/Optical_character_recognition',\n",
       "  '/wiki/Topic_model',\n",
       "  '/wiki/Document_classification',\n",
       "  '/wiki/Latent_Dirichlet_allocation',\n",
       "  '/wiki/Pachinko_allocation',\n",
       "  '/wiki/Computer-assisted_reviewing',\n",
       "  '/wiki/Automated_essay_scoring',\n",
       "  '/wiki/Concordancer',\n",
       "  '/wiki/Grammar_checker',\n",
       "  '/wiki/Predictive_text',\n",
       "  '/wiki/Spell_checker',\n",
       "  '/wiki/Syntax_guessing',\n",
       "  '/wiki/Natural_language_user_interface',\n",
       "  '/wiki/Chatbot',\n",
       "  '/wiki/Interactive_fiction',\n",
       "  '/wiki/Question_answering',\n",
       "  '/wiki/Virtual_assistant',\n",
       "  '/wiki/Voice_user_interface',\n",
       "  '/wiki/Natural_Language_Toolkit',\n",
       "  '/wiki/SpaCy',\n",
       "  '/wiki/Help:Category',\n",
       "  '/wiki/Category:Computational_linguistics',\n",
       "  '/wiki/Category:Natural_language_processing',\n",
       "  '/wiki/Category:Tasks_of_natural_language_processing',\n",
       "  '/wiki/Category:Data_mining',\n",
       "  '/wiki/Category:CS1_maint:_archived_copy_as_title',\n",
       "  '/wiki/Category:CS1_maint:_bot:_original_URL_status_unknown',\n",
       "  '/wiki/Category:Articles_with_short_description',\n",
       "  '/wiki/Category:Short_description_is_different_from_Wikidata',\n",
       "  '/wiki/Category:Articles_needing_additional_references_from_April_2022',\n",
       "  '/wiki/Category:All_articles_needing_additional_references',\n",
       "  '/wiki/Category:All_accuracy_disputes',\n",
       "  '/wiki/Category:Articles_with_disputed_statements_from_June_2018',\n",
       "  '/wiki/Category:All_articles_with_unsourced_statements',\n",
       "  '/wiki/Category:Articles_with_unsourced_statements_from_June_2018',\n",
       "  '/wiki/Category:Articles_to_be_expanded_from_February_2017',\n",
       "  '/wiki/Category:All_articles_to_be_expanded',\n",
       "  '/wiki/Category:Articles_using_small_message_boxes',\n",
       "  '/wiki/Special:MyTalk',\n",
       "  '/wiki/Special:MyContributions',\n",
       "  '/w/index.php?title=Special:CreateAccount&returnto=Automatic+summarization',\n",
       "  '/w/index.php?title=Special:UserLogin&returnto=Automatic+summarization',\n",
       "  '/wiki/Automatic_summarization',\n",
       "  '/wiki/Talk:Automatic_summarization',\n",
       "  '/wiki/Automatic_summarization',\n",
       "  '/w/index.php?title=Automatic_summarization&action=edit',\n",
       "  '/w/index.php?title=Automatic_summarization&action=history',\n",
       "  '/wiki/Main_Page',\n",
       "  '/wiki/Main_Page',\n",
       "  '/wiki/Wikipedia:Contents',\n",
       "  '/wiki/Portal:Current_events',\n",
       "  '/wiki/Special:Random',\n",
       "  '/wiki/Wikipedia:About',\n",
       "  'https://donate.wikimedia.org/wiki/Special:FundraiserRedirector?utm_source=donate&utm_medium=sidebar&utm_campaign=C13_en.wikipedia.org&uselang=en',\n",
       "  '/wiki/Help:Contents',\n",
       "  '/wiki/Help:Introduction',\n",
       "  '/wiki/Wikipedia:Community_portal',\n",
       "  '/wiki/Special:RecentChanges',\n",
       "  '/wiki/Wikipedia:File_Upload_Wizard',\n",
       "  '/wiki/Special:WhatLinksHere/Automatic_summarization',\n",
       "  '/wiki/Special:RecentChangesLinked/Automatic_summarization',\n",
       "  '/wiki/Wikipedia:File_Upload_Wizard',\n",
       "  '/wiki/Special:SpecialPages',\n",
       "  '/w/index.php?title=Automatic_summarization&oldid=1097003217',\n",
       "  '/w/index.php?title=Automatic_summarization&action=info',\n",
       "  '/w/index.php?title=Special:CiteThisPage&page=Automatic_summarization&id=1097003217&wpFormIdentifier=titleform',\n",
       "  'https://www.wikidata.org/wiki/Special:EntityPage/Q1394144',\n",
       "  '/w/index.php?title=Special:DownloadAsPdf&page=Automatic_summarization&action=show-download-screen',\n",
       "  '/w/index.php?title=Automatic_summarization&printable=yes',\n",
       "  'https://ar.wikipedia.org/wiki/%D8%AA%D9%84%D8%AE%D9%8A%D8%B5_%D8%AA%D9%84%D9%82%D8%A7%D8%A6%D9%8A',\n",
       "  'https://bn.wikipedia.org/wiki/%E0%A6%B8%E0%A7%8D%E0%A6%AC%E0%A6%AF%E0%A6%BC%E0%A6%82%E0%A6%95%E0%A7%8D%E0%A6%B0%E0%A6%BF%E0%A6%AF%E0%A6%BC_%E0%A6%B8%E0%A6%82%E0%A6%95%E0%A7%8D%E0%A6%B7%E0%A6%BF%E0%A6%AA%E0%A7%8D%E0%A6%A4%E0%A6%95%E0%A6%B0%E0%A6%A3',\n",
       "  'https://de.wikipedia.org/wiki/Text-Extraction',\n",
       "  'https://eo.wikipedia.org/wiki/A%C5%ADtomata_noticado',\n",
       "  'https://eu.wikipedia.org/wiki/Laburpengintza_automatikoa',\n",
       "  'https://fa.wikipedia.org/wiki/%D8%AE%D9%84%D8%A7%D8%B5%D9%87%E2%80%8C%D8%B3%D8%A7%D8%B2%DB%8C_%D8%AE%D9%88%D8%AF%DA%A9%D8%A7%D8%B1',\n",
       "  'https://fr.wikipedia.org/wiki/R%C3%A9sum%C3%A9_automatique_de_texte',\n",
       "  'https://ko.wikipedia.org/wiki/%EC%9E%90%EB%8F%99_%EC%9A%94%EC%95%BD',\n",
       "  'https://ja.wikipedia.org/wiki/%E8%87%AA%E5%8B%95%E8%A6%81%E7%B4%84',\n",
       "  'https://nn.wikipedia.org/wiki/Automatisk_samandrag',\n",
       "  'https://ro.wikipedia.org/wiki/Sumarizare_automat%C4%83',\n",
       "  'https://ru.wikipedia.org/wiki/%D0%90%D0%B2%D1%82%D0%BE%D0%BC%D0%B0%D1%82%D0%B8%D1%87%D0%B5%D1%81%D0%BA%D0%BE%D0%B5_%D1%80%D0%B5%D1%84%D0%B5%D1%80%D0%B8%D1%80%D0%BE%D0%B2%D0%B0%D0%BD%D0%B8%D0%B5',\n",
       "  'https://fi.wikipedia.org/wiki/Tekstin_automaattinen_tiivist%C3%A4minen',\n",
       "  'https://sv.wikipedia.org/wiki/Textsammanfattning',\n",
       "  'https://th.wikipedia.org/wiki/%E0%B8%81%E0%B8%B2%E0%B8%A3%E0%B8%AA%E0%B8%A3%E0%B8%B8%E0%B8%9B%E0%B8%84%E0%B8%A7%E0%B8%B2%E0%B8%A1%E0%B8%AD%E0%B8%B1%E0%B8%95%E0%B9%82%E0%B8%99%E0%B8%A1%E0%B8%B1%E0%B8%95%E0%B8%B4',\n",
       "  'https://uk.wikipedia.org/wiki/%D0%90%D0%B2%D1%82%D0%BE%D0%BC%D0%B0%D1%82%D0%B8%D0%B7%D0%BE%D0%B2%D0%B0%D0%BD%D0%B5_%D1%80%D0%B5%D1%84%D0%B5%D1%80%D1%83%D0%B2%D0%B0%D0%BD%D0%BD%D1%8F',\n",
       "  'https://vi.wikipedia.org/wiki/T%C3%B3m_t%E1%BA%AFt_t%E1%BB%B1_%C4%91%E1%BB%99ng',\n",
       "  'https://zh-yue.wikipedia.org/wiki/%E8%87%AA%E5%8B%95%E7%B8%BD%E7%B5%90',\n",
       "  'https://www.wikidata.org/wiki/Special:EntityPage/Q1394144#sitelinks-wikipedia',\n",
       "  '#cite_ref-20',\n",
       "  'http://www.nowpublishers.com/article/DownloadSummary/MAL-044',\n",
       "  '#cite_ref-21',\n",
       "  '#cite_ref-22',\n",
       "  'https://arxiv.org/abs/1210.4871',\n",
       "  '#cite_ref-23',\n",
       "  'http://www.aclweb.org/anthology/P11-1052',\n",
       "  '#cite_ref-24',\n",
       "  'http://papers.nips.cc/paper/5415-learning-mixtures-of-submodular-functions-for-image-collection-summarization.pdf',\n",
       "  '#cite_ref-25',\n",
       "  'http://www.aclweb.org/anthology/P15-1054',\n",
       "  '#cite_ref-26',\n",
       "  'http://www.jmlr.org/proceedings/papers/v37/wei15.pdf',\n",
       "  '#cite_ref-27',\n",
       "  'https://www.reddit.com/user/autotldr',\n",
       "  '#cite_ref-28',\n",
       "  '/wiki/Megan_Squire',\n",
       "  'https://books.google.com/books?id=_qXWDQAAQBAJ&pg=PA185',\n",
       "  '/wiki/ISBN_(identifier)',\n",
       "  '/wiki/Special:BookSources/9781785885914',\n",
       "  '#cite_ref-29',\n",
       "  'https://www.lifewire.com/what-is-tldr-2483633',\n",
       "  '#cite_ref-30',\n",
       "  'http://www.ibtimes.com/what-does-tldr-mean-ama-til-glossary-reddit-terms-abbreviations-431704',\n",
       "  '#cite_ref-31',\n",
       "  'http://research.nii.ac.jp/ntcir/workshop/OnlineProceedings2/sum-mani.pdf',\n",
       "  '#cite_ref-32',\n",
       "  '/wiki/Doi_(identifier)',\n",
       "  'https://doi.org/10.3103%2FS0005105507030041',\n",
       "  '/wiki/S2CID_(identifier)',\n",
       "  'https://api.semanticscholar.org/CorpusID:7853204',\n",
       "  '#cite_ref-33',\n",
       "  'http://papers.nips.cc/paper/5415-learning-mixtures-of-submodular-functions-for-image-collection-summarization.pdf',\n",
       "  '#cite_ref-34',\n",
       "  '/wiki/Doi_(identifier)',\n",
       "  'https://doi.org/10.1007%2F978-3-642-38326-7_41',\n",
       "  '/wiki/ISBN_(identifier)',\n",
       "  '/wiki/Special:BookSources/978-3-642-38325-0',\n",
       "  '#cite_ref-35',\n",
       "  '#cite_ref-36',\n",
       "  'https://doi.org/10.1016%2Fj.jksuci.2020.05.006',\n",
       "  '/wiki/Doi_(identifier)',\n",
       "  'https://doi.org/10.1016%2Fj.jksuci.2020.05.006',\n",
       "  '/wiki/ISSN_(identifier)',\n",
       "  '//www.worldcat.org/issn/1319-1578',\n",
       "  '#cite_ref-37',\n",
       "  'http://ai.googleblog.com/2020/02/exploring-transfer-learning-with-t5.html',\n",
       "  '/w/index.php?title=Automatic_summarization&action=edit&section=27',\n",
       "  'https://www.researchgate.net/publication/277288103',\n",
       "  'https://www.researchgate.net/publication/2553088',\n",
       "  'https://www.cs.ru.nl/~kraaijw/pubs/Biblio/papers/meeting_sum_tno.pdf',\n",
       "  'https://repository.upenn.edu/cgi/viewcontent.cgi?article=1762&context=cis_papers',\n",
       "  'http://www.informatica.si/ojs-2.4.3/index.php/informatica/article/download/273/269',\n",
       "  '/wiki/Doi_(identifier)',\n",
       "  'https://doi.org/10.1007%2F978-3-319-66939-7_19',\n",
       "  '/wiki/ISBN_(identifier)',\n",
       "  '/wiki/Special:BookSources/978-3-319-66938-0',\n",
       "  'https://archive.org/details/springer_10.1007-978-3-642-72025-3',\n",
       "  '/wiki/ISBN_(identifier)',\n",
       "  '/wiki/Special:BookSources/978-3-540-63735-6',\n",
       "  '/wiki/ISBN_(identifier)',\n",
       "  '/wiki/Special:BookSources/978-0-262-13372-2',\n",
       "  '/wiki/ISBN_(identifier)',\n",
       "  '/wiki/Special:BookSources/978-1-58811-060-2',\n",
       "  'http://www.jason-huff.com/projects/autosummarize/',\n",
       "  'http://portal.acm.org/citation.cfm?id=1937055.1937111&coll=DL&dl=GUIDE&CFID=23185814&CFTOKEN=40272014/',\n",
       "  'http://pages.cs.wisc.edu/~jerryzhu/pub/grasshopper.pdf',\n",
       "  '/wiki/Doi_(identifier)',\n",
       "  'https://doi.org/10.1007%2F978-3-642-35786-2_18',\n",
       "  '/wiki/ISBN_(identifier)',\n",
       "  '/wiki/Special:BookSources/978-3-642-35785-5',\n",
       "  '/wiki/Natural_language_processing',\n",
       "  '/wiki/AI-complete',\n",
       "  '/wiki/Bag-of-words_model',\n",
       "  '/wiki/N-gram',\n",
       "  '/wiki/Bigram',\n",
       "  '/wiki/Trigram',\n",
       "  '/wiki/Computational_linguistics',\n",
       "  '/wiki/Natural-language_understanding',\n",
       "  '/wiki/Stop_word',\n",
       "  '/wiki/Text_processing',\n",
       "  '/wiki/Text_mining',\n",
       "  '/wiki/Collocation_extraction',\n",
       "  '/wiki/Concept_mining',\n",
       "  '/wiki/Coreference#Coreference_resolution',\n",
       "  '/wiki/Deep_linguistic_processing',\n",
       "  '/wiki/Distant_reading',\n",
       "  '/wiki/Information_extraction',\n",
       "  '/wiki/Named-entity_recognition',\n",
       "  '/wiki/Ontology_learning',\n",
       "  '/wiki/Parsing',\n",
       "  '/wiki/Part-of-speech_tagging',\n",
       "  '/wiki/Semantic_role_labeling',\n",
       "  '/wiki/Semantic_similarity',\n",
       "  '/wiki/Sentiment_analysis',\n",
       "  '/wiki/Terminology_extraction',\n",
       "  '/wiki/Text_mining',\n",
       "  '/wiki/Textual_entailment',\n",
       "  '/wiki/Truecasing',\n",
       "  '/wiki/Word-sense_disambiguation',\n",
       "  '/wiki/Word-sense_induction',\n",
       "  '/wiki/Text_segmentation',\n",
       "  '/wiki/Compound-term_processing',\n",
       "  '/wiki/Lemmatisation',\n",
       "  '/wiki/Lexical_analysis',\n",
       "  '/wiki/Shallow_parsing',\n",
       "  '/wiki/Stemming',\n",
       "  '/wiki/Sentence_boundary_disambiguation',\n",
       "  '/wiki/Word#Word_boundaries',\n",
       "  '/wiki/Multi-document_summarization',\n",
       "  '/wiki/Sentence_extraction',\n",
       "  '/wiki/Text_simplification',\n",
       "  '/wiki/Machine_translation',\n",
       "  '/wiki/Computer-assisted_translation',\n",
       "  '/wiki/Example-based_machine_translation',\n",
       "  '/wiki/Rule-based_machine_translation',\n",
       "  '/wiki/Statistical_machine_translation',\n",
       "  '/wiki/Transfer-based_machine_translation',\n",
       "  ...],\n",
       " 'authors': [],\n",
       " 'publish_date': None}"
      ]
     },
     "execution_count": 101,
     "metadata": {},
     "output_type": "execute_result"
    }
   ],
   "source": [
    "article.infos"
   ]
  },
  {
   "cell_type": "code",
   "execution_count": null,
   "metadata": {},
   "outputs": [
    {
     "data": {
      "text/plain": [
       "'Automatic summarization - Wikipedia'"
      ]
     },
     "execution_count": 102,
     "metadata": {},
     "output_type": "execute_result"
    }
   ],
   "source": [
    "article.title"
   ]
  },
  {
   "cell_type": "code",
   "execution_count": null,
   "metadata": {},
   "outputs": [
    {
     "data": {
      "text/plain": [
       "'Automatic summarization is the process of shortening a set of data computationally, to create a subset (a summary) that represents the most important or relevant information within the original content.\\n\\nIn addition to text, images and videos can also be summarized. Text summarization finds the most informative sentences in a document;[1] various methods of image summarization are the subject of ongoing research, with some looking to display the most representative images from a given collection or generating a video;[2][3][4] video summarization extracts the most important frames from the video content.[5]\\n\\nThere are two general approaches to automatic summarization: extraction and abstraction.\\n\\nHere, content is extracted from the original data, but the extracted content is not modified in any way. Examples of extracted content include key-phrases that can be used to \"tag\" or index a text document, or key sentences (including headings) that collectively comprise an abstract, and representative images or video segments, as stated above. For text, extraction is analogous to the process of skimming, where the summary (if available), headings and subheadings, figures, the first and last paragraphs of a section, and optionally the first and last sentences in a paragraph are read before one chooses to read the entire document in detail.[7] Other examples of extraction that include key sequences of text in terms of clinical relevance (including patient/problem, intervention, and outcome).[8]\\n\\nThis has been applied mainly for text. Abstractive methods build an internal semantic representation of the original content, and then use this representation to create a summary that is closer to what a human might express. Abstraction may transform the extracted content by paraphrasing sections of the source document, to condense a text more strongly than extraction. Such transformation, however, is computationally much more challenging than extraction, involving both natural language processing and often a deep understanding of the domain of the original text in cases where the original document relates to a special field of knowledge. \"Paraphrasing\" is even more difficult to apply to image and video, which is why most summarization systems are extractive.\\n\\nApproaches aimed at higher summarization quality rely on combined software and human effort. In Machine Aided Human Summarization, extractive techniques highlight candidate passages for inclusion (to which the human adds or removes text). In Human Aided Machine Summarization, a human post-processes software output, in the same way that one edits the output of automatic translation by Google Translate.\\n\\nThere are broadly two types of extractive summarization tasks depending on what the summarization program focuses on. The first is generic summarization, which focuses on obtaining a generic summary or abstract of the collection (whether documents, or sets of images, or videos, news stories etc.). The second is query relevant summarization, sometimes called query-based summarization, which summarizes objects specific to a query. Summarization systems are able to create both query relevant text summaries and generic machine-generated summaries depending on what the user needs.\\n\\nAn example of a summarization problem is document summarization, which attempts to automatically produce an abstract from a given document. Sometimes one might be interested in generating a summary from a single source document, while others can use multiple source documents (for example, a cluster of articles on the same topic). This problem is called multi-document summarization. A related application is summarizing news articles. Imagine a system, which automatically pulls together news articles on a given topic (from the web), and concisely represents the latest news as a summary.\\n\\nImage collection summarization is another application example of automatic summarization. It consists in selecting a representative set of images from a larger set of images.[9] A summary in this context is useful to show the most representative images of results in an image collection exploration system. Video summarization is a related domain, where the system automatically creates a trailer of a long video. This also has applications in consumer or personal videos, where one might want to skip the boring or repetitive actions. Similarly, in surveillance videos, one would want to extract important and suspicious activity, while ignoring all the boring and redundant frames captured.\\n\\nAt a very high level, summarization algorithms try to find subsets of objects (like set of sentences, or a set of images), which cover information of the entire set. This is also called the core-set. These algorithms model notions like diversity, coverage, information and representativeness of the summary. Query based summarization techniques, additionally model for relevance of the summary with the query. Some techniques and algorithms which naturally model summarization problems are TextRank and PageRank, Submodular set function, Determinantal point process, maximal marginal relevance (MMR) etc.\\n\\nThe task is the following. You are given a piece of text, such as a journal article, and you must produce a list of keywords or key[phrase]s that capture the primary topics discussed in the text.[10] In the case of research articles, many authors provide manually assigned keywords, but most text lacks pre-existing keyphrases. For example, news articles rarely have keyphrases attached, but it would be useful to be able to automatically do so for a number of applications discussed below. Consider the example text from a news article:\\n\\nA keyphrase extractor might select \"Army Corps of Engineers\", \"President Bush\", \"New Orleans\", and \"defective flood-control pumps\" as keyphrases. These are pulled directly from the text. In contrast, an abstractive keyphrase system would somehow internalize the content and generate keyphrases that do not appear in the text, but more closely resemble what a human might produce, such as \"political negligence\" or \"inadequate protection from floods\". Abstraction requires a deep understanding of the text, which makes it difficult for a computer system. Keyphrases have many applications. They can enable document browsing by providing a short summary, improve information retrieval (if documents have keyphrases assigned, a user could search by keyphrase to produce more reliable hits than a full-text search), and be employed in generating index entries for a large text corpus.\\n\\nDepending on the different literature and the definition of key terms, words or phrases, keyword extraction is a highly related theme.\\n\\nBeginning with the work of Turney,[11] many researchers have approached keyphrase extraction as a supervised machine learning problem. Given a document, we construct an example for each unigram, bigram, and trigram found in the text (though other text units are also possible, as discussed below). We then compute various features describing each example (e.g., does the phrase begin with an upper-case letter?). We assume there are known keyphrases available for a set of training documents. Using the known keyphrases, we can assign positive or negative labels to the examples. Then we learn a classifier that can discriminate between positive and negative examples as a function of the features. Some classifiers make a binary classification for a test example, while others assign a probability of being a keyphrase. For instance, in the above text, we might learn a rule that says phrases with initial capital letters are likely to be keyphrases. After training a learner, we can select keyphrases for test documents in the following manner. We apply the same example-generation strategy to the test documents, then run each example through the learner. We can determine the keyphrases by looking at binary classification decisions or probabilities returned from our learned model. If probabilities are given, a threshold is used to select the keyphrases. Keyphrase extractors are generally evaluated using precision and recall. Precision measures how many of the proposed keyphrases are actually correct. Recall measures how many of the true keyphrases your system proposed. The two measures can be combined in an F-score, which is the harmonic mean of the two (F = 2PR/(P + R) ). Matches between the proposed keyphrases and the known keyphrases can be checked after stemming or applying some other text normalization.\\n\\nDesigning a supervised keyphrase extraction system involves deciding on several choices (some of these apply to unsupervised, too). The first choice is exactly how to generate examples. Turney and others have used all possible unigrams, bigrams, and trigrams without intervening punctuation and after removing stopwords. Hulth showed that you can get some improvement by selecting examples to be sequences of tokens that match certain patterns of part-of-speech tags. Ideally, the mechanism for generating examples produces all the known labeled keyphrases as candidates, though this is often not the case. For example, if we use only unigrams, bigrams, and trigrams, then we will never be able to extract a known keyphrase containing four words. Thus, recall may suffer. However, generating too many examples can also lead to low precision.\\n\\nWe also need to create features that describe the examples and are informative enough to allow a learning algorithm to discriminate keyphrases from non- keyphrases. Typically features involve various term frequencies (how many times a phrase appears in the current text or in a larger corpus), the length of the example, relative position of the first occurrence, various boolean syntactic features (e.g., contains all caps), etc. The Turney paper used about 12 such features. Hulth uses a reduced set of features, which were found most successful in the KEA (Keyphrase Extraction Algorithm) work derived from Turney\\'s seminal paper.\\n\\nIn the end, the system will need to return a list of keyphrases for a test document, so we need to have a way to limit the number. Ensemble methods (i.e., using votes from several classifiers) have been used to produce numeric scores that can be thresholded to provide a user-provided number of keyphrases. This is the technique used by Turney with C4.5 decision trees. Hulth used a single binary classifier so the learning algorithm implicitly determines the appropriate number.\\n\\nOnce examples and features are created, we need a way to learn to predict keyphrases. Virtually any supervised learning algorithm could be used, such as decision trees, Naive Bayes, and rule induction. In the case of Turney\\'s GenEx algorithm, a genetic algorithm is used to learn parameters for a domain-specific keyphrase extraction algorithm. The extractor follows a series of heuristics to identify keyphrases. The genetic algorithm optimizes parameters for these heuristics with respect to performance on training documents with known key phrases.\\n\\nAnother keyphrase extraction algorithm is TextRank. While supervised methods have some nice properties, like being able to produce interpretable rules for what features characterize a keyphrase, they also require a large amount of training data. Many documents with known keyphrases are needed. Furthermore, training on a specific domain tends to customize the extraction process to that domain, so the resulting classifier is not necessarily portable, as some of Turney\\'s results demonstrate. Unsupervised keyphrase extraction removes the need for training data. It approaches the problem from a different angle. Instead of trying to learn explicit features that characterize keyphrases, the TextRank algorithm[12] exploits the structure of the text itself to determine keyphrases that appear \"central\" to the text in the same way that PageRank selects important Web pages. Recall this is based on the notion of \"prestige\" or \"recommendation\" from social networks. In this way, TextRank does not rely on any previous training data at all, but rather can be run on any arbitrary piece of text, and it can produce output simply based on the text\\'s intrinsic properties. Thus the algorithm is easily portable to new domains and languages.\\n\\nTextRank is a general purpose graph-based ranking algorithm for NLP. Essentially, it runs PageRank on a graph specially designed for a particular NLP task. For keyphrase extraction, it builds a graph using some set of text units as vertices. Edges are based on some measure of semantic or lexical similarity between the text unit vertices. Unlike PageRank, the edges are typically undirected and can be weighted to reflect a degree of similarity. Once the graph is constructed, it is used to form a stochastic matrix, combined with a damping factor (as in the \"random surfer model\"), and the ranking over vertices is obtained by finding the eigenvector corresponding to eigenvalue 1 (i.e., the stationary distribution of the random walk on the graph).\\n\\nThe vertices should correspond to what we want to rank. Potentially, we could do something similar to the supervised methods and create a vertex for each unigram, bigram, trigram, etc. However, to keep the graph small, the authors decide to rank individual unigrams in a first step, and then include a second step that merges highly ranked adjacent unigrams to form multi-word phrases. This has a nice side effect of allowing us to produce keyphrases of arbitrary length. For example, if we rank unigrams and find that \"advanced\", \"natural\", \"language\", and \"processing\" all get high ranks, then we would look at the original text and see that these words appear consecutively and create a final keyphrase using all four together. Note that the unigrams placed in the graph can be filtered by part of speech. The authors found that adjectives and nouns were the best to include. Thus, some linguistic knowledge comes into play in this step.\\n\\nEdges are created based on word co-occurrence in this application of TextRank. Two vertices are connected by an edge if the unigrams appear within a window of size N in the original text. N is typically around 2–10. Thus, \"natural\" and \"language\" might be linked in a text about NLP. \"Natural\" and \"processing\" would also be linked because they would both appear in the same string of N words. These edges build on the notion of \"text cohesion\" and the idea that words that appear near each other are likely related in a meaningful way and \"recommend\" each other to the reader.\\n\\nSince this method simply ranks the individual vertices, we need a way to threshold or produce a limited number of keyphrases. The technique chosen is to set a count T to be a user-specified fraction of the total number of vertices in the graph. Then the top T vertices/unigrams are selected based on their stationary probabilities. A post- processing step is then applied to merge adjacent instances of these T unigrams. As a result, potentially more or less than T final keyphrases will be produced, but the number should be roughly proportional to the length of the original text.\\n\\nIt is not initially clear why applying PageRank to a co-occurrence graph would produce useful keyphrases. One way to think about it is the following. A word that appears multiple times throughout a text may have many different co-occurring neighbors. For example, in a text about machine learning, the unigram \"learning\" might co-occur with \"machine\", \"supervised\", \"un-supervised\", and \"semi-supervised\" in four different sentences. Thus, the \"learning\" vertex would be a central \"hub\" that connects to these other modifying words. Running PageRank/TextRank on the graph is likely to rank \"learning\" highly. Similarly, if the text contains the phrase \"supervised classification\", then there would be an edge between \"supervised\" and \"classification\". If \"classification\" appears several other places and thus has many neighbors, its importance would contribute to the importance of \"supervised\". If it ends up with a high rank, it will be selected as one of the top T unigrams, along with \"learning\" and probably \"classification\". In the final post-processing step, we would then end up with keyphrases \"supervised learning\" and \"supervised classification\".\\n\\nIn short, the co-occurrence graph will contain densely connected regions for terms that appear often and in different contexts. A random walk on this graph will have a stationary distribution that assigns large probabilities to the terms in the centers of the clusters. This is similar to densely connected Web pages getting ranked highly by PageRank. This approach has also been used in document summarization, considered below.\\n\\nLike keyphrase extraction, document summarization aims to identify the essence of a text. The only real difference is that now we are dealing with larger text units—whole sentences instead of words and phrases.\\n\\nBefore getting into the details of some summarization methods, we will mention how summarization systems are typically evaluated. The most common way is using the so-called ROUGE (Recall-Oriented Understudy for Gisting Evaluation) measure. This is a recall-based measure that determines how well a system-generated summary covers the content present in one or more human-generated model summaries known as references. It is recall-based to encourage systems to include all the important topics in the text. Recall can be computed with respect to unigram, bigram, trigram, or 4-gram matching. For example, ROUGE-1 is computed as division of count of unigrams in reference that appear in system and count of unigrams in reference summary.\\n\\nIf there are multiple references, the ROUGE-1 scores are averaged. Because ROUGE is based only on content overlap, it can determine if the same general concepts are discussed between an automatic summary and a reference summary, but it cannot determine if the result is coherent or the sentences flow together in a sensible manner. High-order n-gram ROUGE measures try to judge fluency to some degree. Note that ROUGE is similar to the BLEU measure for machine translation, but BLEU is precision- based, because translation systems favor accuracy.\\n\\nA promising line in document summarization is adaptive document/text summarization.[13] The idea of adaptive summarization involves preliminary recognition of document/text genre and subsequent application of summarization algorithms optimized for this genre. First summarizes that perform adaptive summarization have been created.[14]\\n\\nSupervised text summarization is very much like supervised keyphrase extraction. Basically, if you have a collection of documents and human-generated summaries for them, you can learn features of sentences that make them good candidates for inclusion in the summary. Features might include the position in the document (i.e., the first few sentences are probably important), the number of words in the sentence, etc. The main difficulty in supervised extractive summarization is that the known summaries must be manually created by extracting sentences so the sentences in an original training document can be labeled as \"in summary\" or \"not in summary\". This is not typically how people create summaries, so simply using journal abstracts or existing summaries is usually not sufficient. The sentences in these summaries do not necessarily match up with sentences in the original text, so it would be difficult to assign labels to examples for training. Note, however, that these natural summaries can still be used for evaluation purposes, since ROUGE-1 only cares about unigrams.\\n\\nDuring the DUC 2001 and 2002 evaluation workshops, TNO developed a sentence extraction system for multi-document summarization in the news domain. The system was based on a hybrid system using a naive Bayes classifier and statistical language models for modeling salience. Although the system exhibited good results, the researchers wanted to explore the effectiveness of a maximum entropy (ME) classifier for the meeting summarization task, as ME is known to be robust against feature dependencies. Maximum entropy has also been applied successfully for summarization in the broadcast news domain.\\n\\nThe unsupervised approach to summarization is also quite similar in spirit to unsupervised keyphrase extraction and gets around the issue of costly training data. Some unsupervised summarization approaches are based on finding a \"centroid\" sentence, which is the mean word vector of all the sentences in the document. Then the sentences can be ranked with regard to their similarity to this centroid sentence.\\n\\nA more principled way to estimate sentence importance is using random walks and eigenvector centrality. LexRank[15] is an algorithm essentially identical to TextRank, and both use this approach for document summarization. The two methods were developed by different groups at the same time, and LexRank simply focused on summarization, but could just as easily be used for keyphrase extraction or any other NLP ranking task.\\n\\nIn both LexRank and TextRank, a graph is constructed by creating a vertex for each sentence in the document.\\n\\nThe edges between sentences are based on some form of semantic similarity or content overlap. While LexRank uses cosine similarity of TF-IDF vectors, TextRank uses a very similar measure based on the number of words two sentences have in common (normalized by the sentences\\' lengths). The LexRank paper explored using unweighted edges after applying a threshold to the cosine values, but also experimented with using edges with weights equal to the similarity score. TextRank uses continuous similarity scores as weights.\\n\\nIn both algorithms, the sentences are ranked by applying PageRank to the resulting graph. A summary is formed by combining the top ranking sentences, using a threshold or length cutoff to limit the size of the summary.\\n\\nIt is worth noting that TextRank was applied to summarization exactly as described here, while LexRank was used as part of a larger summarization system (MEAD) that combines the LexRank score (stationary probability) with other features like sentence position and length using a linear combination with either user-specified or automatically tuned weights. In this case, some training documents might be needed, though the TextRank results show the additional features are not absolutely necessary.\\n\\nAnother important distinction is that TextRank was used for single document summarization, while LexRank has been applied to multi-document summarization. The task remains the same in both cases—only the number of sentences to choose from has grown. However, when summarizing multiple documents, there is a greater risk of selecting duplicate or highly redundant sentences to place in the same summary. Imagine you have a cluster of news articles on a particular event, and you want to produce one summary. Each article is likely to have many similar sentences, and you would only want to include distinct ideas in the summary. To address this issue, LexRank applies a heuristic post-processing step that builds up a summary by adding sentences in rank order, but discards any sentences that are too similar to ones already placed in the summary. The method used is called Cross-Sentence Information Subsumption (CSIS).\\n\\nThese methods work based on the idea that sentences \"recommend\" other similar sentences to the reader. Thus, if one sentence is very similar to many others, it will likely be a sentence of great importance. The importance of this sentence also stems from the importance of the sentences \"recommending\" it. Thus, to get ranked highly and placed in a summary, a sentence must be similar to many sentences that are in turn also similar to many other sentences. This makes intuitive sense and allows the algorithms to be applied to any arbitrary new text. The methods are domain-independent and easily portable. One could imagine the features indicating important sentences in the news domain might vary considerably from the biomedical domain. However, the unsupervised \"recommendation\"-based approach applies to any domain.\\n\\nMulti-document summarization is an automatic procedure aimed at extraction of information from multiple texts written about the same topic. Resulting summary report allows individual users, such as professional information consumers, to quickly familiarize themselves with information contained in a large cluster of documents. In such a way, multi-document summarization systems are complementing the news aggregators performing the next step down the road of coping with information overload. Multi-document summarization may also be done in response to a question.[16][8]\\n\\nMulti-document summarization creates information reports that are both concise and comprehensive. With different opinions being put together and outlined, every topic is described from multiple perspectives within a single document. While the goal of a brief summary is to simplify information search and cut the time by pointing to the most relevant source documents, comprehensive multi-document summary should itself contain the required information, hence limiting the need for accessing original files to cases when refinement is required. Automatic summaries present information extracted from multiple sources algorithmically, without any editorial touch or subjective human intervention, thus making it completely unbiased.[dubious – discuss]\\n\\nMulti-document extractive summarization faces a problem of potential redundancy. Ideally, we would like to extract sentences that are both \"central\" (i.e., contain the main ideas) and \"diverse\" (i.e., they differ from one another). LexRank deals with diversity as a heuristic final stage using CSIS, and other systems have used similar methods, such as Maximal Marginal Relevance (MMR),[17] in trying to eliminate redundancy in information retrieval results. There is a general purpose graph-based ranking algorithm like Page/Lex/TextRank that handles both \"centrality\" and \"diversity\" in a unified mathematical framework based on absorbing Markov chain random walks. (An absorbing random walk is like a standard random walk, except some states are now absorbing states that act as \"black holes\" that cause the walk to end abruptly at that state.) The algorithm is called GRASSHOPPER.[18] In addition to explicitly promoting diversity during the ranking process, GRASSHOPPER incorporates a prior ranking (based on sentence position in the case of summarization).\\n\\nThe state of the art results for multi-document summarization, however, are obtained using mixtures of submodular functions. These methods have achieved the state of the art results for Document Summarization Corpora, DUC 04 - 07.[19] Similar results were also achieved with the use of determinantal point processes (which are a special case of submodular functions) for DUC-04.[20]\\n\\nA new method for multi-lingual multi-document summarization that avoids redundancy works by simplifying and generating ideograms that represent the meaning of each sentence in each document and then evaluates similarity \"qualitatively\" by comparing the shape and position of said ideograms has recently been developed. This tool does not use word frequency, does not need training or preprocessing of any kind and works by generating ideograms that represent the meaning of each sentence and then summarizes using two user-supplied parameters: equivalence (when are two sentences to be considered equivalent) and relevance (how long is the desired summary).\\n\\nThe idea of a submodular set function has recently emerged as a powerful modeling tool for various summarization problems. Submodular functions naturally model notions of coverage, information, representation and diversity. Moreover, several important combinatorial optimization problems occur as special instances of submodular optimization. For example, the set cover problem is a special case of submodular optimization, since the set cover function is submodular. The set cover function attempts to find a subset of objects which cover a given set of concepts. For example, in document summarization, one would like the summary to cover all important and relevant concepts in the document. This is an instance of set cover. Similarly, the facility location problem is a special case of submodular functions. The Facility Location function also naturally models coverage and diversity. Another example of a submodular optimization problem is using a determinantal point process to model diversity. Similarly, the Maximum-Marginal-Relevance procedure can also be seen as an instance of submodular optimization. All these important models encouraging coverage, diversity and information are all submodular. Moreover, submodular functions can be efficiently combined, and the resulting function is still submodular. Hence, one could combine one submodular function which models diversity, another one which models coverage and use human supervision to learn a right model of a submodular function for the problem.\\n\\nWhile submodular functions are fitting problems for summarization, they also admit very efficient algorithms for optimization. For example, a simple greedy algorithm admits a constant factor guarantee.[21] Moreover, the greedy algorithm is extremely simple to implement and can scale to large datasets, which is very important for summarization problems.\\n\\nSubmodular functions have achieved state-of-the-art for almost all summarization problems. For example, work by Lin and Bilmes, 2012[22] shows that submodular functions achieve the best results to date on DUC-04, DUC-05, DUC-06 and DUC-07 systems for document summarization. Similarly, work by Lin and Bilmes, 2011,[23] shows that many existing systems for automatic summarization are instances of submodular functions. This was a breakthrough result establishing submodular functions as the right models for summarization problems.[citation needed]\\n\\nSubmodular Functions have also been used for other summarization tasks. Tschiatschek et al., 2014 show[24] that mixtures of submodular functions achieve state-of-the-art results for image collection summarization. Similarly, Bairi et al., 2015[25] show the utility of submodular functions for summarizing multi-document topic hierarchies. Submodular Functions have also successfully been used for summarizing machine learning datasets.[26]\\n• The Reddit bot \"autotldr\",[27] created in 2011 summarizes news articles in the comment-section of reddit posts. It was found to be very useful by the reddit community which upvoted its summaries hundreds of thousands of times.[28] The name is reference to TL;DR − Internet slang for \"too long; didn\\'t read\".[29][30]\\n\\nThe most common way to evaluate the informativeness of automatic summaries is to compare them with human-made model summaries.\\n\\nEvaluation techniques fall into intrinsic and extrinsic,[31] inter-textual and intra-textual.[32]\\n\\nAn intrinsic evaluation tests the summarization system in and of itself while an extrinsic evaluation tests the summarization based on how it affects the completion of some other task. Intrinsic evaluations have assessed mainly the coherence and informativeness of summaries. Extrinsic evaluations, on the other hand, have tested the impact of summarization on tasks like relevance assessment, reading comprehension, etc.\\n\\nIntra-textual methods assess the output of a specific summarization system, and the inter-textual ones focus on contrastive analysis of outputs of several summarization systems.\\n\\nHuman judgement often has wide variance on what is considered a \"good\" summary, which means that making the evaluation process automatic is particularly difficult. Manual evaluation can be used, but this is both time and labor-intensive as it requires humans to read not only the summaries but also the source documents. Other issues are those concerning coherence and coverage.\\n\\nOne of the metrics used in NIST\\'s annual Document Understanding Conferences, in which research groups submit their systems for both summarization and translation tasks, is the ROUGE metric (Recall-Oriented Understudy for Gisting Evaluation [2]). It essentially calculates n-gram overlaps between automatically generated summaries and previously written human summaries. A high level of overlap should indicate a high level of shared concepts between the two summaries. Note that overlap metrics like this are unable to provide any feedback on a summary\\'s coherence. Anaphor resolution remains another problem yet to be fully solved. Similarly, for image summarization, Tschiatschek et al., developed a Visual-ROUGE score which judges the performance of algorithms for image summarization.[33]\\n\\nDomain independent summarization techniques generally apply sets of general features which can be used to identify information-rich text segments. Recent research focus has drifted to domain-specific summarization techniques that utilize the available knowledge specific to the domain of text. For example, automatic summarization research on medical text generally attempts to utilize the various sources of codified medical knowledge and ontologies.[34]\\n\\nThe main drawback of the evaluation systems existing so far is that we need at least one reference summary, and for some methods more than one, to be able to compare automatic summaries with models. This is a hard and expensive task. Much effort has to be done in order to have corpus of texts and their corresponding summaries. Furthermore, for some methods, not only do we need to have human-made summaries available for comparison, but also manual annotation has to be performed in some of them (e.g. SCU in the Pyramid Method). In any case, what the evaluation methods need as an input, is a set of summaries to serve as gold standards and a set of automatic summaries. Moreover, they all perform a quantitative evaluation with regard to different similarity metrics.\\n\\nThe first publication in the area dates back to 1957 [35] (Hans Peter Luhn), starting with a statistical technique. Research increased significantly in 2015. Term frequency–inverse document frequency had been used by 2016. Pattern-based summarization was the most powerful option for multi-document summarization found by 2016. In the following year it was surpassed by latent semantic analysis (LSA) combined with non-negative matrix factorization (NMF). Although they did not replace other approaches and are often combined with them, by 2019 machine learning methods dominated the extractive summarization of single documents, which was considered to be nearing maturity. By 2020, the field was still very active and research is shifting towards abstractive summation and real-time summarization.[36]\\n\\nRecently the rise of Transformer models replacing more traditional RNN (LSTM) have provided a flexibility in the mapping of text sequences to text sequences of a different type, which is well suited to automatic summarization. This includes models such as T5[37] and Pegasus.\\n• None Roxana, Angheluta (2002). The Use of Topic Segmentation for Automatic Summarization.\\n• None Elena, Lloret and Manuel, Palomar (2009). Challenging Issues of Automatic Summarization: Relevance Detection and Quality-based Evaluation.\\n• None Alrehamy, Hassan (2017). \"SemCluster: Unsupervised Automatic Keyphrase Extraction Using Affinity Propagation\". Automatic Keyphrases Extraction. Advances in Intelligent Systems and Computing. Vol. 650. pp. 222–235. doi:10.1007/978-3-319-66939-7_19. ISBN .\\n• None Marcu, Daniel (2000). The Theory and Practice of Discourse Parsing and Summarization. ISBN .\\n• , Published in Proceeding RIAO\\'10 Adaptivity, Personalization and Fusion of Heterogeneous Information, CID Paris, France\\n• None Xiaojin, Zhu, Andrew Goldberg, Jurgen Van Gael, and David Andrzejewski (2007). Improving diversity in ranking using absorbing random walks . , The GRASSHOPPER algorithm\\n• None Miranda-Jiménez, Sabino, Gelbukh, Alexander, and Sidorov, Grigori (2013). \"Summarizing Conceptual Graphs for Automatic Summarization Task\". Conceptual Structures for STEM Research and Education. Lecture Notes in Computer Science. Vol. 7735. pp. 245–253. doi:10.1007/978-3-642-35786-2_18. ISBN . , Conceptual Structures for STEM Research and Education.'"
      ]
     },
     "execution_count": 103,
     "metadata": {},
     "output_type": "execute_result"
    }
   ],
   "source": [
    "article.cleaned_text"
   ]
  },
  {
   "cell_type": "code",
   "execution_count": null,
   "metadata": {},
   "outputs": [
    {
     "data": {
      "text/plain": [
       "36389"
      ]
     },
     "execution_count": 104,
     "metadata": {},
     "output_type": "execute_result"
    }
   ],
   "source": [
    "len(article.cleaned_text)"
   ]
  },
  {
   "cell_type": "code",
   "execution_count": null,
   "metadata": {},
   "outputs": [
    {
     "data": {
      "text/plain": [
       "\"automatic summarization process shortening set data computationally create subset summary represents important relevant information within original content addition text images videos also summarized text summarization finds informative sentences document 1 various methods image summarization subject ongoing research looking display representative images given collection generating video 2 3 4 video summarization extracts important frames video content 5 two general approaches automatic summarization extraction abstraction content extracted original data extracted content modified way examples extracted content include key-phrases used `` tag '' index text document key sentences including headings collectively comprise abstract representative images video segments stated text extraction analogous process skimming summary available headings subheadings figures first last paragraphs section optionally first last sentences paragraph read one chooses read entire document detail 7 examples extraction include key sequences text terms clinical relevance including patient/problem intervention outcome 8 applied mainly text abstractive methods build internal semantic representation original content use representation create summary closer human might express abstraction may transform extracted content paraphrasing sections source document condense text strongly extraction transformation however computationally much challenging extraction involving natural language processing often deep understanding domain original text cases original document relates special field knowledge `` paraphrasing '' even difficult apply image video summarization systems extractive approaches aimed higher summarization quality rely combined software human effort machine aided human summarization extractive techniques highlight candidate passages inclusion human adds removes text human aided machine summarization human post-processes software output way one edits output automatic translation google translate broadly two types extractive summarization tasks depending summarization program focuses first generic summarization focuses obtaining generic summary abstract collection whether documents sets images videos news stories etc. second query relevant summarization sometimes called query-based summarization summarizes objects specific query summarization systems able create query relevant text summaries generic machine-generated summaries depending user needs example summarization problem document summarization attempts automatically produce abstract given document sometimes one might interested generating summary single source document others use multiple source documents example cluster articles topic problem called multi-document summarization related application summarizing news articles imagine system automatically pulls together news articles given topic web concisely represents latest news summary image collection summarization another application example automatic summarization consists selecting representative set images larger set images 9 summary context useful show representative images results image collection exploration system video summarization related domain system automatically creates trailer long video also applications consumer personal videos one might want skip boring repetitive actions similarly surveillance videos one would want extract important suspicious activity ignoring boring redundant frames captured high level summarization algorithms try find subsets objects like set sentences set images cover information entire set also called core-set algorithms model notions like diversity coverage information representativeness summary query based summarization techniques additionally model relevance summary query techniques algorithms naturally model summarization problems textrank pagerank submodular set function determinantal point process maximal marginal relevance mmr etc task following given piece text journal article must produce list keywords key phrase capture primary topics discussed text 10 case research articles many authors provide manually assigned keywords text lacks pre-existing keyphrases example news articles rarely keyphrases attached would useful able automatically number applications discussed consider example text news article keyphrase extractor might select `` army corps engineers '' `` president bush '' `` new orleans '' `` defective flood-control pumps '' keyphrases pulled directly text contrast abstractive keyphrase system would somehow internalize content generate keyphrases appear text closely resemble human might produce `` political negligence '' `` inadequate protection floods '' abstraction requires deep understanding text makes difficult computer system keyphrases many applications enable document browsing providing short summary improve information retrieval documents keyphrases assigned user could search keyphrase produce reliable hits full-text search employed generating index entries large text corpus depending different literature definition key terms words phrases keyword extraction highly related theme beginning work turney 11 many researchers approached keyphrase extraction supervised machine learning problem given document construct example unigram bigram trigram found text though text units also possible discussed compute various features describing example e.g. phrase begin upper-case letter assume known keyphrases available set training documents using known keyphrases assign positive negative labels examples learn classifier discriminate positive negative examples function features classifiers make binary classification test example others assign probability keyphrase instance text might learn rule says phrases initial capital letters likely keyphrases training learner select keyphrases test documents following manner apply example-generation strategy test documents run example learner determine keyphrases looking binary classification decisions probabilities returned learned model probabilities given threshold used select keyphrases keyphrase extractors generally evaluated using precision recall precision measures many proposed keyphrases actually correct recall measures many true keyphrases system proposed two measures combined f-score harmonic mean two f 2pr/ p r matches proposed keyphrases known keyphrases checked stemming applying text normalization designing supervised keyphrase extraction system involves deciding several choices apply unsupervised first choice exactly generate examples turney others used possible unigrams bigrams trigrams without intervening punctuation removing stopwords hulth showed get improvement selecting examples sequences tokens match certain patterns part-of-speech tags ideally mechanism generating examples produces known labeled keyphrases candidates though often case example use unigrams bigrams trigrams never able extract known keyphrase containing four words thus recall may suffer however generating many examples also lead low precision also need create features describe examples informative enough allow learning algorithm discriminate keyphrases non- keyphrases typically features involve various term frequencies many times phrase appears current text larger corpus length example relative position first occurrence various boolean syntactic features e.g. contains caps etc turney paper used 12 features hulth uses reduced set features found successful kea keyphrase extraction algorithm work derived turney 's seminal paper end system need return list keyphrases test document need way limit number ensemble methods i.e. using votes several classifiers used produce numeric scores thresholded provide user-provided number keyphrases technique used turney c4.5 decision trees hulth used single binary classifier learning algorithm implicitly determines appropriate number examples features created need way learn predict keyphrases virtually supervised learning algorithm could used decision trees naive bayes rule induction case turney 's genex algorithm genetic algorithm used learn parameters domain-specific keyphrase extraction algorithm extractor follows series heuristics identify keyphrases genetic algorithm optimizes parameters heuristics respect performance training documents known key phrases another keyphrase extraction algorithm textrank supervised methods nice properties like able produce interpretable rules features characterize keyphrase also require large amount training data many documents known keyphrases needed furthermore training specific domain tends customize extraction process domain resulting classifier necessarily portable turney 's results demonstrate unsupervised keyphrase extraction removes need training data approaches problem different angle instead trying learn explicit features characterize keyphrases textrank algorithm 12 exploits structure text determine keyphrases appear `` central '' text way pagerank selects important web pages recall based notion `` prestige '' `` recommendation '' social networks way textrank rely previous training data rather run arbitrary piece text produce output simply based text 's intrinsic properties thus algorithm easily portable new domains languages textrank general purpose graph-based ranking algorithm nlp essentially runs pagerank graph specially designed particular nlp task keyphrase extraction builds graph using set text units vertices edges based measure semantic lexical similarity text unit vertices unlike pagerank edges typically undirected weighted reflect degree similarity graph constructed used form stochastic matrix combined damping factor `` random surfer model '' ranking vertices obtained finding eigenvector corresponding eigenvalue 1 i.e. stationary distribution random walk graph vertices correspond want rank potentially could something similar supervised methods create vertex unigram bigram trigram etc however keep graph small authors decide rank individual unigrams first step include second step merges highly ranked adjacent unigrams form multi-word phrases nice side effect allowing us produce keyphrases arbitrary length example rank unigrams find `` advanced '' `` natural '' `` language '' `` processing '' get high ranks would look original text see words appear consecutively create final keyphrase using four together note unigrams placed graph filtered part speech authors found adjectives nouns best include thus linguistic knowledge comes play step edges created based word co-occurrence application textrank two vertices connected edge unigrams appear within window size n original text n typically around 2–10 thus `` natural '' `` language '' might linked text nlp `` natural '' `` processing '' would also linked would appear string n words edges build notion `` text cohesion '' idea words appear near likely related meaningful way `` recommend '' reader since method simply ranks individual vertices need way threshold produce limited number keyphrases technique chosen set count user-specified fraction total number vertices graph top vertices/unigrams selected based stationary probabilities post- processing step applied merge adjacent instances unigrams result potentially less final keyphrases produced number roughly proportional length original text initially clear applying pagerank co-occurrence graph would produce useful keyphrases one way think following word appears multiple times throughout text may many different co-occurring neighbors example text machine learning unigram `` learning '' might co-occur `` machine '' `` supervised '' `` un-supervised '' `` semi-supervised '' four different sentences thus `` learning '' vertex would central `` hub '' connects modifying words running pagerank/textrank graph likely rank `` learning '' highly similarly text contains phrase `` supervised classification '' would edge `` supervised '' `` classification '' `` classification '' appears several places thus many neighbors importance would contribute importance `` supervised '' ends high rank selected one top unigrams along `` learning '' probably `` classification '' final post-processing step would end keyphrases `` supervised learning '' `` supervised classification '' short co-occurrence graph contain densely connected regions terms appear often different contexts random walk graph stationary distribution assigns large probabilities terms centers clusters similar densely connected web pages getting ranked highly pagerank approach also used document summarization considered like keyphrase extraction document summarization aims identify essence text real difference dealing larger text units—whole sentences instead words phrases getting details summarization methods mention summarization systems typically evaluated common way using so-called rouge recall-oriented understudy gisting evaluation measure recall-based measure determines well system-generated summary covers content present one human-generated model summaries known references recall-based encourage systems include important topics text recall computed respect unigram bigram trigram 4-gram matching example rouge-1 computed division count unigrams reference appear system count unigrams reference summary multiple references rouge-1 scores averaged rouge based content overlap determine general concepts discussed automatic summary reference summary determine result coherent sentences flow together sensible manner high-order n-gram rouge measures try judge fluency degree note rouge similar bleu measure machine translation bleu precision- based translation systems favor accuracy promising line document summarization adaptive document/text summarization 13 idea adaptive summarization involves preliminary recognition document/text genre subsequent application summarization algorithms optimized genre first summarizes perform adaptive summarization created 14 supervised text summarization much like supervised keyphrase extraction basically collection documents human-generated summaries learn features sentences make good candidates inclusion summary features might include position document i.e. first sentences probably important number words sentence etc main difficulty supervised extractive summarization known summaries must manually created extracting sentences sentences original training document labeled `` summary '' `` summary '' typically people create summaries simply using journal abstracts existing summaries usually sufficient sentences summaries necessarily match sentences original text would difficult assign labels examples training note however natural summaries still used evaluation purposes since rouge-1 cares unigrams duc 2001 2002 evaluation workshops tno developed sentence extraction system multi-document summarization news domain system based hybrid system using naive bayes classifier statistical language models modeling salience although system exhibited good results researchers wanted explore effectiveness maximum entropy classifier meeting summarization task known robust feature dependencies maximum entropy also applied successfully summarization broadcast news domain unsupervised approach summarization also quite similar spirit unsupervised keyphrase extraction gets around issue costly training data unsupervised summarization approaches based finding `` centroid '' sentence mean word vector sentences document sentences ranked regard similarity centroid sentence principled way estimate sentence importance using random walks eigenvector centrality lexrank 15 algorithm essentially identical textrank use approach document summarization two methods developed different groups time lexrank simply focused summarization could easily used keyphrase extraction nlp ranking task lexrank textrank graph constructed creating vertex sentence document edges sentences based form semantic similarity content overlap lexrank uses cosine similarity tf-idf vectors textrank uses similar measure based number words two sentences common normalized sentences lengths lexrank paper explored using unweighted edges applying threshold cosine values also experimented using edges weights equal similarity score textrank uses continuous similarity scores weights algorithms sentences ranked applying pagerank resulting graph summary formed combining top ranking sentences using threshold length cutoff limit size summary worth noting textrank applied summarization exactly described lexrank used part larger summarization system mead combines lexrank score stationary probability features like sentence position length using linear combination either user-specified automatically tuned weights case training documents might needed though textrank results show additional features absolutely necessary another important distinction textrank used single document summarization lexrank applied multi-document summarization task remains cases—only number sentences choose grown however summarizing multiple documents greater risk selecting duplicate highly redundant sentences place summary imagine cluster news articles particular event want produce one summary article likely many similar sentences would want include distinct ideas summary address issue lexrank applies heuristic post-processing step builds summary adding sentences rank order discards sentences similar ones already placed summary method used called cross-sentence information subsumption csis methods work based idea sentences `` recommend '' similar sentences reader thus one sentence similar many others likely sentence great importance importance sentence also stems importance sentences `` recommending '' thus get ranked highly placed summary sentence must similar many sentences turn also similar many sentences makes intuitive sense allows algorithms applied arbitrary new text methods domain-independent easily portable one could imagine features indicating important sentences news domain might vary considerably biomedical domain however unsupervised `` recommendation '' -based approach applies domain multi-document summarization automatic procedure aimed extraction information multiple texts written topic resulting summary report allows individual users professional information consumers quickly familiarize information contained large cluster documents way multi-document summarization systems complementing news aggregators performing next step road coping information overload multi-document summarization may also done response question 16 8 multi-document summarization creates information reports concise comprehensive different opinions put together outlined every topic described multiple perspectives within single document goal brief summary simplify information search cut time pointing relevant source documents comprehensive multi-document summary contain required information hence limiting need accessing original files cases refinement required automatic summaries present information extracted multiple sources algorithmically without editorial touch subjective human intervention thus making completely unbiased dubious – discuss multi-document extractive summarization faces problem potential redundancy ideally would like extract sentences `` central '' i.e. contain main ideas `` diverse '' i.e. differ one another lexrank deals diversity heuristic final stage using csis systems used similar methods maximal marginal relevance mmr 17 trying eliminate redundancy information retrieval results general purpose graph-based ranking algorithm like page/lex/textrank handles `` centrality '' `` diversity '' unified mathematical framework based absorbing markov chain random walks absorbing random walk like standard random walk except states absorbing states act `` black holes '' cause walk end abruptly state algorithm called grasshopper 18 addition explicitly promoting diversity ranking process grasshopper incorporates prior ranking based sentence position case summarization state art results multi-document summarization however obtained using mixtures submodular functions methods achieved state art results document summarization corpora duc 04 07 19 similar results also achieved use determinantal point processes special case submodular functions duc-04 20 new method multi-lingual multi-document summarization avoids redundancy works simplifying generating ideograms represent meaning sentence document evaluates similarity `` qualitatively '' comparing shape position said ideograms recently developed tool use word frequency need training preprocessing kind works generating ideograms represent meaning sentence summarizes using two user-supplied parameters equivalence two sentences considered equivalent relevance long desired summary idea submodular set function recently emerged powerful modeling tool various summarization problems submodular functions naturally model notions coverage information representation diversity moreover several important combinatorial optimization problems occur special instances submodular optimization example set cover problem special case submodular optimization since set cover function submodular set cover function attempts find subset objects cover given set concepts example document summarization one would like summary cover important relevant concepts document instance set cover similarly facility location problem special case submodular functions facility location function also naturally models coverage diversity another example submodular optimization problem using determinantal point process model diversity similarly maximum-marginal-relevance procedure also seen instance submodular optimization important models encouraging coverage diversity information submodular moreover submodular functions efficiently combined resulting function still submodular hence one could combine one submodular function models diversity another one models coverage use human supervision learn right model submodular function problem submodular functions fitting problems summarization also admit efficient algorithms optimization example simple greedy algorithm admits constant factor guarantee 21 moreover greedy algorithm extremely simple implement scale large datasets important summarization problems submodular functions achieved state-of-the-art almost summarization problems example work lin bilmes 2012 22 shows submodular functions achieve best results date duc-04 duc-05 duc-06 duc-07 systems document summarization similarly work lin bilmes 2011 23 shows many existing systems automatic summarization instances submodular functions breakthrough result establishing submodular functions right models summarization problems citation needed submodular functions also used summarization tasks tschiatschek et al. 2014 show 24 mixtures submodular functions achieve state-of-the-art results image collection summarization similarly bairi et al. 2015 25 show utility submodular functions summarizing multi-document topic hierarchies submodular functions also successfully used summarizing machine learning datasets 26 • reddit bot `` autotldr '' 27 created 2011 summarizes news articles comment-section reddit posts found useful reddit community upvoted summaries hundreds thousands times 28 name reference tl dr − internet slang `` long n't read '' 29 30 common way evaluate informativeness automatic summaries compare human-made model summaries evaluation techniques fall intrinsic extrinsic 31 inter-textual intra-textual 32 intrinsic evaluation tests summarization system extrinsic evaluation tests summarization based affects completion task intrinsic evaluations assessed mainly coherence informativeness summaries extrinsic evaluations hand tested impact summarization tasks like relevance assessment reading comprehension etc intra-textual methods assess output specific summarization system inter-textual ones focus contrastive analysis outputs several summarization systems human judgement often wide variance considered `` good '' summary means making evaluation process automatic particularly difficult manual evaluation used time labor-intensive requires humans read summaries also source documents issues concerning coherence coverage one metrics used nist 's annual document understanding conferences research groups submit systems summarization translation tasks rouge metric recall-oriented understudy gisting evaluation 2 essentially calculates n-gram overlaps automatically generated summaries previously written human summaries high level overlap indicate high level shared concepts two summaries note overlap metrics like unable provide feedback summary 's coherence anaphor resolution remains another problem yet fully solved similarly image summarization tschiatschek et al. developed visual-rouge score judges performance algorithms image summarization 33 domain independent summarization techniques generally apply sets general features used identify information-rich text segments recent research focus drifted domain-specific summarization techniques utilize available knowledge specific domain text example automatic summarization research medical text generally attempts utilize various sources codified medical knowledge ontologies 34 main drawback evaluation systems existing far need least one reference summary methods one able compare automatic summaries models hard expensive task much effort done order corpus texts corresponding summaries furthermore methods need human-made summaries available comparison also manual annotation performed e.g scu pyramid method case evaluation methods need input set summaries serve gold standards set automatic summaries moreover perform quantitative evaluation regard different similarity metrics first publication area dates back 1957 35 hans peter luhn starting statistical technique research increased significantly 2015. term frequency–inverse document frequency used 2016. pattern-based summarization powerful option multi-document summarization found 2016. following year surpassed latent semantic analysis lsa combined non-negative matrix factorization nmf although replace approaches often combined 2019 machine learning methods dominated extractive summarization single documents considered nearing maturity 2020 field still active research shifting towards abstractive summation real-time summarization 36 recently rise transformer models replacing traditional rnn lstm provided flexibility mapping text sequences text sequences different type well suited automatic summarization includes models t5 37 pegasus • none roxana angheluta 2002 use topic segmentation automatic summarization • none elena lloret manuel palomar 2009 challenging issues automatic summarization relevance detection quality-based evaluation • none alrehamy hassan 2017 `` semcluster unsupervised automatic keyphrase extraction using affinity propagation '' automatic keyphrases extraction advances intelligent systems computing vol 650. pp 222–235 doi:10.1007/978-3-319-66939-7_19 isbn • none marcu daniel 2000 theory practice discourse parsing summarization isbn • published proceeding riao'10 adaptivity personalization fusion heterogeneous information cid paris france • none xiaojin zhu andrew goldberg jurgen van gael david andrzejewski 2007 improving diversity ranking using absorbing random walks grasshopper algorithm • none miranda-jiménez sabino gelbukh alexander sidorov grigori 2013 `` summarizing conceptual graphs automatic summarization task '' conceptual structures stem research education lecture notes computer science vol 7735. pp 245–253 doi:10.1007/978-3-642-35786-2_18 isbn conceptual structures stem research education\""
      ]
     },
     "execution_count": 105,
     "metadata": {},
     "output_type": "execute_result"
    }
   ],
   "source": [
    "formatted_article = preprocess(article.cleaned_text)\n",
    "formatted_article"
   ]
  },
  {
   "cell_type": "code",
   "execution_count": null,
   "metadata": {},
   "outputs": [
    {
     "data": {
      "text/plain": [
       "27626"
      ]
     },
     "execution_count": 106,
     "metadata": {},
     "output_type": "execute_result"
    }
   ],
   "source": [
    "len(formatted_article)"
   ]
  },
  {
   "cell_type": "code",
   "execution_count": null,
   "metadata": {},
   "outputs": [],
   "source": [
    "def summarize(text, number_of_sentences, percentage = 0):\n",
    "  original_text = text\n",
    "  formatted_text = preprocess(original_text)\n",
    "\n",
    "  word_frequency = nltk.FreqDist(nltk.word_tokenize(formatted_text))\n",
    "  highest_frequency = max(word_frequency.values())\n",
    "  for word in word_frequency.keys():\n",
    "    word_frequency[word] = (word_frequency[word] / highest_frequency)\n",
    "  sentence_list = nltk.sent_tokenize(original_text)\n",
    "  \n",
    "  score_sentences = {}\n",
    "  for sentence in sentence_list:\n",
    "    for word in nltk.word_tokenize(sentence):\n",
    "      if word in word_frequency.keys():\n",
    "        if sentence not in score_sentences.keys():\n",
    "          score_sentences[sentence] = word_frequency[word]\n",
    "        else:\n",
    "          score_sentences[sentence] += word_frequency[word]\n",
    "\n",
    "  import heapq\n",
    "  if percentage > 0:\n",
    "    best_sentences = heapq.nlargest(int(len(sentence_list) * percentage), score_sentences, key=score_sentences.get)\n",
    "  else:\n",
    "    best_sentences = heapq.nlargest(number_of_sentences, score_sentences, key=score_sentences.get)\n",
    "\n",
    "  return sentence_list, best_sentences, word_frequency, score_sentences"
   ]
  },
  {
   "cell_type": "code",
   "execution_count": null,
   "metadata": {},
   "outputs": [
    {
     "data": {
      "text/plain": [
       "10"
      ]
     },
     "execution_count": 108,
     "metadata": {},
     "output_type": "execute_result"
    }
   ],
   "source": [
    "len(sentence_list)"
   ]
  },
  {
   "cell_type": "code",
   "execution_count": null,
   "metadata": {},
   "outputs": [
    {
     "data": {
      "text/plain": [
       "2000.0"
      ]
     },
     "execution_count": 109,
     "metadata": {},
     "output_type": "execute_result"
    }
   ],
   "source": [
    "(200 / len(sentence_list)) * 100"
   ]
  },
  {
   "cell_type": "code",
   "execution_count": null,
   "metadata": {},
   "outputs": [],
   "source": [
    "sentence_list, best_sentences, word_frequency, score_sentences = summarize(article.cleaned_text, 10)"
   ]
  },
  {
   "cell_type": "code",
   "execution_count": null,
   "metadata": {},
   "outputs": [
    {
     "data": {
      "text/plain": [
       "['Automatic summarization is the process of shortening a set of data computationally, to create a subset (a summary) that represents the most important or relevant information within the original content.',\n",
       " 'In addition to text, images and videos can also be summarized.',\n",
       " 'Text summarization finds the most informative sentences in a document;[1] various methods of image summarization are the subject of ongoing research, with some looking to display the most representative images from a given collection or generating a video;[2][3][4] video summarization extracts the most important frames from the video content.',\n",
       " '[5]\\n\\nThere are two general approaches to automatic summarization: extraction and abstraction.',\n",
       " 'Here, content is extracted from the original data, but the extracted content is not modified in any way.',\n",
       " 'Examples of extracted content include key-phrases that can be used to \"tag\" or index a text document, or key sentences (including headings) that collectively comprise an abstract, and representative images or video segments, as stated above.',\n",
       " 'For text, extraction is analogous to the process of skimming, where the summary (if available), headings and subheadings, figures, the first and last paragraphs of a section, and optionally the first and last sentences in a paragraph are read before one chooses to read the entire document in detail.',\n",
       " '[7] Other examples of extraction that include key sequences of text in terms of clinical relevance (including patient/problem, intervention, and outcome).',\n",
       " '[8]\\n\\nThis has been applied mainly for text.',\n",
       " 'Abstractive methods build an internal semantic representation of the original content, and then use this representation to create a summary that is closer to what a human might express.',\n",
       " 'Abstraction may transform the extracted content by paraphrasing sections of the source document, to condense a text more strongly than extraction.',\n",
       " 'Such transformation, however, is computationally much more challenging than extraction, involving both natural language processing and often a deep understanding of the domain of the original text in cases where the original document relates to a special field of knowledge.',\n",
       " '\"Paraphrasing\" is even more difficult to apply to image and video, which is why most summarization systems are extractive.',\n",
       " 'Approaches aimed at higher summarization quality rely on combined software and human effort.',\n",
       " 'In Machine Aided Human Summarization, extractive techniques highlight candidate passages for inclusion (to which the human adds or removes text).',\n",
       " 'In Human Aided Machine Summarization, a human post-processes software output, in the same way that one edits the output of automatic translation by Google Translate.',\n",
       " 'There are broadly two types of extractive summarization tasks depending on what the summarization program focuses on.',\n",
       " 'The first is generic summarization, which focuses on obtaining a generic summary or abstract of the collection (whether documents, or sets of images, or videos, news stories etc.).',\n",
       " 'The second is query relevant summarization, sometimes called query-based summarization, which summarizes objects specific to a query.',\n",
       " 'Summarization systems are able to create both query relevant text summaries and generic machine-generated summaries depending on what the user needs.',\n",
       " 'An example of a summarization problem is document summarization, which attempts to automatically produce an abstract from a given document.',\n",
       " 'Sometimes one might be interested in generating a summary from a single source document, while others can use multiple source documents (for example, a cluster of articles on the same topic).',\n",
       " 'This problem is called multi-document summarization.',\n",
       " 'A related application is summarizing news articles.',\n",
       " 'Imagine a system, which automatically pulls together news articles on a given topic (from the web), and concisely represents the latest news as a summary.',\n",
       " 'Image collection summarization is another application example of automatic summarization.',\n",
       " 'It consists in selecting a representative set of images from a larger set of images.',\n",
       " '[9] A summary in this context is useful to show the most representative images of results in an image collection exploration system.',\n",
       " 'Video summarization is a related domain, where the system automatically creates a trailer of a long video.',\n",
       " 'This also has applications in consumer or personal videos, where one might want to skip the boring or repetitive actions.',\n",
       " 'Similarly, in surveillance videos, one would want to extract important and suspicious activity, while ignoring all the boring and redundant frames captured.',\n",
       " 'At a very high level, summarization algorithms try to find subsets of objects (like set of sentences, or a set of images), which cover information of the entire set.',\n",
       " 'This is also called the core-set.',\n",
       " 'These algorithms model notions like diversity, coverage, information and representativeness of the summary.',\n",
       " 'Query based summarization techniques, additionally model for relevance of the summary with the query.',\n",
       " 'Some techniques and algorithms which naturally model summarization problems are TextRank and PageRank, Submodular set function, Determinantal point process, maximal marginal relevance (MMR) etc.',\n",
       " 'The task is the following.',\n",
       " 'You are given a piece of text, such as a journal article, and you must produce a list of keywords or key[phrase]s that capture the primary topics discussed in the text.',\n",
       " '[10] In the case of research articles, many authors provide manually assigned keywords, but most text lacks pre-existing keyphrases.',\n",
       " 'For example, news articles rarely have keyphrases attached, but it would be useful to be able to automatically do so for a number of applications discussed below.',\n",
       " 'Consider the example text from a news article:\\n\\nA keyphrase extractor might select \"Army Corps of Engineers\", \"President Bush\", \"New Orleans\", and \"defective flood-control pumps\" as keyphrases.',\n",
       " 'These are pulled directly from the text.',\n",
       " 'In contrast, an abstractive keyphrase system would somehow internalize the content and generate keyphrases that do not appear in the text, but more closely resemble what a human might produce, such as \"political negligence\" or \"inadequate protection from floods\".',\n",
       " 'Abstraction requires a deep understanding of the text, which makes it difficult for a computer system.',\n",
       " 'Keyphrases have many applications.',\n",
       " 'They can enable document browsing by providing a short summary, improve information retrieval (if documents have keyphrases assigned, a user could search by keyphrase to produce more reliable hits than a full-text search), and be employed in generating index entries for a large text corpus.',\n",
       " 'Depending on the different literature and the definition of key terms, words or phrases, keyword extraction is a highly related theme.',\n",
       " 'Beginning with the work of Turney,[11] many researchers have approached keyphrase extraction as a supervised machine learning problem.',\n",
       " 'Given a document, we construct an example for each unigram, bigram, and trigram found in the text (though other text units are also possible, as discussed below).',\n",
       " 'We then compute various features describing each example (e.g., does the phrase begin with an upper-case letter?).',\n",
       " 'We assume there are known keyphrases available for a set of training documents.',\n",
       " 'Using the known keyphrases, we can assign positive or negative labels to the examples.',\n",
       " 'Then we learn a classifier that can discriminate between positive and negative examples as a function of the features.',\n",
       " 'Some classifiers make a binary classification for a test example, while others assign a probability of being a keyphrase.',\n",
       " 'For instance, in the above text, we might learn a rule that says phrases with initial capital letters are likely to be keyphrases.',\n",
       " 'After training a learner, we can select keyphrases for test documents in the following manner.',\n",
       " 'We apply the same example-generation strategy to the test documents, then run each example through the learner.',\n",
       " 'We can determine the keyphrases by looking at binary classification decisions or probabilities returned from our learned model.',\n",
       " 'If probabilities are given, a threshold is used to select the keyphrases.',\n",
       " 'Keyphrase extractors are generally evaluated using precision and recall.',\n",
       " 'Precision measures how many of the proposed keyphrases are actually correct.',\n",
       " 'Recall measures how many of the true keyphrases your system proposed.',\n",
       " 'The two measures can be combined in an F-score, which is the harmonic mean of the two (F = 2PR/(P + R) ).',\n",
       " 'Matches between the proposed keyphrases and the known keyphrases can be checked after stemming or applying some other text normalization.',\n",
       " 'Designing a supervised keyphrase extraction system involves deciding on several choices (some of these apply to unsupervised, too).',\n",
       " 'The first choice is exactly how to generate examples.',\n",
       " 'Turney and others have used all possible unigrams, bigrams, and trigrams without intervening punctuation and after removing stopwords.',\n",
       " 'Hulth showed that you can get some improvement by selecting examples to be sequences of tokens that match certain patterns of part-of-speech tags.',\n",
       " 'Ideally, the mechanism for generating examples produces all the known labeled keyphrases as candidates, though this is often not the case.',\n",
       " 'For example, if we use only unigrams, bigrams, and trigrams, then we will never be able to extract a known keyphrase containing four words.',\n",
       " 'Thus, recall may suffer.',\n",
       " 'However, generating too many examples can also lead to low precision.',\n",
       " 'We also need to create features that describe the examples and are informative enough to allow a learning algorithm to discriminate keyphrases from non- keyphrases.',\n",
       " 'Typically features involve various term frequencies (how many times a phrase appears in the current text or in a larger corpus), the length of the example, relative position of the first occurrence, various boolean syntactic features (e.g., contains all caps), etc.',\n",
       " 'The Turney paper used about 12 such features.',\n",
       " \"Hulth uses a reduced set of features, which were found most successful in the KEA (Keyphrase Extraction Algorithm) work derived from Turney's seminal paper.\",\n",
       " 'In the end, the system will need to return a list of keyphrases for a test document, so we need to have a way to limit the number.',\n",
       " 'Ensemble methods (i.e., using votes from several classifiers) have been used to produce numeric scores that can be thresholded to provide a user-provided number of keyphrases.',\n",
       " 'This is the technique used by Turney with C4.5 decision trees.',\n",
       " 'Hulth used a single binary classifier so the learning algorithm implicitly determines the appropriate number.',\n",
       " 'Once examples and features are created, we need a way to learn to predict keyphrases.',\n",
       " 'Virtually any supervised learning algorithm could be used, such as decision trees, Naive Bayes, and rule induction.',\n",
       " \"In the case of Turney's GenEx algorithm, a genetic algorithm is used to learn parameters for a domain-specific keyphrase extraction algorithm.\",\n",
       " 'The extractor follows a series of heuristics to identify keyphrases.',\n",
       " 'The genetic algorithm optimizes parameters for these heuristics with respect to performance on training documents with known key phrases.',\n",
       " 'Another keyphrase extraction algorithm is TextRank.',\n",
       " 'While supervised methods have some nice properties, like being able to produce interpretable rules for what features characterize a keyphrase, they also require a large amount of training data.',\n",
       " 'Many documents with known keyphrases are needed.',\n",
       " \"Furthermore, training on a specific domain tends to customize the extraction process to that domain, so the resulting classifier is not necessarily portable, as some of Turney's results demonstrate.\",\n",
       " 'Unsupervised keyphrase extraction removes the need for training data.',\n",
       " 'It approaches the problem from a different angle.',\n",
       " 'Instead of trying to learn explicit features that characterize keyphrases, the TextRank algorithm[12] exploits the structure of the text itself to determine keyphrases that appear \"central\" to the text in the same way that PageRank selects important Web pages.',\n",
       " 'Recall this is based on the notion of \"prestige\" or \"recommendation\" from social networks.',\n",
       " \"In this way, TextRank does not rely on any previous training data at all, but rather can be run on any arbitrary piece of text, and it can produce output simply based on the text's intrinsic properties.\",\n",
       " 'Thus the algorithm is easily portable to new domains and languages.',\n",
       " 'TextRank is a general purpose graph-based ranking algorithm for NLP.',\n",
       " 'Essentially, it runs PageRank on a graph specially designed for a particular NLP task.',\n",
       " 'For keyphrase extraction, it builds a graph using some set of text units as vertices.',\n",
       " 'Edges are based on some measure of semantic or lexical similarity between the text unit vertices.',\n",
       " 'Unlike PageRank, the edges are typically undirected and can be weighted to reflect a degree of similarity.',\n",
       " 'Once the graph is constructed, it is used to form a stochastic matrix, combined with a damping factor (as in the \"random surfer model\"), and the ranking over vertices is obtained by finding the eigenvector corresponding to eigenvalue 1 (i.e., the stationary distribution of the random walk on the graph).',\n",
       " 'The vertices should correspond to what we want to rank.',\n",
       " 'Potentially, we could do something similar to the supervised methods and create a vertex for each unigram, bigram, trigram, etc.',\n",
       " 'However, to keep the graph small, the authors decide to rank individual unigrams in a first step, and then include a second step that merges highly ranked adjacent unigrams to form multi-word phrases.',\n",
       " 'This has a nice side effect of allowing us to produce keyphrases of arbitrary length.',\n",
       " 'For example, if we rank unigrams and find that \"advanced\", \"natural\", \"language\", and \"processing\" all get high ranks, then we would look at the original text and see that these words appear consecutively and create a final keyphrase using all four together.',\n",
       " 'Note that the unigrams placed in the graph can be filtered by part of speech.',\n",
       " 'The authors found that adjectives and nouns were the best to include.',\n",
       " 'Thus, some linguistic knowledge comes into play in this step.',\n",
       " 'Edges are created based on word co-occurrence in this application of TextRank.',\n",
       " 'Two vertices are connected by an edge if the unigrams appear within a window of size N in the original text.',\n",
       " 'N is typically around 2–10.',\n",
       " 'Thus, \"natural\" and \"language\" might be linked in a text about NLP.',\n",
       " '\"Natural\" and \"processing\" would also be linked because they would both appear in the same string of N words.',\n",
       " 'These edges build on the notion of \"text cohesion\" and the idea that words that appear near each other are likely related in a meaningful way and \"recommend\" each other to the reader.',\n",
       " 'Since this method simply ranks the individual vertices, we need a way to threshold or produce a limited number of keyphrases.',\n",
       " 'The technique chosen is to set a count T to be a user-specified fraction of the total number of vertices in the graph.',\n",
       " 'Then the top T vertices/unigrams are selected based on their stationary probabilities.',\n",
       " 'A post- processing step is then applied to merge adjacent instances of these T unigrams.',\n",
       " 'As a result, potentially more or less than T final keyphrases will be produced, but the number should be roughly proportional to the length of the original text.',\n",
       " 'It is not initially clear why applying PageRank to a co-occurrence graph would produce useful keyphrases.',\n",
       " 'One way to think about it is the following.',\n",
       " 'A word that appears multiple times throughout a text may have many different co-occurring neighbors.',\n",
       " 'For example, in a text about machine learning, the unigram \"learning\" might co-occur with \"machine\", \"supervised\", \"un-supervised\", and \"semi-supervised\" in four different sentences.',\n",
       " 'Thus, the \"learning\" vertex would be a central \"hub\" that connects to these other modifying words.',\n",
       " 'Running PageRank/TextRank on the graph is likely to rank \"learning\" highly.',\n",
       " 'Similarly, if the text contains the phrase \"supervised classification\", then there would be an edge between \"supervised\" and \"classification\".',\n",
       " 'If \"classification\" appears several other places and thus has many neighbors, its importance would contribute to the importance of \"supervised\".',\n",
       " 'If it ends up with a high rank, it will be selected as one of the top T unigrams, along with \"learning\" and probably \"classification\".',\n",
       " 'In the final post-processing step, we would then end up with keyphrases \"supervised learning\" and \"supervised classification\".',\n",
       " 'In short, the co-occurrence graph will contain densely connected regions for terms that appear often and in different contexts.',\n",
       " 'A random walk on this graph will have a stationary distribution that assigns large probabilities to the terms in the centers of the clusters.',\n",
       " 'This is similar to densely connected Web pages getting ranked highly by PageRank.',\n",
       " 'This approach has also been used in document summarization, considered below.',\n",
       " 'Like keyphrase extraction, document summarization aims to identify the essence of a text.',\n",
       " 'The only real difference is that now we are dealing with larger text units—whole sentences instead of words and phrases.',\n",
       " 'Before getting into the details of some summarization methods, we will mention how summarization systems are typically evaluated.',\n",
       " 'The most common way is using the so-called ROUGE (Recall-Oriented Understudy for Gisting Evaluation) measure.',\n",
       " 'This is a recall-based measure that determines how well a system-generated summary covers the content present in one or more human-generated model summaries known as references.',\n",
       " 'It is recall-based to encourage systems to include all the important topics in the text.',\n",
       " 'Recall can be computed with respect to unigram, bigram, trigram, or 4-gram matching.',\n",
       " 'For example, ROUGE-1 is computed as division of count of unigrams in reference that appear in system and count of unigrams in reference summary.',\n",
       " 'If there are multiple references, the ROUGE-1 scores are averaged.',\n",
       " 'Because ROUGE is based only on content overlap, it can determine if the same general concepts are discussed between an automatic summary and a reference summary, but it cannot determine if the result is coherent or the sentences flow together in a sensible manner.',\n",
       " 'High-order n-gram ROUGE measures try to judge fluency to some degree.',\n",
       " 'Note that ROUGE is similar to the BLEU measure for machine translation, but BLEU is precision- based, because translation systems favor accuracy.',\n",
       " 'A promising line in document summarization is adaptive document/text summarization.',\n",
       " '[13] The idea of adaptive summarization involves preliminary recognition of document/text genre and subsequent application of summarization algorithms optimized for this genre.',\n",
       " 'First summarizes that perform adaptive summarization have been created.',\n",
       " '[14]\\n\\nSupervised text summarization is very much like supervised keyphrase extraction.',\n",
       " 'Basically, if you have a collection of documents and human-generated summaries for them, you can learn features of sentences that make them good candidates for inclusion in the summary.',\n",
       " 'Features might include the position in the document (i.e., the first few sentences are probably important), the number of words in the sentence, etc.',\n",
       " 'The main difficulty in supervised extractive summarization is that the known summaries must be manually created by extracting sentences so the sentences in an original training document can be labeled as \"in summary\" or \"not in summary\".',\n",
       " 'This is not typically how people create summaries, so simply using journal abstracts or existing summaries is usually not sufficient.',\n",
       " 'The sentences in these summaries do not necessarily match up with sentences in the original text, so it would be difficult to assign labels to examples for training.',\n",
       " 'Note, however, that these natural summaries can still be used for evaluation purposes, since ROUGE-1 only cares about unigrams.',\n",
       " 'During the DUC 2001 and 2002 evaluation workshops, TNO developed a sentence extraction system for multi-document summarization in the news domain.',\n",
       " 'The system was based on a hybrid system using a naive Bayes classifier and statistical language models for modeling salience.',\n",
       " 'Although the system exhibited good results, the researchers wanted to explore the effectiveness of a maximum entropy (ME) classifier for the meeting summarization task, as ME is known to be robust against feature dependencies.',\n",
       " 'Maximum entropy has also been applied successfully for summarization in the broadcast news domain.',\n",
       " 'The unsupervised approach to summarization is also quite similar in spirit to unsupervised keyphrase extraction and gets around the issue of costly training data.',\n",
       " 'Some unsupervised summarization approaches are based on finding a \"centroid\" sentence, which is the mean word vector of all the sentences in the document.',\n",
       " 'Then the sentences can be ranked with regard to their similarity to this centroid sentence.',\n",
       " 'A more principled way to estimate sentence importance is using random walks and eigenvector centrality.',\n",
       " 'LexRank[15] is an algorithm essentially identical to TextRank, and both use this approach for document summarization.',\n",
       " 'The two methods were developed by different groups at the same time, and LexRank simply focused on summarization, but could just as easily be used for keyphrase extraction or any other NLP ranking task.',\n",
       " 'In both LexRank and TextRank, a graph is constructed by creating a vertex for each sentence in the document.',\n",
       " 'The edges between sentences are based on some form of semantic similarity or content overlap.',\n",
       " \"While LexRank uses cosine similarity of TF-IDF vectors, TextRank uses a very similar measure based on the number of words two sentences have in common (normalized by the sentences' lengths).\",\n",
       " 'The LexRank paper explored using unweighted edges after applying a threshold to the cosine values, but also experimented with using edges with weights equal to the similarity score.',\n",
       " 'TextRank uses continuous similarity scores as weights.',\n",
       " 'In both algorithms, the sentences are ranked by applying PageRank to the resulting graph.',\n",
       " 'A summary is formed by combining the top ranking sentences, using a threshold or length cutoff to limit the size of the summary.',\n",
       " 'It is worth noting that TextRank was applied to summarization exactly as described here, while LexRank was used as part of a larger summarization system (MEAD) that combines the LexRank score (stationary probability) with other features like sentence position and length using a linear combination with either user-specified or automatically tuned weights.',\n",
       " 'In this case, some training documents might be needed, though the TextRank results show the additional features are not absolutely necessary.',\n",
       " 'Another important distinction is that TextRank was used for single document summarization, while LexRank has been applied to multi-document summarization.',\n",
       " 'The task remains the same in both cases—only the number of sentences to choose from has grown.',\n",
       " 'However, when summarizing multiple documents, there is a greater risk of selecting duplicate or highly redundant sentences to place in the same summary.',\n",
       " 'Imagine you have a cluster of news articles on a particular event, and you want to produce one summary.',\n",
       " 'Each article is likely to have many similar sentences, and you would only want to include distinct ideas in the summary.',\n",
       " 'To address this issue, LexRank applies a heuristic post-processing step that builds up a summary by adding sentences in rank order, but discards any sentences that are too similar to ones already placed in the summary.',\n",
       " 'The method used is called Cross-Sentence Information Subsumption (CSIS).',\n",
       " 'These methods work based on the idea that sentences \"recommend\" other similar sentences to the reader.',\n",
       " 'Thus, if one sentence is very similar to many others, it will likely be a sentence of great importance.',\n",
       " 'The importance of this sentence also stems from the importance of the sentences \"recommending\" it.',\n",
       " 'Thus, to get ranked highly and placed in a summary, a sentence must be similar to many sentences that are in turn also similar to many other sentences.',\n",
       " 'This makes intuitive sense and allows the algorithms to be applied to any arbitrary new text.',\n",
       " 'The methods are domain-independent and easily portable.',\n",
       " 'One could imagine the features indicating important sentences in the news domain might vary considerably from the biomedical domain.',\n",
       " 'However, the unsupervised \"recommendation\"-based approach applies to any domain.',\n",
       " 'Multi-document summarization is an automatic procedure aimed at extraction of information from multiple texts written about the same topic.',\n",
       " 'Resulting summary report allows individual users, such as professional information consumers, to quickly familiarize themselves with information contained in a large cluster of documents.',\n",
       " 'In such a way, multi-document summarization systems are complementing the news aggregators performing the next step down the road of coping with information overload.',\n",
       " 'Multi-document summarization may also be done in response to a question.',\n",
       " '[16][8]\\n\\nMulti-document summarization creates information reports that are both concise and comprehensive.',\n",
       " 'With different opinions being put together and outlined, every topic is described from multiple perspectives within a single document.',\n",
       " 'While the goal of a brief summary is to simplify information search and cut the time by pointing to the most relevant source documents, comprehensive multi-document summary should itself contain the required information, hence limiting the need for accessing original files to cases when refinement is required.',\n",
       " 'Automatic summaries present information extracted from multiple sources algorithmically, without any editorial touch or subjective human intervention, thus making it completely unbiased.',\n",
       " '[dubious – discuss]\\n\\nMulti-document extractive summarization faces a problem of potential redundancy.',\n",
       " 'Ideally, we would like to extract sentences that are both \"central\" (i.e., contain the main ideas) and \"diverse\" (i.e., they differ from one another).',\n",
       " 'LexRank deals with diversity as a heuristic final stage using CSIS, and other systems have used similar methods, such as Maximal Marginal Relevance (MMR),[17] in trying to eliminate redundancy in information retrieval results.',\n",
       " 'There is a general purpose graph-based ranking algorithm like Page/Lex/TextRank that handles both \"centrality\" and \"diversity\" in a unified mathematical framework based on absorbing Markov chain random walks.',\n",
       " '(An absorbing random walk is like a standard random walk, except some states are now absorbing states that act as \"black holes\" that cause the walk to end abruptly at that state.)',\n",
       " 'The algorithm is called GRASSHOPPER.',\n",
       " '[18] In addition to explicitly promoting diversity during the ranking process, GRASSHOPPER incorporates a prior ranking (based on sentence position in the case of summarization).',\n",
       " 'The state of the art results for multi-document summarization, however, are obtained using mixtures of submodular functions.',\n",
       " 'These methods have achieved the state of the art results for Document Summarization Corpora, DUC 04 - 07.',\n",
       " '[19] Similar results were also achieved with the use of determinantal point processes (which are a special case of submodular functions) for DUC-04.',\n",
       " '[20]\\n\\nA new method for multi-lingual multi-document summarization that avoids redundancy works by simplifying and generating ideograms that represent the meaning of each sentence in each document and then evaluates similarity \"qualitatively\" by comparing the shape and position of said ideograms has recently been developed.',\n",
       " 'This tool does not use word frequency, does not need training or preprocessing of any kind and works by generating ideograms that represent the meaning of each sentence and then summarizes using two user-supplied parameters: equivalence (when are two sentences to be considered equivalent) and relevance (how long is the desired summary).',\n",
       " 'The idea of a submodular set function has recently emerged as a powerful modeling tool for various summarization problems.',\n",
       " 'Submodular functions naturally model notions of coverage, information, representation and diversity.',\n",
       " 'Moreover, several important combinatorial optimization problems occur as special instances of submodular optimization.',\n",
       " 'For example, the set cover problem is a special case of submodular optimization, since the set cover function is submodular.',\n",
       " 'The set cover function attempts to find a subset of objects which cover a given set of concepts.',\n",
       " 'For example, in document summarization, one would like the summary to cover all important and relevant concepts in the document.',\n",
       " 'This is an instance of set cover.',\n",
       " 'Similarly, the facility location problem is a special case of submodular functions.',\n",
       " 'The Facility Location function also naturally models coverage and diversity.',\n",
       " 'Another example of a submodular optimization problem is using a determinantal point process to model diversity.',\n",
       " 'Similarly, the Maximum-Marginal-Relevance procedure can also be seen as an instance of submodular optimization.',\n",
       " 'All these important models encouraging coverage, diversity and information are all submodular.',\n",
       " 'Moreover, submodular functions can be efficiently combined, and the resulting function is still submodular.',\n",
       " 'Hence, one could combine one submodular function which models diversity, another one which models coverage and use human supervision to learn a right model of a submodular function for the problem.',\n",
       " 'While submodular functions are fitting problems for summarization, they also admit very efficient algorithms for optimization.',\n",
       " 'For example, a simple greedy algorithm admits a constant factor guarantee.',\n",
       " '[21] Moreover, the greedy algorithm is extremely simple to implement and can scale to large datasets, which is very important for summarization problems.',\n",
       " 'Submodular functions have achieved state-of-the-art for almost all summarization problems.',\n",
       " 'For example, work by Lin and Bilmes, 2012[22] shows that submodular functions achieve the best results to date on DUC-04, DUC-05, DUC-06 and DUC-07 systems for document summarization.',\n",
       " 'Similarly, work by Lin and Bilmes, 2011,[23] shows that many existing systems for automatic summarization are instances of submodular functions.',\n",
       " 'This was a breakthrough result establishing submodular functions as the right models for summarization problems.',\n",
       " '[citation needed]\\n\\nSubmodular Functions have also been used for other summarization tasks.',\n",
       " 'Tschiatschek et al., 2014 show[24] that mixtures of submodular functions achieve state-of-the-art results for image collection summarization.',\n",
       " 'Similarly, Bairi et al., 2015[25] show the utility of submodular functions for summarizing multi-document topic hierarchies.',\n",
       " 'Submodular Functions have also successfully been used for summarizing machine learning datasets.',\n",
       " '[26]\\n• The Reddit bot \"autotldr\",[27] created in 2011 summarizes news articles in the comment-section of reddit posts.',\n",
       " 'It was found to be very useful by the reddit community which upvoted its summaries hundreds of thousands of times.',\n",
       " '[28] The name is reference to TL;DR − Internet slang for \"too long; didn\\'t read\".',\n",
       " '[29][30]\\n\\nThe most common way to evaluate the informativeness of automatic summaries is to compare them with human-made model summaries.',\n",
       " 'Evaluation techniques fall into intrinsic and extrinsic,[31] inter-textual and intra-textual.',\n",
       " '[32]\\n\\nAn intrinsic evaluation tests the summarization system in and of itself while an extrinsic evaluation tests the summarization based on how it affects the completion of some other task.',\n",
       " 'Intrinsic evaluations have assessed mainly the coherence and informativeness of summaries.',\n",
       " 'Extrinsic evaluations, on the other hand, have tested the impact of summarization on tasks like relevance assessment, reading comprehension, etc.',\n",
       " 'Intra-textual methods assess the output of a specific summarization system, and the inter-textual ones focus on contrastive analysis of outputs of several summarization systems.',\n",
       " 'Human judgement often has wide variance on what is considered a \"good\" summary, which means that making the evaluation process automatic is particularly difficult.',\n",
       " 'Manual evaluation can be used, but this is both time and labor-intensive as it requires humans to read not only the summaries but also the source documents.',\n",
       " 'Other issues are those concerning coherence and coverage.',\n",
       " \"One of the metrics used in NIST's annual Document Understanding Conferences, in which research groups submit their systems for both summarization and translation tasks, is the ROUGE metric (Recall-Oriented Understudy for Gisting Evaluation [2]).\",\n",
       " 'It essentially calculates n-gram overlaps between automatically generated summaries and previously written human summaries.',\n",
       " 'A high level of overlap should indicate a high level of shared concepts between the two summaries.',\n",
       " \"Note that overlap metrics like this are unable to provide any feedback on a summary's coherence.\",\n",
       " 'Anaphor resolution remains another problem yet to be fully solved.',\n",
       " 'Similarly, for image summarization, Tschiatschek et al., developed a Visual-ROUGE score which judges the performance of algorithms for image summarization.',\n",
       " '[33]\\n\\nDomain independent summarization techniques generally apply sets of general features which can be used to identify information-rich text segments.',\n",
       " 'Recent research focus has drifted to domain-specific summarization techniques that utilize the available knowledge specific to the domain of text.',\n",
       " 'For example, automatic summarization research on medical text generally attempts to utilize the various sources of codified medical knowledge and ontologies.',\n",
       " '[34]\\n\\nThe main drawback of the evaluation systems existing so far is that we need at least one reference summary, and for some methods more than one, to be able to compare automatic summaries with models.',\n",
       " 'This is a hard and expensive task.',\n",
       " 'Much effort has to be done in order to have corpus of texts and their corresponding summaries.',\n",
       " 'Furthermore, for some methods, not only do we need to have human-made summaries available for comparison, but also manual annotation has to be performed in some of them (e.g.',\n",
       " 'SCU in the Pyramid Method).',\n",
       " 'In any case, what the evaluation methods need as an input, is a set of summaries to serve as gold standards and a set of automatic summaries.',\n",
       " 'Moreover, they all perform a quantitative evaluation with regard to different similarity metrics.',\n",
       " 'The first publication in the area dates back to 1957 [35] (Hans Peter Luhn), starting with a statistical technique.',\n",
       " 'Research increased significantly in 2015.',\n",
       " 'Term frequency–inverse document frequency had been used by 2016.',\n",
       " 'Pattern-based summarization was the most powerful option for multi-document summarization found by 2016.',\n",
       " 'In the following year it was surpassed by latent semantic analysis (LSA) combined with non-negative matrix factorization (NMF).',\n",
       " 'Although they did not replace other approaches and are often combined with them, by 2019 machine learning methods dominated the extractive summarization of single documents, which was considered to be nearing maturity.',\n",
       " 'By 2020, the field was still very active and research is shifting towards abstractive summation and real-time summarization.',\n",
       " '[36]\\n\\nRecently the rise of Transformer models replacing more traditional RNN (LSTM) have provided a flexibility in the mapping of text sequences to text sequences of a different type, which is well suited to automatic summarization.',\n",
       " 'This includes models such as T5[37] and Pegasus.',\n",
       " '• None Roxana, Angheluta (2002).',\n",
       " 'The Use of Topic Segmentation for Automatic Summarization.',\n",
       " '• None Elena, Lloret and Manuel, Palomar (2009).',\n",
       " 'Challenging Issues of Automatic Summarization: Relevance Detection and Quality-based Evaluation.',\n",
       " '• None Alrehamy, Hassan (2017).',\n",
       " '\"SemCluster: Unsupervised Automatic Keyphrase Extraction Using Affinity Propagation\".',\n",
       " 'Automatic Keyphrases Extraction.',\n",
       " 'Advances in Intelligent Systems and Computing.',\n",
       " 'Vol.',\n",
       " '650. pp.',\n",
       " '222–235.',\n",
       " 'doi:10.1007/978-3-319-66939-7_19.',\n",
       " 'ISBN .',\n",
       " '• None Marcu, Daniel (2000).',\n",
       " 'The Theory and Practice of Discourse Parsing and Summarization.',\n",
       " 'ISBN .',\n",
       " \"• , Published in Proceeding RIAO'10 Adaptivity, Personalization and Fusion of Heterogeneous Information, CID Paris, France\\n• None Xiaojin, Zhu, Andrew Goldberg, Jurgen Van Gael, and David Andrzejewski (2007).\",\n",
       " 'Improving diversity in ranking using absorbing random walks .',\n",
       " ', The GRASSHOPPER algorithm\\n• None Miranda-Jiménez, Sabino, Gelbukh, Alexander, and Sidorov, Grigori (2013).',\n",
       " '\"Summarizing Conceptual Graphs for Automatic Summarization Task\".',\n",
       " 'Conceptual Structures for STEM Research and Education.',\n",
       " 'Lecture Notes in Computer Science.',\n",
       " 'Vol.',\n",
       " '7735. pp.',\n",
       " '245–253.',\n",
       " 'doi:10.1007/978-3-642-35786-2_18.',\n",
       " 'ISBN .',\n",
       " ', Conceptual Structures for STEM Research and Education.']"
      ]
     },
     "execution_count": 111,
     "metadata": {},
     "output_type": "execute_result"
    }
   ],
   "source": [
    "sentence_list"
   ]
  },
  {
   "cell_type": "code",
   "execution_count": null,
   "metadata": {},
   "outputs": [
    {
     "data": {
      "text/plain": [
       "FreqDist({'``': 1.0, 'summarization': 0.7589285714285714, 'text': 0.42857142857142855, 'summary': 0.29464285714285715, 'sentences': 0.29464285714285715, 'keyphrases': 0.2857142857142857, 'document': 0.25, 'submodular': 0.22321428571428573, 'also': 0.20535714285714285, 'used': 0.20535714285714285, ...})"
      ]
     },
     "execution_count": 112,
     "metadata": {},
     "output_type": "execute_result"
    }
   ],
   "source": [
    "word_frequency"
   ]
  },
  {
   "cell_type": "code",
   "execution_count": null,
   "metadata": {},
   "outputs": [
    {
     "data": {
      "text/plain": [
       "{'Automatic summarization is the process of shortening a set of data computationally, to create a subset (a summary) that represents the most important or relevant information within the original content.': 2.0892857142857144,\n",
       " 'In addition to text, images and videos can also be summarized.': 0.8660714285714285,\n",
       " 'Text summarization finds the most informative sentences in a document;[1] various methods of image summarization are the subject of ongoing research, with some looking to display the most representative images from a given collection or generating a video;[2][3][4] video summarization extracts the most important frames from the video content.': 4.089285714285715,\n",
       " '[5]\\n\\nThere are two general approaches to automatic summarization: extraction and abstraction.': 1.4375,\n",
       " 'Here, content is extracted from the original data, but the extracted content is not modified in any way.': 0.6607142857142857,\n",
       " 'Examples of extracted content include key-phrases that can be used to \"tag\" or index a text document, or key sentences (including headings) that collectively comprise an abstract, and representative images or video segments, as stated above.': 2.839285714285715,\n",
       " 'For text, extraction is analogous to the process of skimming, where the summary (if available), headings and subheadings, figures, the first and last paragraphs of a section, and optionally the first and last sentences in a paragraph are read before one chooses to read the entire document in detail.': 2.2232142857142856,\n",
       " '[7] Other examples of extraction that include key sequences of text in terms of clinical relevance (including patient/problem, intervention, and outcome).': 1.1339285714285714,\n",
       " '[8]\\n\\nThis has been applied mainly for text.': 0.6160714285714285,\n",
       " 'Abstractive methods build an internal semantic representation of the original content, and then use this representation to create a summary that is closer to what a human might express.': 1.1964285714285714,\n",
       " 'Abstraction may transform the extracted content by paraphrasing sections of the source document, to condense a text more strongly than extraction.': 1.25,\n",
       " 'Such transformation, however, is computationally much more challenging than extraction, involving both natural language processing and often a deep understanding of the domain of the original text in cases where the original document relates to a special field of knowledge.': 1.7410714285714288,\n",
       " '\"Paraphrasing\" is even more difficult to apply to image and video, which is why most summarization systems are extractive.': 2.2321428571428568,\n",
       " 'Approaches aimed at higher summarization quality rely on combined software and human effort.': 1.0982142857142858,\n",
       " 'In Machine Aided Human Summarization, extractive techniques highlight candidate passages for inclusion (to which the human adds or removes text).': 0.8035714285714285,\n",
       " 'In Human Aided Machine Summarization, a human post-processes software output, in the same way that one edits the output of automatic translation by Google Translate.': 0.7946428571428572,\n",
       " 'There are broadly two types of extractive summarization tasks depending on what the summarization program focuses on.': 1.8660714285714284,\n",
       " 'The first is generic summarization, which focuses on obtaining a generic summary or abstract of the collection (whether documents, or sets of images, or videos, news stories etc.).': 1.9285714285714288,\n",
       " 'The second is query relevant summarization, sometimes called query-based summarization, which summarizes objects specific to a query.': 1.9375000000000002,\n",
       " 'Summarization systems are able to create both query relevant text summaries and generic machine-generated summaries depending on what the user needs.': 1.3392857142857142,\n",
       " 'An example of a summarization problem is document summarization, which attempts to automatically produce an abstract from a given document.': 2.651785714285714,\n",
       " 'Sometimes one might be interested in generating a summary from a single source document, while others can use multiple source documents (for example, a cluster of articles on the same topic).': 1.7410714285714286,\n",
       " 'This problem is called multi-document summarization.': 1.1071428571428572,\n",
       " 'A related application is summarizing news articles.': 0.3839285714285714,\n",
       " 'Imagine a system, which automatically pulls together news articles on a given topic (from the web), and concisely represents the latest news as a summary.': 1.0892857142857144,\n",
       " 'Image collection summarization is another application example of automatic summarization.': 2.1160714285714284,\n",
       " 'It consists in selecting a representative set of images from a larger set of images.': 0.6874999999999999,\n",
       " '[9] A summary in this context is useful to show the most representative images of results in an image collection exploration system.': 0.9464285714285715,\n",
       " 'Video summarization is a related domain, where the system automatically creates a trailer of a long video.': 1.3035714285714284,\n",
       " 'This also has applications in consumer or personal videos, where one might want to skip the boring or repetitive actions.': 0.7410714285714285,\n",
       " 'Similarly, in surveillance videos, one would want to extract important and suspicious activity, while ignoring all the boring and redundant frames captured.': 0.7142857142857143,\n",
       " 'At a very high level, summarization algorithms try to find subsets of objects (like set of sentences, or a set of images), which cover information of the entire set.': 2.294642857142857,\n",
       " 'This is also called the core-set.': 0.35714285714285715,\n",
       " 'These algorithms model notions like diversity, coverage, information and representativeness of the summary.': 0.9821428571428571,\n",
       " 'Query based summarization techniques, additionally model for relevance of the summary with the query.': 1.5535714285714286,\n",
       " 'Some techniques and algorithms which naturally model summarization problems are TextRank and PageRank, Submodular set function, Determinantal point process, maximal marginal relevance (MMR) etc.': 1.6517857142857142,\n",
       " 'The task is the following.': 0.20535714285714285,\n",
       " 'You are given a piece of text, such as a journal article, and you must produce a list of keywords or key[phrase]s that capture the primary topics discussed in the text.': 1.392857142857143,\n",
       " '[10] In the case of research articles, many authors provide manually assigned keywords, but most text lacks pre-existing keyphrases.': 1.3035714285714286,\n",
       " 'For example, news articles rarely have keyphrases attached, but it would be useful to be able to automatically do so for a number of applications discussed below.': 1.169642857142857,\n",
       " 'Consider the example text from a news article:\\n\\nA keyphrase extractor might select \"Army Corps of Engineers\", \"President Bush\", \"New Orleans\", and \"defective flood-control pumps\" as keyphrases.': 5.473214285714285,\n",
       " 'These are pulled directly from the text.': 0.5446428571428571,\n",
       " 'In contrast, an abstractive keyphrase system would somehow internalize the content and generate keyphrases that do not appear in the text, but more closely resemble what a human might produce, such as \"political negligence\" or \"inadequate protection from floods\".': 3.8660714285714293,\n",
       " 'Abstraction requires a deep understanding of the text, which makes it difficult for a computer system.': 0.8035714285714285,\n",
       " 'Keyphrases have many applications.': 0.2589285714285714,\n",
       " 'They can enable document browsing by providing a short summary, improve information retrieval (if documents have keyphrases assigned, a user could search by keyphrase to produce more reliable hits than a full-text search), and be employed in generating index entries for a large text corpus.': 2.3303571428571423,\n",
       " 'Depending on the different literature and the definition of key terms, words or phrases, keyword extraction is a highly related theme.': 0.7053571428571428,\n",
       " 'Beginning with the work of Turney,[11] many researchers have approached keyphrase extraction as a supervised machine learning problem.': 1.0803571428571428,\n",
       " 'Given a document, we construct an example for each unigram, bigram, and trigram found in the text (though other text units are also possible, as discussed below).': 1.8303571428571428,\n",
       " 'We then compute various features describing each example (e.g., does the phrase begin with an upper-case letter?).': 0.5535714285714286,\n",
       " 'We assume there are known keyphrases available for a set of training documents.': 0.9285714285714284,\n",
       " 'Using the known keyphrases, we can assign positive or negative labels to the examples.': 0.6517857142857143,\n",
       " 'Then we learn a classifier that can discriminate between positive and negative examples as a function of the features.': 0.5803571428571428,\n",
       " 'Some classifiers make a binary classification for a test example, while others assign a probability of being a keyphrase.': 0.6964285714285714,\n",
       " 'For instance, in the above text, we might learn a rule that says phrases with initial capital letters are likely to be keyphrases.': 1.1428571428571428,\n",
       " 'After training a learner, we can select keyphrases for test documents in the following manner.': 0.7589285714285714,\n",
       " 'We apply the same example-generation strategy to the test documents, then run each example through the learner.': 0.5357142857142857,\n",
       " 'We can determine the keyphrases by looking at binary classification decisions or probabilities returned from our learned model.': 0.6785714285714286,\n",
       " 'If probabilities are given, a threshold is used to select the keyphrases.': 0.75,\n",
       " 'Keyphrase extractors are generally evaluated using precision and recall.': 0.39285714285714285,\n",
       " 'Precision measures how many of the proposed keyphrases are actually correct.': 0.5982142857142857,\n",
       " 'Recall measures how many of the true keyphrases your system proposed.': 0.7321428571428572,\n",
       " 'The two measures can be combined in an F-score, which is the harmonic mean of the two (F = 2PR/(P + R) ).': 0.39285714285714285,\n",
       " 'Matches between the proposed keyphrases and the known keyphrases can be checked after stemming or applying some other text normalization.': 1.2767857142857142,\n",
       " 'Designing a supervised keyphrase extraction system involves deciding on several choices (some of these apply to unsupervised, too).': 0.919642857142857,\n",
       " 'The first choice is exactly how to generate examples.': 0.3214285714285714,\n",
       " 'Turney and others have used all possible unigrams, bigrams, and trigrams without intervening punctuation and after removing stopwords.': 0.5535714285714286,\n",
       " 'Hulth showed that you can get some improvement by selecting examples to be sequences of tokens that match certain patterns of part-of-speech tags.': 0.36607142857142855,\n",
       " 'Ideally, the mechanism for generating examples produces all the known labeled keyphrases as candidates, though this is often not the case.': 0.8392857142857143,\n",
       " 'For example, if we use only unigrams, bigrams, and trigrams, then we will never be able to extract a known keyphrase containing four words.': 0.9553571428571429,\n",
       " 'Thus, recall may suffer.': 0.1875,\n",
       " 'However, generating too many examples can also lead to low precision.': 0.6428571428571428,\n",
       " 'We also need to create features that describe the examples and are informative enough to allow a learning algorithm to discriminate keyphrases from non- keyphrases.': 1.6160714285714286,\n",
       " 'Typically features involve various term frequencies (how many times a phrase appears in the current text or in a larger corpus), the length of the example, relative position of the first occurrence, various boolean syntactic features (e.g., contains all caps), etc.': 1.714285714285714,\n",
       " 'The Turney paper used about 12 such features.': 0.4910714285714285,\n",
       " \"Hulth uses a reduced set of features, which were found most successful in the KEA (Keyphrase Extraction Algorithm) work derived from Turney's seminal paper.\": 0.6517857142857143,\n",
       " 'In the end, the system will need to return a list of keyphrases for a test document, so we need to have a way to limit the number.': 1.2857142857142856,\n",
       " 'Ensemble methods (i.e., using votes from several classifiers) have been used to produce numeric scores that can be thresholded to provide a user-provided number of keyphrases.': 1.2410714285714286,\n",
       " 'This is the technique used by Turney with C4.5 decision trees.': 0.36607142857142855,\n",
       " 'Hulth used a single binary classifier so the learning algorithm implicitly determines the appropriate number.': 0.8125,\n",
       " 'Once examples and features are created, we need a way to learn to predict keyphrases.': 0.9553571428571428,\n",
       " 'Virtually any supervised learning algorithm could be used, such as decision trees, Naive Bayes, and rule induction.': 0.8125000000000001,\n",
       " \"In the case of Turney's GenEx algorithm, a genetic algorithm is used to learn parameters for a domain-specific keyphrase extraction algorithm.\": 1.4196428571428574,\n",
       " 'The extractor follows a series of heuristics to identify keyphrases.': 0.46428571428571425,\n",
       " 'The genetic algorithm optimizes parameters for these heuristics with respect to performance on training documents with known key phrases.': 0.7857142857142856,\n",
       " 'Another keyphrase extraction algorithm is TextRank.': 0.6339285714285714,\n",
       " 'While supervised methods have some nice properties, like being able to produce interpretable rules for what features characterize a keyphrase, they also require a large amount of training data.': 1.4375000000000002,\n",
       " 'Many documents with known keyphrases are needed.': 0.6339285714285714,\n",
       " \"Furthermore, training on a specific domain tends to customize the extraction process to that domain, so the resulting classifier is not necessarily portable, as some of Turney's results demonstrate.\": 0.9910714285714285,\n",
       " 'Unsupervised keyphrase extraction removes the need for training data.': 0.75,\n",
       " 'It approaches the problem from a different angle.': 0.32142857142857145,\n",
       " 'Instead of trying to learn explicit features that characterize keyphrases, the TextRank algorithm[12] exploits the structure of the text itself to determine keyphrases that appear \"central\" to the text in the same way that PageRank selects important Web pages.': 3.357142857142857,\n",
       " 'Recall this is based on the notion of \"prestige\" or \"recommendation\" from social networks.': 2.3035714285714284,\n",
       " \"In this way, TextRank does not rely on any previous training data at all, but rather can be run on any arbitrary piece of text, and it can produce output simply based on the text's intrinsic properties.\": 1.7500000000000002,\n",
       " 'Thus the algorithm is easily portable to new domains and languages.': 0.3660714285714286,\n",
       " 'TextRank is a general purpose graph-based ranking algorithm for NLP.': 0.4107142857142857,\n",
       " 'Essentially, it runs PageRank on a graph specially designed for a particular NLP task.': 0.33035714285714285,\n",
       " 'For keyphrase extraction, it builds a graph using some set of text units as vertices.': 1.455357142857143,\n",
       " 'Edges are based on some measure of semantic or lexical similarity between the text unit vertices.': 0.9107142857142857,\n",
       " 'Unlike PageRank, the edges are typically undirected and can be weighted to reflect a degree of similarity.': 0.33035714285714285,\n",
       " 'Once the graph is constructed, it is used to form a stochastic matrix, combined with a damping factor (as in the \"random surfer model\"), and the ranking over vertices is obtained by finding the eigenvector corresponding to eigenvalue 1 (i.e., the stationary distribution of the random walk on the graph).': 2.2589285714285707,\n",
       " 'The vertices should correspond to what we want to rank.': 0.26785714285714285,\n",
       " 'Potentially, we could do something similar to the supervised methods and create a vertex for each unigram, bigram, trigram, etc.': 0.7767857142857143,\n",
       " 'However, to keep the graph small, the authors decide to rank individual unigrams in a first step, and then include a second step that merges highly ranked adjacent unigrams to form multi-word phrases.': 1.0535714285714286,\n",
       " 'This has a nice side effect of allowing us to produce keyphrases of arbitrary length.': 0.6071428571428571,\n",
       " 'For example, if we rank unigrams and find that \"advanced\", \"natural\", \"language\", and \"processing\" all get high ranks, then we would look at the original text and see that these words appear consecutively and create a final keyphrase using all four together.': 6.026785714285713,\n",
       " 'Note that the unigrams placed in the graph can be filtered by part of speech.': 0.38392857142857145,\n",
       " 'The authors found that adjectives and nouns were the best to include.': 0.26785714285714285,\n",
       " 'Thus, some linguistic knowledge comes into play in this step.': 0.2232142857142857,\n",
       " 'Edges are created based on word co-occurrence in this application of TextRank.': 0.3839285714285714,\n",
       " 'Two vertices are connected by an edge if the unigrams appear within a window of size N in the original text.': 0.9642857142857143,\n",
       " 'N is typically around 2–10.': 0.16964285714285715,\n",
       " 'Thus, \"natural\" and \"language\" might be linked in a text about NLP.': 2.723214285714285,\n",
       " '\"Natural\" and \"processing\" would also be linked because they would both appear in the same string of N words.': 2.785714285714286,\n",
       " 'These edges build on the notion of \"text cohesion\" and the idea that words that appear near each other are likely related in a meaningful way and \"recommend\" each other to the reader.': 3.071428571428571,\n",
       " 'Since this method simply ranks the individual vertices, we need a way to threshold or produce a limited number of keyphrases.': 1.0089285714285714,\n",
       " 'The technique chosen is to set a count T to be a user-specified fraction of the total number of vertices in the graph.': 0.6339285714285714,\n",
       " 'Then the top T vertices/unigrams are selected based on their stationary probabilities.': 0.36607142857142855,\n",
       " 'A post- processing step is then applied to merge adjacent instances of these T unigrams.': 0.4196428571428571,\n",
       " 'As a result, potentially more or less than T final keyphrases will be produced, but the number should be roughly proportional to the length of the original text.': 1.1607142857142858,\n",
       " 'It is not initially clear why applying PageRank to a co-occurrence graph would produce useful keyphrases.': 0.8482142857142857,\n",
       " 'One way to think about it is the following.': 0.2589285714285714,\n",
       " 'A word that appears multiple times throughout a text may have many different co-occurring neighbors.': 0.9642857142857142,\n",
       " 'For example, in a text about machine learning, the unigram \"learning\" might co-occur with \"machine\", \"supervised\", \"un-supervised\", and \"semi-supervised\" in four different sentences.': 6.75,\n",
       " 'Thus, the \"learning\" vertex would be a central \"hub\" that connects to these other modifying words.': 2.5,\n",
       " 'Running PageRank/TextRank on the graph is likely to rank \"learning\" highly.': 1.473214285714286,\n",
       " 'Similarly, if the text contains the phrase \"supervised classification\", then there would be an edge between \"supervised\" and \"classification\".': 4.107142857142857,\n",
       " 'If \"classification\" appears several other places and thus has many neighbors, its importance would contribute to the importance of \"supervised\".': 2.8482142857142856,\n",
       " 'If it ends up with a high rank, it will be selected as one of the top T unigrams, along with \"learning\" and probably \"classification\".': 2.7232142857142856,\n",
       " 'In the final post-processing step, we would then end up with keyphrases \"supervised learning\" and \"supervised classification\".': 3.080357142857143,\n",
       " 'In short, the co-occurrence graph will contain densely connected regions for terms that appear often and in different contexts.': 0.5803571428571429,\n",
       " 'A random walk on this graph will have a stationary distribution that assigns large probabilities to the terms in the centers of the clusters.': 0.5267857142857143,\n",
       " 'This is similar to densely connected Web pages getting ranked highly by PageRank.': 0.3928571428571428,\n",
       " 'This approach has also been used in document summarization, considered below.': 1.5892857142857144,\n",
       " 'Like keyphrase extraction, document summarization aims to identify the essence of a text.': 1.9553571428571428,\n",
       " 'The only real difference is that now we are dealing with larger text units—whole sentences instead of words and phrases.': 1.0357142857142858,\n",
       " 'Before getting into the details of some summarization methods, we will mention how summarization systems are typically evaluated.': 1.9732142857142858,\n",
       " 'The most common way is using the so-called ROUGE (Recall-Oriented Understudy for Gisting Evaluation) measure.': 0.4642857142857143,\n",
       " 'This is a recall-based measure that determines how well a system-generated summary covers the content present in one or more human-generated model summaries known as references.': 1.2142857142857144,\n",
       " 'It is recall-based to encourage systems to include all the important topics in the text.': 0.8571428571428571,\n",
       " 'Recall can be computed with respect to unigram, bigram, trigram, or 4-gram matching.': 0.24107142857142855,\n",
       " 'For example, ROUGE-1 is computed as division of count of unigrams in reference that appear in system and count of unigrams in reference summary.': 1.169642857142857,\n",
       " 'If there are multiple references, the ROUGE-1 scores are averaged.': 0.21428571428571427,\n",
       " 'Because ROUGE is based only on content overlap, it can determine if the same general concepts are discussed between an automatic summary and a reference summary, but it cannot determine if the result is coherent or the sentences flow together in a sensible manner.': 1.7678571428571428,\n",
       " 'High-order n-gram ROUGE measures try to judge fluency to some degree.': 0.20535714285714285,\n",
       " 'Note that ROUGE is similar to the BLEU measure for machine translation, but BLEU is precision- based, because translation systems favor accuracy.': 0.6874999999999999,\n",
       " 'A promising line in document summarization is adaptive document/text summarization.': 1.9285714285714284,\n",
       " '[13] The idea of adaptive summarization involves preliminary recognition of document/text genre and subsequent application of summarization algorithms optimized for this genre.': 1.9017857142857142,\n",
       " 'First summarizes that perform adaptive summarization have been created.': 0.982142857142857,\n",
       " '[14]\\n\\nSupervised text summarization is very much like supervised keyphrase extraction.': 1.9285714285714286,\n",
       " 'Basically, if you have a collection of documents and human-generated summaries for them, you can learn features of sentences that make them good candidates for inclusion in the summary.': 1.3839285714285718,\n",
       " 'Features might include the position in the document (i.e., the first few sentences are probably important), the number of words in the sentence, etc.': 1.4017857142857142,\n",
       " 'The main difficulty in supervised extractive summarization is that the known summaries must be manually created by extracting sentences so the sentences in an original training document can be labeled as \"in summary\" or \"not in summary\".': 5.116071428571428,\n",
       " 'This is not typically how people create summaries, so simply using journal abstracts or existing summaries is usually not sufficient.': 0.9017857142857141,\n",
       " 'The sentences in these summaries do not necessarily match up with sentences in the original text, so it would be difficult to assign labels to examples for training.': 1.8750000000000002,\n",
       " 'Note, however, that these natural summaries can still be used for evaluation purposes, since ROUGE-1 only cares about unigrams.': 0.9107142857142857,\n",
       " 'During the DUC 2001 and 2002 evaluation workshops, TNO developed a sentence extraction system for multi-document summarization in the news domain.': 1.830357142857143,\n",
       " 'The system was based on a hybrid system using a naive Bayes classifier and statistical language models for modeling salience.': 0.9285714285714287,\n",
       " 'Although the system exhibited good results, the researchers wanted to explore the effectiveness of a maximum entropy (ME) classifier for the meeting summarization task, as ME is known to be robust against feature dependencies.': 1.4464285714285714,\n",
       " 'Maximum entropy has also been applied successfully for summarization in the broadcast news domain.': 1.3660714285714286,\n",
       " 'The unsupervised approach to summarization is also quite similar in spirit to unsupervised keyphrase extraction and gets around the issue of costly training data.': 1.9464285714285714,\n",
       " 'Some unsupervised summarization approaches are based on finding a \"centroid\" sentence, which is the mean word vector of all the sentences in the document.': 2.875,\n",
       " 'Then the sentences can be ranked with regard to their similarity to this centroid sentence.': 0.6785714285714285,\n",
       " 'A more principled way to estimate sentence importance is using random walks and eigenvector centrality.': 0.7142857142857143,\n",
       " 'LexRank[15] is an algorithm essentially identical to TextRank, and both use this approach for document summarization.': 1.4196428571428572,\n",
       " 'The two methods were developed by different groups at the same time, and LexRank simply focused on summarization, but could just as easily be used for keyphrase extraction or any other NLP ranking task.': 2.0982142857142856,\n",
       " 'In both LexRank and TextRank, a graph is constructed by creating a vertex for each sentence in the document.': 0.6428571428571428,\n",
       " 'The edges between sentences are based on some form of semantic similarity or content overlap.': 0.875,\n",
       " \"While LexRank uses cosine similarity of TF-IDF vectors, TextRank uses a very similar measure based on the number of words two sentences have in common (normalized by the sentences' lengths).\": 1.4732142857142858,\n",
       " 'The LexRank paper explored using unweighted edges after applying a threshold to the cosine values, but also experimented with using edges with weights equal to the similarity score.': 1.0625,\n",
       " 'TextRank uses continuous similarity scores as weights.': 0.27678571428571425,\n",
       " 'In both algorithms, the sentences are ranked by applying PageRank to the resulting graph.': 0.6964285714285714,\n",
       " 'A summary is formed by combining the top ranking sentences, using a threshold or length cutoff to limit the size of the summary.': 1.3928571428571432,\n",
       " 'It is worth noting that TextRank was applied to summarization exactly as described here, while LexRank was used as part of a larger summarization system (MEAD) that combines the LexRank score (stationary probability) with other features like sentence position and length using a linear combination with either user-specified or automatically tuned weights.': 2.982142857142858,\n",
       " 'In this case, some training documents might be needed, though the TextRank results show the additional features are not absolutely necessary.': 0.8660714285714285,\n",
       " 'Another important distinction is that TextRank was used for single document summarization, while LexRank has been applied to multi-document summarization.': 2.4017857142857144,\n",
       " 'The task remains the same in both cases—only the number of sentences to choose from has grown.': 0.5982142857142857,\n",
       " 'However, when summarizing multiple documents, there is a greater risk of selecting duplicate or highly redundant sentences to place in the same summary.': 1.0625000000000002,\n",
       " 'Imagine you have a cluster of news articles on a particular event, and you want to produce one summary.': 0.9285714285714285,\n",
       " 'Each article is likely to have many similar sentences, and you would only want to include distinct ideas in the summary.': 1.2767857142857144,\n",
       " 'To address this issue, LexRank applies a heuristic post-processing step that builds up a summary by adding sentences in rank order, but discards any sentences that are too similar to ones already placed in the summary.': 1.6964285714285714,\n",
       " 'The method used is called Cross-Sentence Information Subsumption (CSIS).': 0.3839285714285714,\n",
       " 'These methods work based on the idea that sentences \"recommend\" other similar sentences to the reader.': 2.2053571428571423,\n",
       " 'Thus, if one sentence is very similar to many others, it will likely be a sentence of great importance.': 0.9107142857142856,\n",
       " 'The importance of this sentence also stems from the importance of the sentences \"recommending\" it.': 1.8482142857142858,\n",
       " 'Thus, to get ranked highly and placed in a summary, a sentence must be similar to many sentences that are in turn also similar to many other sentences.': 2.0,\n",
       " 'This makes intuitive sense and allows the algorithms to be applied to any arbitrary new text.': 0.7678571428571428,\n",
       " 'The methods are domain-independent and easily portable.': 0.30357142857142855,\n",
       " 'One could imagine the features indicating important sentences in the news domain might vary considerably from the biomedical domain.': 1.1607142857142856,\n",
       " 'However, the unsupervised \"recommendation\"-based approach applies to any domain.': 1.3392857142857144,\n",
       " 'Multi-document summarization is an automatic procedure aimed at extraction of information from multiple texts written about the same topic.': 1.5625,\n",
       " 'Resulting summary report allows individual users, such as professional information consumers, to quickly familiarize themselves with information contained in a large cluster of documents.': 1.0089285714285714,\n",
       " 'In such a way, multi-document summarization systems are complementing the news aggregators performing the next step down the road of coping with information overload.': 1.5892857142857142,\n",
       " 'Multi-document summarization may also be done in response to a question.': 1.1339285714285714,\n",
       " '[16][8]\\n\\nMulti-document summarization creates information reports that are both concise and comprehensive.': 1.0892857142857144,\n",
       " 'With different opinions being put together and outlined, every topic is described from multiple perspectives within a single document.': 0.7142857142857143,\n",
       " 'While the goal of a brief summary is to simplify information search and cut the time by pointing to the most relevant source documents, comprehensive multi-document summary should itself contain the required information, hence limiting the need for accessing original files to cases when refinement is required.': 1.776785714285714,\n",
       " 'Automatic summaries present information extracted from multiple sources algorithmically, without any editorial touch or subjective human intervention, thus making it completely unbiased.': 0.8839285714285714,\n",
       " '[dubious – discuss]\\n\\nMulti-document extractive summarization faces a problem of potential redundancy.': 1.0714285714285714,\n",
       " 'Ideally, we would like to extract sentences that are both \"central\" (i.e., contain the main ideas) and \"diverse\" (i.e., they differ from one another).': 3.0089285714285716,\n",
       " 'LexRank deals with diversity as a heuristic final stage using CSIS, and other systems have used similar methods, such as Maximal Marginal Relevance (MMR),[17] in trying to eliminate redundancy in information retrieval results.': 1.3303571428571428,\n",
       " 'There is a general purpose graph-based ranking algorithm like Page/Lex/TextRank that handles both \"centrality\" and \"diversity\" in a unified mathematical framework based on absorbing Markov chain random walks.': 2.946428571428572,\n",
       " '(An absorbing random walk is like a standard random walk, except some states are now absorbing states that act as \"black holes\" that cause the walk to end abruptly at that state.)': 1.7053571428571428,\n",
       " 'The algorithm is called GRASSHOPPER.': 0.3035714285714286,\n",
       " '[18] In addition to explicitly promoting diversity during the ranking process, GRASSHOPPER incorporates a prior ranking (based on sentence position in the case of summarization).': 1.6071428571428572,\n",
       " 'The state of the art results for multi-document summarization, however, are obtained using mixtures of submodular functions.': 1.7232142857142858,\n",
       " 'These methods have achieved the state of the art results for Document Summarization Corpora, DUC 04 - 07.': 0.41964285714285715,\n",
       " '[19] Similar results were also achieved with the use of determinantal point processes (which are a special case of submodular functions) for DUC-04.': 1.0357142857142858,\n",
       " '[20]\\n\\nA new method for multi-lingual multi-document summarization that avoids redundancy works by simplifying and generating ideograms that represent the meaning of each sentence in each document and then evaluates similarity \"qualitatively\" by comparing the shape and position of said ideograms has recently been developed.': 2.8839285714285716,\n",
       " 'This tool does not use word frequency, does not need training or preprocessing of any kind and works by generating ideograms that represent the meaning of each sentence and then summarizes using two user-supplied parameters: equivalence (when are two sentences to be considered equivalent) and relevance (how long is the desired summary).': 1.892857142857143,\n",
       " 'The idea of a submodular set function has recently emerged as a powerful modeling tool for various summarization problems.': 1.5714285714285718,\n",
       " 'Submodular functions naturally model notions of coverage, information, representation and diversity.': 0.6785714285714285,\n",
       " 'Moreover, several important combinatorial optimization problems occur as special instances of submodular optimization.': 0.7321428571428572,\n",
       " 'For example, the set cover problem is a special case of submodular optimization, since the set cover function is submodular.': 1.5625000000000002,\n",
       " 'The set cover function attempts to find a subset of objects which cover a given set of concepts.': 0.8392857142857144,\n",
       " 'For example, in document summarization, one would like the summary to cover all important and relevant concepts in the document.': 2.4910714285714284,\n",
       " 'This is an instance of set cover.': 0.3571428571428571,\n",
       " 'Similarly, the facility location problem is a special case of submodular functions.': 0.6964285714285714,\n",
       " 'The Facility Location function also naturally models coverage and diversity.': 0.6339285714285714,\n",
       " 'Another example of a submodular optimization problem is using a determinantal point process to model diversity.': 1.1071428571428572,\n",
       " 'Similarly, the Maximum-Marginal-Relevance procedure can also be seen as an instance of submodular optimization.': 0.6339285714285714,\n",
       " 'All these important models encouraging coverage, diversity and information are all submodular.': 0.8125,\n",
       " 'Moreover, submodular functions can be efficiently combined, and the resulting function is still submodular.': 0.875,\n",
       " 'Hence, one could combine one submodular function which models diversity, another one which models coverage and use human supervision to learn a right model of a submodular function for the problem.': 2.080357142857143,\n",
       " 'While submodular functions are fitting problems for summarization, they also admit very efficient algorithms for optimization.': 1.625,\n",
       " 'For example, a simple greedy algorithm admits a constant factor guarantee.': 0.5178571428571429,\n",
       " '[21] Moreover, the greedy algorithm is extremely simple to implement and can scale to large datasets, which is very important for summarization problems.': 1.3214285714285714,\n",
       " 'Submodular functions have achieved state-of-the-art for almost all summarization problems.': 1.0982142857142858,\n",
       " 'For example, work by Lin and Bilmes, 2012[22] shows that submodular functions achieve the best results to date on DUC-04, DUC-05, DUC-06 and DUC-07 systems for document summarization.': 1.9642857142857144,\n",
       " 'Similarly, work by Lin and Bilmes, 2011,[23] shows that many existing systems for automatic summarization are instances of submodular functions.': 1.767857142857143,\n",
       " 'This was a breakthrough result establishing submodular functions as the right models for summarization problems.': 1.4107142857142858,\n",
       " '[citation needed]\\n\\nSubmodular Functions have also been used for other summarization tasks.': 1.3392857142857144,\n",
       " 'Tschiatschek et al., 2014 show[24] that mixtures of submodular functions achieve state-of-the-art results for image collection summarization.': 1.5446428571428572,\n",
       " 'Similarly, Bairi et al., 2015[25] show the utility of submodular functions for summarizing multi-document topic hierarchies.': 0.7589285714285714,\n",
       " 'Submodular Functions have also successfully been used for summarizing machine learning datasets.': 0.7678571428571428,\n",
       " '[26]\\n• The Reddit bot \"autotldr\",[27] created in 2011 summarizes news articles in the comment-section of reddit posts.': 1.5178571428571428,\n",
       " 'It was found to be very useful by the reddit community which upvoted its summaries hundreds of thousands of times.': 0.47321428571428575,\n",
       " '[28] The name is reference to TL;DR − Internet slang for \"too long; didn\\'t read\".': 1.25,\n",
       " '[29][30]\\n\\nThe most common way to evaluate the informativeness of automatic summaries is to compare them with human-made model summaries.': 0.9910714285714287,\n",
       " 'Evaluation techniques fall into intrinsic and extrinsic,[31] inter-textual and intra-textual.': 0.26785714285714285,\n",
       " '[32]\\n\\nAn intrinsic evaluation tests the summarization system in and of itself while an extrinsic evaluation tests the summarization based on how it affects the completion of some other task.': 2.3303571428571432,\n",
       " 'Intrinsic evaluations have assessed mainly the coherence and informativeness of summaries.': 0.3928571428571428,\n",
       " 'Extrinsic evaluations, on the other hand, have tested the impact of summarization on tasks like relevance assessment, reading comprehension, etc.': 1.1874999999999998,\n",
       " 'Intra-textual methods assess the output of a specific summarization system, and the inter-textual ones focus on contrastive analysis of outputs of several summarization systems.': 2.2321428571428563,\n",
       " 'Human judgement often has wide variance on what is considered a \"good\" summary, which means that making the evaluation process automatic is particularly difficult.': 1.9464285714285716,\n",
       " 'Manual evaluation can be used, but this is both time and labor-intensive as it requires humans to read not only the summaries but also the source documents.': 1.1071428571428572,\n",
       " 'Other issues are those concerning coherence and coverage.': 0.20535714285714285,\n",
       " \"One of the metrics used in NIST's annual Document Understanding Conferences, in which research groups submit their systems for both summarization and translation tasks, is the ROUGE metric (Recall-Oriented Understudy for Gisting Evaluation [2]).\": 1.473214285714286,\n",
       " 'It essentially calculates n-gram overlaps between automatically generated summaries and previously written human summaries.': 0.7589285714285714,\n",
       " 'A high level of overlap should indicate a high level of shared concepts between the two summaries.': 0.6249999999999999,\n",
       " \"Note that overlap metrics like this are unable to provide any feedback on a summary's coherence.\": 0.6875,\n",
       " 'Anaphor resolution remains another problem yet to be fully solved.': 0.30357142857142855,\n",
       " 'Similarly, for image summarization, Tschiatschek et al., developed a Visual-ROUGE score which judges the performance of algorithms for image summarization.': 1.9285714285714286,\n",
       " '[33]\\n\\nDomain independent summarization techniques generally apply sets of general features which can be used to identify information-rich text segments.': 1.8839285714285714,\n",
       " 'Recent research focus has drifted to domain-specific summarization techniques that utilize the available knowledge specific to the domain of text.': 1.6875000000000004,\n",
       " 'For example, automatic summarization research on medical text generally attempts to utilize the various sources of codified medical knowledge and ontologies.': 1.9464285714285712,\n",
       " '[34]\\n\\nThe main drawback of the evaluation systems existing so far is that we need at least one reference summary, and for some methods more than one, to be able to compare automatic summaries with models.': 1.8571428571428572,\n",
       " 'This is a hard and expensive task.': 0.1875,\n",
       " 'Much effort has to be done in order to have corpus of texts and their corresponding summaries.': 0.4196428571428571,\n",
       " 'Furthermore, for some methods, not only do we need to have human-made summaries available for comparison, but also manual annotation has to be performed in some of them (e.g.': 0.8749999999999999,\n",
       " 'SCU in the Pyramid Method).': 0.09821428571428571,\n",
       " 'In any case, what the evaluation methods need as an input, is a set of summaries to serve as gold standards and a set of automatic summaries.': 1.4910714285714286,\n",
       " 'Moreover, they all perform a quantitative evaluation with regard to different similarity metrics.': 0.4464285714285714,\n",
       " 'The first publication in the area dates back to 1957 [35] (Hans Peter Luhn), starting with a statistical technique.': 0.2857142857142857,\n",
       " 'Research increased significantly in 2015.': 0.125,\n",
       " 'Term frequency–inverse document frequency had been used by 2016.': 0.5803571428571429,\n",
       " 'Pattern-based summarization was the most powerful option for multi-document summarization found by 2016.': 1.8035714285714286,\n",
       " 'In the following year it was surpassed by latent semantic analysis (LSA) combined with non-negative matrix factorization (NMF).': 0.30357142857142855,\n",
       " 'Although they did not replace other approaches and are often combined with them, by 2019 machine learning methods dominated the extractive summarization of single documents, which was considered to be nearing maturity.': 1.6339285714285716,\n",
       " 'By 2020, the field was still very active and research is shifting towards abstractive summation and real-time summarization.': 1.0625,\n",
       " '[36]\\n\\nRecently the rise of Transformer models replacing more traditional RNN (LSTM) have provided a flexibility in the mapping of text sequences to text sequences of a different type, which is well suited to automatic summarization.': 2.214285714285714,\n",
       " 'This includes models such as T5[37] and Pegasus.': 0.19642857142857142,\n",
       " '• None Roxana, Angheluta (2002).': 0.1875,\n",
       " 'The Use of Topic Segmentation for Automatic Summarization.': 0.09821428571428571,\n",
       " '• None Elena, Lloret and Manuel, Palomar (2009).': 0.17857142857142855,\n",
       " 'Challenging Issues of Automatic Summarization: Relevance Detection and Quality-based Evaluation.': 0.09821428571428571,\n",
       " '• None Alrehamy, Hassan (2017).': 0.17857142857142855,\n",
       " '\"SemCluster: Unsupervised Automatic Keyphrase Extraction Using Affinity Propagation\".': 1.0982142857142858,\n",
       " 'Automatic Keyphrases Extraction.': 0.09821428571428571,\n",
       " 'Advances in Intelligent Systems and Computing.': 0.09821428571428571,\n",
       " 'Vol.': 0.19642857142857142,\n",
       " '650. pp.': 0.125,\n",
       " '222–235.': 0.10714285714285714,\n",
       " 'doi:10.1007/978-3-319-66939-7_19.': 0.10714285714285714,\n",
       " 'ISBN .': 0.29464285714285715,\n",
       " '• None Marcu, Daniel (2000).': 0.17857142857142855,\n",
       " 'The Theory and Practice of Discourse Parsing and Summarization.': 0.09821428571428571,\n",
       " \"• , Published in Proceeding RIAO'10 Adaptivity, Personalization and Fusion of Heterogeneous Information, CID Paris, France\\n• None Xiaojin, Zhu, Andrew Goldberg, Jurgen Van Gael, and David Andrzejewski (2007).\": 0.25,\n",
       " 'Improving diversity in ranking using absorbing random walks .': 0.5625,\n",
       " ', The GRASSHOPPER algorithm\\n• None Miranda-Jiménez, Sabino, Gelbukh, Alexander, and Sidorov, Grigori (2013).': 0.3392857142857143,\n",
       " '\"Summarizing Conceptual Graphs for Automatic Summarization Task\".': 1.0982142857142858,\n",
       " 'Conceptual Structures for STEM Research and Education.': 0.09821428571428571,\n",
       " 'Lecture Notes in Computer Science.': 0.09821428571428571,\n",
       " '7735. pp.': 0.125,\n",
       " '245–253.': 0.10714285714285714,\n",
       " 'doi:10.1007/978-3-642-35786-2_18.': 0.10714285714285714,\n",
       " ', Conceptual Structures for STEM Research and Education.': 0.09821428571428571}"
      ]
     },
     "execution_count": 113,
     "metadata": {},
     "output_type": "execute_result"
    }
   ],
   "source": [
    "score_sentences"
   ]
  },
  {
   "cell_type": "code",
   "execution_count": null,
   "metadata": {},
   "outputs": [
    {
     "data": {
      "text/plain": [
       "['For example, in a text about machine learning, the unigram \"learning\" might co-occur with \"machine\", \"supervised\", \"un-supervised\", and \"semi-supervised\" in four different sentences.',\n",
       " 'For example, if we rank unigrams and find that \"advanced\", \"natural\", \"language\", and \"processing\" all get high ranks, then we would look at the original text and see that these words appear consecutively and create a final keyphrase using all four together.',\n",
       " 'Consider the example text from a news article:\\n\\nA keyphrase extractor might select \"Army Corps of Engineers\", \"President Bush\", \"New Orleans\", and \"defective flood-control pumps\" as keyphrases.',\n",
       " 'The main difficulty in supervised extractive summarization is that the known summaries must be manually created by extracting sentences so the sentences in an original training document can be labeled as \"in summary\" or \"not in summary\".',\n",
       " 'Similarly, if the text contains the phrase \"supervised classification\", then there would be an edge between \"supervised\" and \"classification\".',\n",
       " 'Text summarization finds the most informative sentences in a document;[1] various methods of image summarization are the subject of ongoing research, with some looking to display the most representative images from a given collection or generating a video;[2][3][4] video summarization extracts the most important frames from the video content.',\n",
       " 'In contrast, an abstractive keyphrase system would somehow internalize the content and generate keyphrases that do not appear in the text, but more closely resemble what a human might produce, such as \"political negligence\" or \"inadequate protection from floods\".',\n",
       " 'Instead of trying to learn explicit features that characterize keyphrases, the TextRank algorithm[12] exploits the structure of the text itself to determine keyphrases that appear \"central\" to the text in the same way that PageRank selects important Web pages.',\n",
       " 'In the final post-processing step, we would then end up with keyphrases \"supervised learning\" and \"supervised classification\".',\n",
       " 'These edges build on the notion of \"text cohesion\" and the idea that words that appear near each other are likely related in a meaningful way and \"recommend\" each other to the reader.']"
      ]
     },
     "execution_count": 114,
     "metadata": {},
     "output_type": "execute_result"
    }
   ],
   "source": [
    "best_sentences"
   ]
  },
  {
   "cell_type": "code",
   "execution_count": null,
   "metadata": {},
   "outputs": [
    {
     "data": {
      "text/plain": [
       "'For example, in a text about machine learning, the unigram \"learning\" might co-occur with \"machine\", \"supervised\", \"un-supervised\", and \"semi-supervised\" in four different sentences. For example, if we rank unigrams and find that \"advanced\", \"natural\", \"language\", and \"processing\" all get high ranks, then we would look at the original text and see that these words appear consecutively and create a final keyphrase using all four together. Consider the example text from a news article:\\n\\nA keyphrase extractor might select \"Army Corps of Engineers\", \"President Bush\", \"New Orleans\", and \"defective flood-control pumps\" as keyphrases. The main difficulty in supervised extractive summarization is that the known summaries must be manually created by extracting sentences so the sentences in an original training document can be labeled as \"in summary\" or \"not in summary\". Similarly, if the text contains the phrase \"supervised classification\", then there would be an edge between \"supervised\" and \"classification\". Text summarization finds the most informative sentences in a document;[1] various methods of image summarization are the subject of ongoing research, with some looking to display the most representative images from a given collection or generating a video;[2][3][4] video summarization extracts the most important frames from the video content. In contrast, an abstractive keyphrase system would somehow internalize the content and generate keyphrases that do not appear in the text, but more closely resemble what a human might produce, such as \"political negligence\" or \"inadequate protection from floods\". Instead of trying to learn explicit features that characterize keyphrases, the TextRank algorithm[12] exploits the structure of the text itself to determine keyphrases that appear \"central\" to the text in the same way that PageRank selects important Web pages. In the final post-processing step, we would then end up with keyphrases \"supervised learning\" and \"supervised classification\". These edges build on the notion of \"text cohesion\" and the idea that words that appear near each other are likely related in a meaningful way and \"recommend\" each other to the reader.'"
      ]
     },
     "execution_count": 115,
     "metadata": {},
     "output_type": "execute_result"
    }
   ],
   "source": [
    "summary = ' '.join(best_sentences)\n",
    "summary"
   ]
  },
  {
   "cell_type": "code",
   "execution_count": null,
   "metadata": {},
   "outputs": [],
   "source": [
    "def visualize(title, sentence_list, best_sentences):\n",
    "  from IPython.core.display import HTML\n",
    "  text = ''\n",
    "\n",
    "  display(HTML(f'<h1>Summary - {title}</h1>'))\n",
    "  for sentence in sentence_list:\n",
    "    if sentence in best_sentences:\n",
    "      text += ' ' + str(sentence).replace(sentence, f\"<mark>{sentence}</mark>\")\n",
    "    else:\n",
    "      text += ' ' + sentence\n",
    "  display(HTML(f\"\"\" {text} \"\"\"))"
   ]
  },
  {
   "cell_type": "code",
   "execution_count": null,
   "metadata": {},
   "outputs": [
    {
     "data": {
      "text/html": [
       "<h1>Summary - Automatic summarization - Wikipedia</h1>"
      ],
      "text/plain": [
       "<IPython.core.display.HTML object>"
      ]
     },
     "metadata": {},
     "output_type": "display_data"
    },
    {
     "data": {
      "text/html": [
       "  Automatic summarization is the process of shortening a set of data computationally, to create a subset (a summary) that represents the most important or relevant information within the original content. In addition to text, images and videos can also be summarized. <mark>Text summarization finds the most informative sentences in a document;[1] various methods of image summarization are the subject of ongoing research, with some looking to display the most representative images from a given collection or generating a video;[2][3][4] video summarization extracts the most important frames from the video content.</mark> [5]\n",
       "\n",
       "There are two general approaches to automatic summarization: extraction and abstraction. Here, content is extracted from the original data, but the extracted content is not modified in any way. Examples of extracted content include key-phrases that can be used to \"tag\" or index a text document, or key sentences (including headings) that collectively comprise an abstract, and representative images or video segments, as stated above. For text, extraction is analogous to the process of skimming, where the summary (if available), headings and subheadings, figures, the first and last paragraphs of a section, and optionally the first and last sentences in a paragraph are read before one chooses to read the entire document in detail. [7] Other examples of extraction that include key sequences of text in terms of clinical relevance (including patient/problem, intervention, and outcome). [8]\n",
       "\n",
       "This has been applied mainly for text. Abstractive methods build an internal semantic representation of the original content, and then use this representation to create a summary that is closer to what a human might express. Abstraction may transform the extracted content by paraphrasing sections of the source document, to condense a text more strongly than extraction. Such transformation, however, is computationally much more challenging than extraction, involving both natural language processing and often a deep understanding of the domain of the original text in cases where the original document relates to a special field of knowledge. \"Paraphrasing\" is even more difficult to apply to image and video, which is why most summarization systems are extractive. Approaches aimed at higher summarization quality rely on combined software and human effort. In Machine Aided Human Summarization, extractive techniques highlight candidate passages for inclusion (to which the human adds or removes text). In Human Aided Machine Summarization, a human post-processes software output, in the same way that one edits the output of automatic translation by Google Translate. There are broadly two types of extractive summarization tasks depending on what the summarization program focuses on. The first is generic summarization, which focuses on obtaining a generic summary or abstract of the collection (whether documents, or sets of images, or videos, news stories etc.). The second is query relevant summarization, sometimes called query-based summarization, which summarizes objects specific to a query. Summarization systems are able to create both query relevant text summaries and generic machine-generated summaries depending on what the user needs. An example of a summarization problem is document summarization, which attempts to automatically produce an abstract from a given document. Sometimes one might be interested in generating a summary from a single source document, while others can use multiple source documents (for example, a cluster of articles on the same topic). This problem is called multi-document summarization. A related application is summarizing news articles. Imagine a system, which automatically pulls together news articles on a given topic (from the web), and concisely represents the latest news as a summary. Image collection summarization is another application example of automatic summarization. It consists in selecting a representative set of images from a larger set of images. [9] A summary in this context is useful to show the most representative images of results in an image collection exploration system. Video summarization is a related domain, where the system automatically creates a trailer of a long video. This also has applications in consumer or personal videos, where one might want to skip the boring or repetitive actions. Similarly, in surveillance videos, one would want to extract important and suspicious activity, while ignoring all the boring and redundant frames captured. At a very high level, summarization algorithms try to find subsets of objects (like set of sentences, or a set of images), which cover information of the entire set. This is also called the core-set. These algorithms model notions like diversity, coverage, information and representativeness of the summary. Query based summarization techniques, additionally model for relevance of the summary with the query. Some techniques and algorithms which naturally model summarization problems are TextRank and PageRank, Submodular set function, Determinantal point process, maximal marginal relevance (MMR) etc. The task is the following. You are given a piece of text, such as a journal article, and you must produce a list of keywords or key[phrase]s that capture the primary topics discussed in the text. [10] In the case of research articles, many authors provide manually assigned keywords, but most text lacks pre-existing keyphrases. For example, news articles rarely have keyphrases attached, but it would be useful to be able to automatically do so for a number of applications discussed below. <mark>Consider the example text from a news article:\n",
       "\n",
       "A keyphrase extractor might select \"Army Corps of Engineers\", \"President Bush\", \"New Orleans\", and \"defective flood-control pumps\" as keyphrases.</mark> These are pulled directly from the text. <mark>In contrast, an abstractive keyphrase system would somehow internalize the content and generate keyphrases that do not appear in the text, but more closely resemble what a human might produce, such as \"political negligence\" or \"inadequate protection from floods\".</mark> Abstraction requires a deep understanding of the text, which makes it difficult for a computer system. Keyphrases have many applications. They can enable document browsing by providing a short summary, improve information retrieval (if documents have keyphrases assigned, a user could search by keyphrase to produce more reliable hits than a full-text search), and be employed in generating index entries for a large text corpus. Depending on the different literature and the definition of key terms, words or phrases, keyword extraction is a highly related theme. Beginning with the work of Turney,[11] many researchers have approached keyphrase extraction as a supervised machine learning problem. Given a document, we construct an example for each unigram, bigram, and trigram found in the text (though other text units are also possible, as discussed below). We then compute various features describing each example (e.g., does the phrase begin with an upper-case letter?). We assume there are known keyphrases available for a set of training documents. Using the known keyphrases, we can assign positive or negative labels to the examples. Then we learn a classifier that can discriminate between positive and negative examples as a function of the features. Some classifiers make a binary classification for a test example, while others assign a probability of being a keyphrase. For instance, in the above text, we might learn a rule that says phrases with initial capital letters are likely to be keyphrases. After training a learner, we can select keyphrases for test documents in the following manner. We apply the same example-generation strategy to the test documents, then run each example through the learner. We can determine the keyphrases by looking at binary classification decisions or probabilities returned from our learned model. If probabilities are given, a threshold is used to select the keyphrases. Keyphrase extractors are generally evaluated using precision and recall. Precision measures how many of the proposed keyphrases are actually correct. Recall measures how many of the true keyphrases your system proposed. The two measures can be combined in an F-score, which is the harmonic mean of the two (F = 2PR/(P + R) ). Matches between the proposed keyphrases and the known keyphrases can be checked after stemming or applying some other text normalization. Designing a supervised keyphrase extraction system involves deciding on several choices (some of these apply to unsupervised, too). The first choice is exactly how to generate examples. Turney and others have used all possible unigrams, bigrams, and trigrams without intervening punctuation and after removing stopwords. Hulth showed that you can get some improvement by selecting examples to be sequences of tokens that match certain patterns of part-of-speech tags. Ideally, the mechanism for generating examples produces all the known labeled keyphrases as candidates, though this is often not the case. For example, if we use only unigrams, bigrams, and trigrams, then we will never be able to extract a known keyphrase containing four words. Thus, recall may suffer. However, generating too many examples can also lead to low precision. We also need to create features that describe the examples and are informative enough to allow a learning algorithm to discriminate keyphrases from non- keyphrases. Typically features involve various term frequencies (how many times a phrase appears in the current text or in a larger corpus), the length of the example, relative position of the first occurrence, various boolean syntactic features (e.g., contains all caps), etc. The Turney paper used about 12 such features. Hulth uses a reduced set of features, which were found most successful in the KEA (Keyphrase Extraction Algorithm) work derived from Turney's seminal paper. In the end, the system will need to return a list of keyphrases for a test document, so we need to have a way to limit the number. Ensemble methods (i.e., using votes from several classifiers) have been used to produce numeric scores that can be thresholded to provide a user-provided number of keyphrases. This is the technique used by Turney with C4.5 decision trees. Hulth used a single binary classifier so the learning algorithm implicitly determines the appropriate number. Once examples and features are created, we need a way to learn to predict keyphrases. Virtually any supervised learning algorithm could be used, such as decision trees, Naive Bayes, and rule induction. In the case of Turney's GenEx algorithm, a genetic algorithm is used to learn parameters for a domain-specific keyphrase extraction algorithm. The extractor follows a series of heuristics to identify keyphrases. The genetic algorithm optimizes parameters for these heuristics with respect to performance on training documents with known key phrases. Another keyphrase extraction algorithm is TextRank. While supervised methods have some nice properties, like being able to produce interpretable rules for what features characterize a keyphrase, they also require a large amount of training data. Many documents with known keyphrases are needed. Furthermore, training on a specific domain tends to customize the extraction process to that domain, so the resulting classifier is not necessarily portable, as some of Turney's results demonstrate. Unsupervised keyphrase extraction removes the need for training data. It approaches the problem from a different angle. <mark>Instead of trying to learn explicit features that characterize keyphrases, the TextRank algorithm[12] exploits the structure of the text itself to determine keyphrases that appear \"central\" to the text in the same way that PageRank selects important Web pages.</mark> Recall this is based on the notion of \"prestige\" or \"recommendation\" from social networks. In this way, TextRank does not rely on any previous training data at all, but rather can be run on any arbitrary piece of text, and it can produce output simply based on the text's intrinsic properties. Thus the algorithm is easily portable to new domains and languages. TextRank is a general purpose graph-based ranking algorithm for NLP. Essentially, it runs PageRank on a graph specially designed for a particular NLP task. For keyphrase extraction, it builds a graph using some set of text units as vertices. Edges are based on some measure of semantic or lexical similarity between the text unit vertices. Unlike PageRank, the edges are typically undirected and can be weighted to reflect a degree of similarity. Once the graph is constructed, it is used to form a stochastic matrix, combined with a damping factor (as in the \"random surfer model\"), and the ranking over vertices is obtained by finding the eigenvector corresponding to eigenvalue 1 (i.e., the stationary distribution of the random walk on the graph). The vertices should correspond to what we want to rank. Potentially, we could do something similar to the supervised methods and create a vertex for each unigram, bigram, trigram, etc. However, to keep the graph small, the authors decide to rank individual unigrams in a first step, and then include a second step that merges highly ranked adjacent unigrams to form multi-word phrases. This has a nice side effect of allowing us to produce keyphrases of arbitrary length. <mark>For example, if we rank unigrams and find that \"advanced\", \"natural\", \"language\", and \"processing\" all get high ranks, then we would look at the original text and see that these words appear consecutively and create a final keyphrase using all four together.</mark> Note that the unigrams placed in the graph can be filtered by part of speech. The authors found that adjectives and nouns were the best to include. Thus, some linguistic knowledge comes into play in this step. Edges are created based on word co-occurrence in this application of TextRank. Two vertices are connected by an edge if the unigrams appear within a window of size N in the original text. N is typically around 2–10. Thus, \"natural\" and \"language\" might be linked in a text about NLP. \"Natural\" and \"processing\" would also be linked because they would both appear in the same string of N words. <mark>These edges build on the notion of \"text cohesion\" and the idea that words that appear near each other are likely related in a meaningful way and \"recommend\" each other to the reader.</mark> Since this method simply ranks the individual vertices, we need a way to threshold or produce a limited number of keyphrases. The technique chosen is to set a count T to be a user-specified fraction of the total number of vertices in the graph. Then the top T vertices/unigrams are selected based on their stationary probabilities. A post- processing step is then applied to merge adjacent instances of these T unigrams. As a result, potentially more or less than T final keyphrases will be produced, but the number should be roughly proportional to the length of the original text. It is not initially clear why applying PageRank to a co-occurrence graph would produce useful keyphrases. One way to think about it is the following. A word that appears multiple times throughout a text may have many different co-occurring neighbors. <mark>For example, in a text about machine learning, the unigram \"learning\" might co-occur with \"machine\", \"supervised\", \"un-supervised\", and \"semi-supervised\" in four different sentences.</mark> Thus, the \"learning\" vertex would be a central \"hub\" that connects to these other modifying words. Running PageRank/TextRank on the graph is likely to rank \"learning\" highly. <mark>Similarly, if the text contains the phrase \"supervised classification\", then there would be an edge between \"supervised\" and \"classification\".</mark> If \"classification\" appears several other places and thus has many neighbors, its importance would contribute to the importance of \"supervised\". If it ends up with a high rank, it will be selected as one of the top T unigrams, along with \"learning\" and probably \"classification\". <mark>In the final post-processing step, we would then end up with keyphrases \"supervised learning\" and \"supervised classification\".</mark> In short, the co-occurrence graph will contain densely connected regions for terms that appear often and in different contexts. A random walk on this graph will have a stationary distribution that assigns large probabilities to the terms in the centers of the clusters. This is similar to densely connected Web pages getting ranked highly by PageRank. This approach has also been used in document summarization, considered below. Like keyphrase extraction, document summarization aims to identify the essence of a text. The only real difference is that now we are dealing with larger text units—whole sentences instead of words and phrases. Before getting into the details of some summarization methods, we will mention how summarization systems are typically evaluated. The most common way is using the so-called ROUGE (Recall-Oriented Understudy for Gisting Evaluation) measure. This is a recall-based measure that determines how well a system-generated summary covers the content present in one or more human-generated model summaries known as references. It is recall-based to encourage systems to include all the important topics in the text. Recall can be computed with respect to unigram, bigram, trigram, or 4-gram matching. For example, ROUGE-1 is computed as division of count of unigrams in reference that appear in system and count of unigrams in reference summary. If there are multiple references, the ROUGE-1 scores are averaged. Because ROUGE is based only on content overlap, it can determine if the same general concepts are discussed between an automatic summary and a reference summary, but it cannot determine if the result is coherent or the sentences flow together in a sensible manner. High-order n-gram ROUGE measures try to judge fluency to some degree. Note that ROUGE is similar to the BLEU measure for machine translation, but BLEU is precision- based, because translation systems favor accuracy. A promising line in document summarization is adaptive document/text summarization. [13] The idea of adaptive summarization involves preliminary recognition of document/text genre and subsequent application of summarization algorithms optimized for this genre. First summarizes that perform adaptive summarization have been created. [14]\n",
       "\n",
       "Supervised text summarization is very much like supervised keyphrase extraction. Basically, if you have a collection of documents and human-generated summaries for them, you can learn features of sentences that make them good candidates for inclusion in the summary. Features might include the position in the document (i.e., the first few sentences are probably important), the number of words in the sentence, etc. <mark>The main difficulty in supervised extractive summarization is that the known summaries must be manually created by extracting sentences so the sentences in an original training document can be labeled as \"in summary\" or \"not in summary\".</mark> This is not typically how people create summaries, so simply using journal abstracts or existing summaries is usually not sufficient. The sentences in these summaries do not necessarily match up with sentences in the original text, so it would be difficult to assign labels to examples for training. Note, however, that these natural summaries can still be used for evaluation purposes, since ROUGE-1 only cares about unigrams. During the DUC 2001 and 2002 evaluation workshops, TNO developed a sentence extraction system for multi-document summarization in the news domain. The system was based on a hybrid system using a naive Bayes classifier and statistical language models for modeling salience. Although the system exhibited good results, the researchers wanted to explore the effectiveness of a maximum entropy (ME) classifier for the meeting summarization task, as ME is known to be robust against feature dependencies. Maximum entropy has also been applied successfully for summarization in the broadcast news domain. The unsupervised approach to summarization is also quite similar in spirit to unsupervised keyphrase extraction and gets around the issue of costly training data. Some unsupervised summarization approaches are based on finding a \"centroid\" sentence, which is the mean word vector of all the sentences in the document. Then the sentences can be ranked with regard to their similarity to this centroid sentence. A more principled way to estimate sentence importance is using random walks and eigenvector centrality. LexRank[15] is an algorithm essentially identical to TextRank, and both use this approach for document summarization. The two methods were developed by different groups at the same time, and LexRank simply focused on summarization, but could just as easily be used for keyphrase extraction or any other NLP ranking task. In both LexRank and TextRank, a graph is constructed by creating a vertex for each sentence in the document. The edges between sentences are based on some form of semantic similarity or content overlap. While LexRank uses cosine similarity of TF-IDF vectors, TextRank uses a very similar measure based on the number of words two sentences have in common (normalized by the sentences' lengths). The LexRank paper explored using unweighted edges after applying a threshold to the cosine values, but also experimented with using edges with weights equal to the similarity score. TextRank uses continuous similarity scores as weights. In both algorithms, the sentences are ranked by applying PageRank to the resulting graph. A summary is formed by combining the top ranking sentences, using a threshold or length cutoff to limit the size of the summary. It is worth noting that TextRank was applied to summarization exactly as described here, while LexRank was used as part of a larger summarization system (MEAD) that combines the LexRank score (stationary probability) with other features like sentence position and length using a linear combination with either user-specified or automatically tuned weights. In this case, some training documents might be needed, though the TextRank results show the additional features are not absolutely necessary. Another important distinction is that TextRank was used for single document summarization, while LexRank has been applied to multi-document summarization. The task remains the same in both cases—only the number of sentences to choose from has grown. However, when summarizing multiple documents, there is a greater risk of selecting duplicate or highly redundant sentences to place in the same summary. Imagine you have a cluster of news articles on a particular event, and you want to produce one summary. Each article is likely to have many similar sentences, and you would only want to include distinct ideas in the summary. To address this issue, LexRank applies a heuristic post-processing step that builds up a summary by adding sentences in rank order, but discards any sentences that are too similar to ones already placed in the summary. The method used is called Cross-Sentence Information Subsumption (CSIS). These methods work based on the idea that sentences \"recommend\" other similar sentences to the reader. Thus, if one sentence is very similar to many others, it will likely be a sentence of great importance. The importance of this sentence also stems from the importance of the sentences \"recommending\" it. Thus, to get ranked highly and placed in a summary, a sentence must be similar to many sentences that are in turn also similar to many other sentences. This makes intuitive sense and allows the algorithms to be applied to any arbitrary new text. The methods are domain-independent and easily portable. One could imagine the features indicating important sentences in the news domain might vary considerably from the biomedical domain. However, the unsupervised \"recommendation\"-based approach applies to any domain. Multi-document summarization is an automatic procedure aimed at extraction of information from multiple texts written about the same topic. Resulting summary report allows individual users, such as professional information consumers, to quickly familiarize themselves with information contained in a large cluster of documents. In such a way, multi-document summarization systems are complementing the news aggregators performing the next step down the road of coping with information overload. Multi-document summarization may also be done in response to a question. [16][8]\n",
       "\n",
       "Multi-document summarization creates information reports that are both concise and comprehensive. With different opinions being put together and outlined, every topic is described from multiple perspectives within a single document. While the goal of a brief summary is to simplify information search and cut the time by pointing to the most relevant source documents, comprehensive multi-document summary should itself contain the required information, hence limiting the need for accessing original files to cases when refinement is required. Automatic summaries present information extracted from multiple sources algorithmically, without any editorial touch or subjective human intervention, thus making it completely unbiased. [dubious – discuss]\n",
       "\n",
       "Multi-document extractive summarization faces a problem of potential redundancy. Ideally, we would like to extract sentences that are both \"central\" (i.e., contain the main ideas) and \"diverse\" (i.e., they differ from one another). LexRank deals with diversity as a heuristic final stage using CSIS, and other systems have used similar methods, such as Maximal Marginal Relevance (MMR),[17] in trying to eliminate redundancy in information retrieval results. There is a general purpose graph-based ranking algorithm like Page/Lex/TextRank that handles both \"centrality\" and \"diversity\" in a unified mathematical framework based on absorbing Markov chain random walks. (An absorbing random walk is like a standard random walk, except some states are now absorbing states that act as \"black holes\" that cause the walk to end abruptly at that state.) The algorithm is called GRASSHOPPER. [18] In addition to explicitly promoting diversity during the ranking process, GRASSHOPPER incorporates a prior ranking (based on sentence position in the case of summarization). The state of the art results for multi-document summarization, however, are obtained using mixtures of submodular functions. These methods have achieved the state of the art results for Document Summarization Corpora, DUC 04 - 07. [19] Similar results were also achieved with the use of determinantal point processes (which are a special case of submodular functions) for DUC-04. [20]\n",
       "\n",
       "A new method for multi-lingual multi-document summarization that avoids redundancy works by simplifying and generating ideograms that represent the meaning of each sentence in each document and then evaluates similarity \"qualitatively\" by comparing the shape and position of said ideograms has recently been developed. This tool does not use word frequency, does not need training or preprocessing of any kind and works by generating ideograms that represent the meaning of each sentence and then summarizes using two user-supplied parameters: equivalence (when are two sentences to be considered equivalent) and relevance (how long is the desired summary). The idea of a submodular set function has recently emerged as a powerful modeling tool for various summarization problems. Submodular functions naturally model notions of coverage, information, representation and diversity. Moreover, several important combinatorial optimization problems occur as special instances of submodular optimization. For example, the set cover problem is a special case of submodular optimization, since the set cover function is submodular. The set cover function attempts to find a subset of objects which cover a given set of concepts. For example, in document summarization, one would like the summary to cover all important and relevant concepts in the document. This is an instance of set cover. Similarly, the facility location problem is a special case of submodular functions. The Facility Location function also naturally models coverage and diversity. Another example of a submodular optimization problem is using a determinantal point process to model diversity. Similarly, the Maximum-Marginal-Relevance procedure can also be seen as an instance of submodular optimization. All these important models encouraging coverage, diversity and information are all submodular. Moreover, submodular functions can be efficiently combined, and the resulting function is still submodular. Hence, one could combine one submodular function which models diversity, another one which models coverage and use human supervision to learn a right model of a submodular function for the problem. While submodular functions are fitting problems for summarization, they also admit very efficient algorithms for optimization. For example, a simple greedy algorithm admits a constant factor guarantee. [21] Moreover, the greedy algorithm is extremely simple to implement and can scale to large datasets, which is very important for summarization problems. Submodular functions have achieved state-of-the-art for almost all summarization problems. For example, work by Lin and Bilmes, 2012[22] shows that submodular functions achieve the best results to date on DUC-04, DUC-05, DUC-06 and DUC-07 systems for document summarization. Similarly, work by Lin and Bilmes, 2011,[23] shows that many existing systems for automatic summarization are instances of submodular functions. This was a breakthrough result establishing submodular functions as the right models for summarization problems. [citation needed]\n",
       "\n",
       "Submodular Functions have also been used for other summarization tasks. Tschiatschek et al., 2014 show[24] that mixtures of submodular functions achieve state-of-the-art results for image collection summarization. Similarly, Bairi et al., 2015[25] show the utility of submodular functions for summarizing multi-document topic hierarchies. Submodular Functions have also successfully been used for summarizing machine learning datasets. [26]\n",
       "• The Reddit bot \"autotldr\",[27] created in 2011 summarizes news articles in the comment-section of reddit posts. It was found to be very useful by the reddit community which upvoted its summaries hundreds of thousands of times. [28] The name is reference to TL;DR − Internet slang for \"too long; didn't read\". [29][30]\n",
       "\n",
       "The most common way to evaluate the informativeness of automatic summaries is to compare them with human-made model summaries. Evaluation techniques fall into intrinsic and extrinsic,[31] inter-textual and intra-textual. [32]\n",
       "\n",
       "An intrinsic evaluation tests the summarization system in and of itself while an extrinsic evaluation tests the summarization based on how it affects the completion of some other task. Intrinsic evaluations have assessed mainly the coherence and informativeness of summaries. Extrinsic evaluations, on the other hand, have tested the impact of summarization on tasks like relevance assessment, reading comprehension, etc. Intra-textual methods assess the output of a specific summarization system, and the inter-textual ones focus on contrastive analysis of outputs of several summarization systems. Human judgement often has wide variance on what is considered a \"good\" summary, which means that making the evaluation process automatic is particularly difficult. Manual evaluation can be used, but this is both time and labor-intensive as it requires humans to read not only the summaries but also the source documents. Other issues are those concerning coherence and coverage. One of the metrics used in NIST's annual Document Understanding Conferences, in which research groups submit their systems for both summarization and translation tasks, is the ROUGE metric (Recall-Oriented Understudy for Gisting Evaluation [2]). It essentially calculates n-gram overlaps between automatically generated summaries and previously written human summaries. A high level of overlap should indicate a high level of shared concepts between the two summaries. Note that overlap metrics like this are unable to provide any feedback on a summary's coherence. Anaphor resolution remains another problem yet to be fully solved. Similarly, for image summarization, Tschiatschek et al., developed a Visual-ROUGE score which judges the performance of algorithms for image summarization. [33]\n",
       "\n",
       "Domain independent summarization techniques generally apply sets of general features which can be used to identify information-rich text segments. Recent research focus has drifted to domain-specific summarization techniques that utilize the available knowledge specific to the domain of text. For example, automatic summarization research on medical text generally attempts to utilize the various sources of codified medical knowledge and ontologies. [34]\n",
       "\n",
       "The main drawback of the evaluation systems existing so far is that we need at least one reference summary, and for some methods more than one, to be able to compare automatic summaries with models. This is a hard and expensive task. Much effort has to be done in order to have corpus of texts and their corresponding summaries. Furthermore, for some methods, not only do we need to have human-made summaries available for comparison, but also manual annotation has to be performed in some of them (e.g. SCU in the Pyramid Method). In any case, what the evaluation methods need as an input, is a set of summaries to serve as gold standards and a set of automatic summaries. Moreover, they all perform a quantitative evaluation with regard to different similarity metrics. The first publication in the area dates back to 1957 [35] (Hans Peter Luhn), starting with a statistical technique. Research increased significantly in 2015. Term frequency–inverse document frequency had been used by 2016. Pattern-based summarization was the most powerful option for multi-document summarization found by 2016. In the following year it was surpassed by latent semantic analysis (LSA) combined with non-negative matrix factorization (NMF). Although they did not replace other approaches and are often combined with them, by 2019 machine learning methods dominated the extractive summarization of single documents, which was considered to be nearing maturity. By 2020, the field was still very active and research is shifting towards abstractive summation and real-time summarization. [36]\n",
       "\n",
       "Recently the rise of Transformer models replacing more traditional RNN (LSTM) have provided a flexibility in the mapping of text sequences to text sequences of a different type, which is well suited to automatic summarization. This includes models such as T5[37] and Pegasus. • None Roxana, Angheluta (2002). The Use of Topic Segmentation for Automatic Summarization. • None Elena, Lloret and Manuel, Palomar (2009). Challenging Issues of Automatic Summarization: Relevance Detection and Quality-based Evaluation. • None Alrehamy, Hassan (2017). \"SemCluster: Unsupervised Automatic Keyphrase Extraction Using Affinity Propagation\". Automatic Keyphrases Extraction. Advances in Intelligent Systems and Computing. Vol. 650. pp. 222–235. doi:10.1007/978-3-319-66939-7_19. ISBN . • None Marcu, Daniel (2000). The Theory and Practice of Discourse Parsing and Summarization. ISBN . • , Published in Proceeding RIAO'10 Adaptivity, Personalization and Fusion of Heterogeneous Information, CID Paris, France\n",
       "• None Xiaojin, Zhu, Andrew Goldberg, Jurgen Van Gael, and David Andrzejewski (2007). Improving diversity in ranking using absorbing random walks . , The GRASSHOPPER algorithm\n",
       "• None Miranda-Jiménez, Sabino, Gelbukh, Alexander, and Sidorov, Grigori (2013). \"Summarizing Conceptual Graphs for Automatic Summarization Task\". Conceptual Structures for STEM Research and Education. Lecture Notes in Computer Science. Vol. 7735. pp. 245–253. doi:10.1007/978-3-642-35786-2_18. ISBN . , Conceptual Structures for STEM Research and Education. "
      ],
      "text/plain": [
       "<IPython.core.display.HTML object>"
      ]
     },
     "metadata": {},
     "output_type": "display_data"
    }
   ],
   "source": [
    "visualize(article.title, sentence_list, best_sentences)"
   ]
  },
  {
   "cell_type": "markdown",
   "metadata": {},
   "source": [
    "Summarizing multiple texts"
   ]
  },
  {
   "cell_type": "code",
   "execution_count": null,
   "metadata": {},
   "outputs": [],
   "source": [
    "article_list = ['https://en.wikipedia.org/wiki/Automatic_summarization',\n",
    "                'https://en.wikipedia.org/wiki/Natural_language_processing',\n",
    "                'https://en.wikipedia.org/wiki/Lemmatisation']"
   ]
  },
  {
   "cell_type": "code",
   "execution_count": null,
   "metadata": {},
   "outputs": [
    {
     "name": "stdout",
     "output_type": "stream",
     "text": [
      "300 60\n"
     ]
    },
    {
     "data": {
      "text/html": [
       "<h1>Summary - Automatic summarization - Wikipedia</h1>"
      ],
      "text/plain": [
       "<IPython.core.display.HTML object>"
      ]
     },
     "metadata": {},
     "output_type": "display_data"
    },
    {
     "data": {
      "text/html": [
       "  <mark>Automatic summarization is the process of shortening a set of data computationally, to create a subset (a summary) that represents the most important or relevant information within the original content.</mark> In addition to text, images and videos can also be summarized. <mark>Text summarization finds the most informative sentences in a document;[1] various methods of image summarization are the subject of ongoing research, with some looking to display the most representative images from a given collection or generating a video;[2][3][4] video summarization extracts the most important frames from the video content.</mark> [5]\n",
       "\n",
       "There are two general approaches to automatic summarization: extraction and abstraction. Here, content is extracted from the original data, but the extracted content is not modified in any way. <mark>Examples of extracted content include key-phrases that can be used to \"tag\" or index a text document, or key sentences (including headings) that collectively comprise an abstract, and representative images or video segments, as stated above.</mark> <mark>For text, extraction is analogous to the process of skimming, where the summary (if available), headings and subheadings, figures, the first and last paragraphs of a section, and optionally the first and last sentences in a paragraph are read before one chooses to read the entire document in detail.</mark> [7] Other examples of extraction that include key sequences of text in terms of clinical relevance (including patient/problem, intervention, and outcome). [8]\n",
       "\n",
       "This has been applied mainly for text. Abstractive methods build an internal semantic representation of the original content, and then use this representation to create a summary that is closer to what a human might express. Abstraction may transform the extracted content by paraphrasing sections of the source document, to condense a text more strongly than extraction. Such transformation, however, is computationally much more challenging than extraction, involving both natural language processing and often a deep understanding of the domain of the original text in cases where the original document relates to a special field of knowledge. <mark>\"Paraphrasing\" is even more difficult to apply to image and video, which is why most summarization systems are extractive.</mark> Approaches aimed at higher summarization quality rely on combined software and human effort. In Machine Aided Human Summarization, extractive techniques highlight candidate passages for inclusion (to which the human adds or removes text). In Human Aided Machine Summarization, a human post-processes software output, in the same way that one edits the output of automatic translation by Google Translate. <mark>There are broadly two types of extractive summarization tasks depending on what the summarization program focuses on.</mark> <mark>The first is generic summarization, which focuses on obtaining a generic summary or abstract of the collection (whether documents, or sets of images, or videos, news stories etc.).</mark> <mark>The second is query relevant summarization, sometimes called query-based summarization, which summarizes objects specific to a query.</mark> Summarization systems are able to create both query relevant text summaries and generic machine-generated summaries depending on what the user needs. <mark>An example of a summarization problem is document summarization, which attempts to automatically produce an abstract from a given document.</mark> Sometimes one might be interested in generating a summary from a single source document, while others can use multiple source documents (for example, a cluster of articles on the same topic). This problem is called multi-document summarization. A related application is summarizing news articles. Imagine a system, which automatically pulls together news articles on a given topic (from the web), and concisely represents the latest news as a summary. <mark>Image collection summarization is another application example of automatic summarization.</mark> It consists in selecting a representative set of images from a larger set of images. [9] A summary in this context is useful to show the most representative images of results in an image collection exploration system. Video summarization is a related domain, where the system automatically creates a trailer of a long video. This also has applications in consumer or personal videos, where one might want to skip the boring or repetitive actions. Similarly, in surveillance videos, one would want to extract important and suspicious activity, while ignoring all the boring and redundant frames captured. <mark>At a very high level, summarization algorithms try to find subsets of objects (like set of sentences, or a set of images), which cover information of the entire set.</mark> This is also called the core-set. These algorithms model notions like diversity, coverage, information and representativeness of the summary. Query based summarization techniques, additionally model for relevance of the summary with the query. Some techniques and algorithms which naturally model summarization problems are TextRank and PageRank, Submodular set function, Determinantal point process, maximal marginal relevance (MMR) etc. The task is the following. You are given a piece of text, such as a journal article, and you must produce a list of keywords or key[phrase]s that capture the primary topics discussed in the text. [10] In the case of research articles, many authors provide manually assigned keywords, but most text lacks pre-existing keyphrases. For example, news articles rarely have keyphrases attached, but it would be useful to be able to automatically do so for a number of applications discussed below. <mark>Consider the example text from a news article:\n",
       "\n",
       "A keyphrase extractor might select \"Army Corps of Engineers\", \"President Bush\", \"New Orleans\", and \"defective flood-control pumps\" as keyphrases.</mark> These are pulled directly from the text. <mark>In contrast, an abstractive keyphrase system would somehow internalize the content and generate keyphrases that do not appear in the text, but more closely resemble what a human might produce, such as \"political negligence\" or \"inadequate protection from floods\".</mark> Abstraction requires a deep understanding of the text, which makes it difficult for a computer system. Keyphrases have many applications. <mark>They can enable document browsing by providing a short summary, improve information retrieval (if documents have keyphrases assigned, a user could search by keyphrase to produce more reliable hits than a full-text search), and be employed in generating index entries for a large text corpus.</mark> Depending on the different literature and the definition of key terms, words or phrases, keyword extraction is a highly related theme. Beginning with the work of Turney,[11] many researchers have approached keyphrase extraction as a supervised machine learning problem. <mark>Given a document, we construct an example for each unigram, bigram, and trigram found in the text (though other text units are also possible, as discussed below).</mark> We then compute various features describing each example (e.g., does the phrase begin with an upper-case letter?). We assume there are known keyphrases available for a set of training documents. Using the known keyphrases, we can assign positive or negative labels to the examples. Then we learn a classifier that can discriminate between positive and negative examples as a function of the features. Some classifiers make a binary classification for a test example, while others assign a probability of being a keyphrase. For instance, in the above text, we might learn a rule that says phrases with initial capital letters are likely to be keyphrases. After training a learner, we can select keyphrases for test documents in the following manner. We apply the same example-generation strategy to the test documents, then run each example through the learner. We can determine the keyphrases by looking at binary classification decisions or probabilities returned from our learned model. If probabilities are given, a threshold is used to select the keyphrases. Keyphrase extractors are generally evaluated using precision and recall. Precision measures how many of the proposed keyphrases are actually correct. Recall measures how many of the true keyphrases your system proposed. The two measures can be combined in an F-score, which is the harmonic mean of the two (F = 2PR/(P + R) ). Matches between the proposed keyphrases and the known keyphrases can be checked after stemming or applying some other text normalization. Designing a supervised keyphrase extraction system involves deciding on several choices (some of these apply to unsupervised, too). The first choice is exactly how to generate examples. Turney and others have used all possible unigrams, bigrams, and trigrams without intervening punctuation and after removing stopwords. Hulth showed that you can get some improvement by selecting examples to be sequences of tokens that match certain patterns of part-of-speech tags. Ideally, the mechanism for generating examples produces all the known labeled keyphrases as candidates, though this is often not the case. For example, if we use only unigrams, bigrams, and trigrams, then we will never be able to extract a known keyphrase containing four words. Thus, recall may suffer. However, generating too many examples can also lead to low precision. We also need to create features that describe the examples and are informative enough to allow a learning algorithm to discriminate keyphrases from non- keyphrases. Typically features involve various term frequencies (how many times a phrase appears in the current text or in a larger corpus), the length of the example, relative position of the first occurrence, various boolean syntactic features (e.g., contains all caps), etc. The Turney paper used about 12 such features. Hulth uses a reduced set of features, which were found most successful in the KEA (Keyphrase Extraction Algorithm) work derived from Turney's seminal paper. In the end, the system will need to return a list of keyphrases for a test document, so we need to have a way to limit the number. Ensemble methods (i.e., using votes from several classifiers) have been used to produce numeric scores that can be thresholded to provide a user-provided number of keyphrases. This is the technique used by Turney with C4.5 decision trees. Hulth used a single binary classifier so the learning algorithm implicitly determines the appropriate number. Once examples and features are created, we need a way to learn to predict keyphrases. Virtually any supervised learning algorithm could be used, such as decision trees, Naive Bayes, and rule induction. In the case of Turney's GenEx algorithm, a genetic algorithm is used to learn parameters for a domain-specific keyphrase extraction algorithm. The extractor follows a series of heuristics to identify keyphrases. The genetic algorithm optimizes parameters for these heuristics with respect to performance on training documents with known key phrases. Another keyphrase extraction algorithm is TextRank. While supervised methods have some nice properties, like being able to produce interpretable rules for what features characterize a keyphrase, they also require a large amount of training data. Many documents with known keyphrases are needed. Furthermore, training on a specific domain tends to customize the extraction process to that domain, so the resulting classifier is not necessarily portable, as some of Turney's results demonstrate. Unsupervised keyphrase extraction removes the need for training data. It approaches the problem from a different angle. <mark>Instead of trying to learn explicit features that characterize keyphrases, the TextRank algorithm[12] exploits the structure of the text itself to determine keyphrases that appear \"central\" to the text in the same way that PageRank selects important Web pages.</mark> <mark>Recall this is based on the notion of \"prestige\" or \"recommendation\" from social networks.</mark> In this way, TextRank does not rely on any previous training data at all, but rather can be run on any arbitrary piece of text, and it can produce output simply based on the text's intrinsic properties. Thus the algorithm is easily portable to new domains and languages. TextRank is a general purpose graph-based ranking algorithm for NLP. Essentially, it runs PageRank on a graph specially designed for a particular NLP task. For keyphrase extraction, it builds a graph using some set of text units as vertices. Edges are based on some measure of semantic or lexical similarity between the text unit vertices. Unlike PageRank, the edges are typically undirected and can be weighted to reflect a degree of similarity. <mark>Once the graph is constructed, it is used to form a stochastic matrix, combined with a damping factor (as in the \"random surfer model\"), and the ranking over vertices is obtained by finding the eigenvector corresponding to eigenvalue 1 (i.e., the stationary distribution of the random walk on the graph).</mark> The vertices should correspond to what we want to rank. Potentially, we could do something similar to the supervised methods and create a vertex for each unigram, bigram, trigram, etc. However, to keep the graph small, the authors decide to rank individual unigrams in a first step, and then include a second step that merges highly ranked adjacent unigrams to form multi-word phrases. This has a nice side effect of allowing us to produce keyphrases of arbitrary length. <mark>For example, if we rank unigrams and find that \"advanced\", \"natural\", \"language\", and \"processing\" all get high ranks, then we would look at the original text and see that these words appear consecutively and create a final keyphrase using all four together.</mark> Note that the unigrams placed in the graph can be filtered by part of speech. The authors found that adjectives and nouns were the best to include. Thus, some linguistic knowledge comes into play in this step. Edges are created based on word co-occurrence in this application of TextRank. Two vertices are connected by an edge if the unigrams appear within a window of size N in the original text. N is typically around 2–10. <mark>Thus, \"natural\" and \"language\" might be linked in a text about NLP.</mark> <mark>\"Natural\" and \"processing\" would also be linked because they would both appear in the same string of N words.</mark> <mark>These edges build on the notion of \"text cohesion\" and the idea that words that appear near each other are likely related in a meaningful way and \"recommend\" each other to the reader.</mark> Since this method simply ranks the individual vertices, we need a way to threshold or produce a limited number of keyphrases. The technique chosen is to set a count T to be a user-specified fraction of the total number of vertices in the graph. Then the top T vertices/unigrams are selected based on their stationary probabilities. A post- processing step is then applied to merge adjacent instances of these T unigrams. As a result, potentially more or less than T final keyphrases will be produced, but the number should be roughly proportional to the length of the original text. It is not initially clear why applying PageRank to a co-occurrence graph would produce useful keyphrases. One way to think about it is the following. A word that appears multiple times throughout a text may have many different co-occurring neighbors. <mark>For example, in a text about machine learning, the unigram \"learning\" might co-occur with \"machine\", \"supervised\", \"un-supervised\", and \"semi-supervised\" in four different sentences.</mark> <mark>Thus, the \"learning\" vertex would be a central \"hub\" that connects to these other modifying words.</mark> Running PageRank/TextRank on the graph is likely to rank \"learning\" highly. <mark>Similarly, if the text contains the phrase \"supervised classification\", then there would be an edge between \"supervised\" and \"classification\".</mark> <mark>If \"classification\" appears several other places and thus has many neighbors, its importance would contribute to the importance of \"supervised\".</mark> <mark>If it ends up with a high rank, it will be selected as one of the top T unigrams, along with \"learning\" and probably \"classification\".</mark> <mark>In the final post-processing step, we would then end up with keyphrases \"supervised learning\" and \"supervised classification\".</mark> In short, the co-occurrence graph will contain densely connected regions for terms that appear often and in different contexts. A random walk on this graph will have a stationary distribution that assigns large probabilities to the terms in the centers of the clusters. This is similar to densely connected Web pages getting ranked highly by PageRank. This approach has also been used in document summarization, considered below. <mark>Like keyphrase extraction, document summarization aims to identify the essence of a text.</mark> The only real difference is that now we are dealing with larger text units—whole sentences instead of words and phrases. <mark>Before getting into the details of some summarization methods, we will mention how summarization systems are typically evaluated.</mark> The most common way is using the so-called ROUGE (Recall-Oriented Understudy for Gisting Evaluation) measure. This is a recall-based measure that determines how well a system-generated summary covers the content present in one or more human-generated model summaries known as references. It is recall-based to encourage systems to include all the important topics in the text. Recall can be computed with respect to unigram, bigram, trigram, or 4-gram matching. For example, ROUGE-1 is computed as division of count of unigrams in reference that appear in system and count of unigrams in reference summary. If there are multiple references, the ROUGE-1 scores are averaged. Because ROUGE is based only on content overlap, it can determine if the same general concepts are discussed between an automatic summary and a reference summary, but it cannot determine if the result is coherent or the sentences flow together in a sensible manner. High-order n-gram ROUGE measures try to judge fluency to some degree. Note that ROUGE is similar to the BLEU measure for machine translation, but BLEU is precision- based, because translation systems favor accuracy. <mark>A promising line in document summarization is adaptive document/text summarization.</mark> <mark>[13] The idea of adaptive summarization involves preliminary recognition of document/text genre and subsequent application of summarization algorithms optimized for this genre.</mark> First summarizes that perform adaptive summarization have been created. <mark>[14]\n",
       "\n",
       "Supervised text summarization is very much like supervised keyphrase extraction.</mark> Basically, if you have a collection of documents and human-generated summaries for them, you can learn features of sentences that make them good candidates for inclusion in the summary. Features might include the position in the document (i.e., the first few sentences are probably important), the number of words in the sentence, etc. <mark>The main difficulty in supervised extractive summarization is that the known summaries must be manually created by extracting sentences so the sentences in an original training document can be labeled as \"in summary\" or \"not in summary\".</mark> This is not typically how people create summaries, so simply using journal abstracts or existing summaries is usually not sufficient. <mark>The sentences in these summaries do not necessarily match up with sentences in the original text, so it would be difficult to assign labels to examples for training.</mark> Note, however, that these natural summaries can still be used for evaluation purposes, since ROUGE-1 only cares about unigrams. <mark>During the DUC 2001 and 2002 evaluation workshops, TNO developed a sentence extraction system for multi-document summarization in the news domain.</mark> The system was based on a hybrid system using a naive Bayes classifier and statistical language models for modeling salience. Although the system exhibited good results, the researchers wanted to explore the effectiveness of a maximum entropy (ME) classifier for the meeting summarization task, as ME is known to be robust against feature dependencies. Maximum entropy has also been applied successfully for summarization in the broadcast news domain. <mark>The unsupervised approach to summarization is also quite similar in spirit to unsupervised keyphrase extraction and gets around the issue of costly training data.</mark> <mark>Some unsupervised summarization approaches are based on finding a \"centroid\" sentence, which is the mean word vector of all the sentences in the document.</mark> Then the sentences can be ranked with regard to their similarity to this centroid sentence. A more principled way to estimate sentence importance is using random walks and eigenvector centrality. LexRank[15] is an algorithm essentially identical to TextRank, and both use this approach for document summarization. <mark>The two methods were developed by different groups at the same time, and LexRank simply focused on summarization, but could just as easily be used for keyphrase extraction or any other NLP ranking task.</mark> In both LexRank and TextRank, a graph is constructed by creating a vertex for each sentence in the document. The edges between sentences are based on some form of semantic similarity or content overlap. While LexRank uses cosine similarity of TF-IDF vectors, TextRank uses a very similar measure based on the number of words two sentences have in common (normalized by the sentences' lengths). The LexRank paper explored using unweighted edges after applying a threshold to the cosine values, but also experimented with using edges with weights equal to the similarity score. TextRank uses continuous similarity scores as weights. In both algorithms, the sentences are ranked by applying PageRank to the resulting graph. A summary is formed by combining the top ranking sentences, using a threshold or length cutoff to limit the size of the summary. <mark>It is worth noting that TextRank was applied to summarization exactly as described here, while LexRank was used as part of a larger summarization system (MEAD) that combines the LexRank score (stationary probability) with other features like sentence position and length using a linear combination with either user-specified or automatically tuned weights.</mark> In this case, some training documents might be needed, though the TextRank results show the additional features are not absolutely necessary. <mark>Another important distinction is that TextRank was used for single document summarization, while LexRank has been applied to multi-document summarization.</mark> The task remains the same in both cases—only the number of sentences to choose from has grown. However, when summarizing multiple documents, there is a greater risk of selecting duplicate or highly redundant sentences to place in the same summary. Imagine you have a cluster of news articles on a particular event, and you want to produce one summary. Each article is likely to have many similar sentences, and you would only want to include distinct ideas in the summary. To address this issue, LexRank applies a heuristic post-processing step that builds up a summary by adding sentences in rank order, but discards any sentences that are too similar to ones already placed in the summary. The method used is called Cross-Sentence Information Subsumption (CSIS). <mark>These methods work based on the idea that sentences \"recommend\" other similar sentences to the reader.</mark> Thus, if one sentence is very similar to many others, it will likely be a sentence of great importance. <mark>The importance of this sentence also stems from the importance of the sentences \"recommending\" it.</mark> <mark>Thus, to get ranked highly and placed in a summary, a sentence must be similar to many sentences that are in turn also similar to many other sentences.</mark> This makes intuitive sense and allows the algorithms to be applied to any arbitrary new text. The methods are domain-independent and easily portable. One could imagine the features indicating important sentences in the news domain might vary considerably from the biomedical domain. However, the unsupervised \"recommendation\"-based approach applies to any domain. Multi-document summarization is an automatic procedure aimed at extraction of information from multiple texts written about the same topic. Resulting summary report allows individual users, such as professional information consumers, to quickly familiarize themselves with information contained in a large cluster of documents. In such a way, multi-document summarization systems are complementing the news aggregators performing the next step down the road of coping with information overload. Multi-document summarization may also be done in response to a question. [16][8]\n",
       "\n",
       "Multi-document summarization creates information reports that are both concise and comprehensive. With different opinions being put together and outlined, every topic is described from multiple perspectives within a single document. While the goal of a brief summary is to simplify information search and cut the time by pointing to the most relevant source documents, comprehensive multi-document summary should itself contain the required information, hence limiting the need for accessing original files to cases when refinement is required. Automatic summaries present information extracted from multiple sources algorithmically, without any editorial touch or subjective human intervention, thus making it completely unbiased. [dubious – discuss]\n",
       "\n",
       "Multi-document extractive summarization faces a problem of potential redundancy. <mark>Ideally, we would like to extract sentences that are both \"central\" (i.e., contain the main ideas) and \"diverse\" (i.e., they differ from one another).</mark> LexRank deals with diversity as a heuristic final stage using CSIS, and other systems have used similar methods, such as Maximal Marginal Relevance (MMR),[17] in trying to eliminate redundancy in information retrieval results. <mark>There is a general purpose graph-based ranking algorithm like Page/Lex/TextRank that handles both \"centrality\" and \"diversity\" in a unified mathematical framework based on absorbing Markov chain random walks.</mark> (An absorbing random walk is like a standard random walk, except some states are now absorbing states that act as \"black holes\" that cause the walk to end abruptly at that state.) The algorithm is called GRASSHOPPER. [18] In addition to explicitly promoting diversity during the ranking process, GRASSHOPPER incorporates a prior ranking (based on sentence position in the case of summarization). The state of the art results for multi-document summarization, however, are obtained using mixtures of submodular functions. These methods have achieved the state of the art results for Document Summarization Corpora, DUC 04 - 07. [19] Similar results were also achieved with the use of determinantal point processes (which are a special case of submodular functions) for DUC-04. <mark>[20]\n",
       "\n",
       "A new method for multi-lingual multi-document summarization that avoids redundancy works by simplifying and generating ideograms that represent the meaning of each sentence in each document and then evaluates similarity \"qualitatively\" by comparing the shape and position of said ideograms has recently been developed.</mark> <mark>This tool does not use word frequency, does not need training or preprocessing of any kind and works by generating ideograms that represent the meaning of each sentence and then summarizes using two user-supplied parameters: equivalence (when are two sentences to be considered equivalent) and relevance (how long is the desired summary).</mark> The idea of a submodular set function has recently emerged as a powerful modeling tool for various summarization problems. Submodular functions naturally model notions of coverage, information, representation and diversity. Moreover, several important combinatorial optimization problems occur as special instances of submodular optimization. For example, the set cover problem is a special case of submodular optimization, since the set cover function is submodular. The set cover function attempts to find a subset of objects which cover a given set of concepts. <mark>For example, in document summarization, one would like the summary to cover all important and relevant concepts in the document.</mark> This is an instance of set cover. Similarly, the facility location problem is a special case of submodular functions. The Facility Location function also naturally models coverage and diversity. Another example of a submodular optimization problem is using a determinantal point process to model diversity. Similarly, the Maximum-Marginal-Relevance procedure can also be seen as an instance of submodular optimization. All these important models encouraging coverage, diversity and information are all submodular. Moreover, submodular functions can be efficiently combined, and the resulting function is still submodular. <mark>Hence, one could combine one submodular function which models diversity, another one which models coverage and use human supervision to learn a right model of a submodular function for the problem.</mark> While submodular functions are fitting problems for summarization, they also admit very efficient algorithms for optimization. For example, a simple greedy algorithm admits a constant factor guarantee. [21] Moreover, the greedy algorithm is extremely simple to implement and can scale to large datasets, which is very important for summarization problems. Submodular functions have achieved state-of-the-art for almost all summarization problems. <mark>For example, work by Lin and Bilmes, 2012[22] shows that submodular functions achieve the best results to date on DUC-04, DUC-05, DUC-06 and DUC-07 systems for document summarization.</mark> Similarly, work by Lin and Bilmes, 2011,[23] shows that many existing systems for automatic summarization are instances of submodular functions. This was a breakthrough result establishing submodular functions as the right models for summarization problems. [citation needed]\n",
       "\n",
       "Submodular Functions have also been used for other summarization tasks. Tschiatschek et al., 2014 show[24] that mixtures of submodular functions achieve state-of-the-art results for image collection summarization. Similarly, Bairi et al., 2015[25] show the utility of submodular functions for summarizing multi-document topic hierarchies. Submodular Functions have also successfully been used for summarizing machine learning datasets. [26]\n",
       "• The Reddit bot \"autotldr\",[27] created in 2011 summarizes news articles in the comment-section of reddit posts. It was found to be very useful by the reddit community which upvoted its summaries hundreds of thousands of times. [28] The name is reference to TL;DR − Internet slang for \"too long; didn't read\". [29][30]\n",
       "\n",
       "The most common way to evaluate the informativeness of automatic summaries is to compare them with human-made model summaries. Evaluation techniques fall into intrinsic and extrinsic,[31] inter-textual and intra-textual. <mark>[32]\n",
       "\n",
       "An intrinsic evaluation tests the summarization system in and of itself while an extrinsic evaluation tests the summarization based on how it affects the completion of some other task.</mark> Intrinsic evaluations have assessed mainly the coherence and informativeness of summaries. Extrinsic evaluations, on the other hand, have tested the impact of summarization on tasks like relevance assessment, reading comprehension, etc. <mark>Intra-textual methods assess the output of a specific summarization system, and the inter-textual ones focus on contrastive analysis of outputs of several summarization systems.</mark> <mark>Human judgement often has wide variance on what is considered a \"good\" summary, which means that making the evaluation process automatic is particularly difficult.</mark> Manual evaluation can be used, but this is both time and labor-intensive as it requires humans to read not only the summaries but also the source documents. Other issues are those concerning coherence and coverage. One of the metrics used in NIST's annual Document Understanding Conferences, in which research groups submit their systems for both summarization and translation tasks, is the ROUGE metric (Recall-Oriented Understudy for Gisting Evaluation [2]). It essentially calculates n-gram overlaps between automatically generated summaries and previously written human summaries. A high level of overlap should indicate a high level of shared concepts between the two summaries. Note that overlap metrics like this are unable to provide any feedback on a summary's coherence. Anaphor resolution remains another problem yet to be fully solved. <mark>Similarly, for image summarization, Tschiatschek et al., developed a Visual-ROUGE score which judges the performance of algorithms for image summarization.</mark> <mark>[33]\n",
       "\n",
       "Domain independent summarization techniques generally apply sets of general features which can be used to identify information-rich text segments.</mark> Recent research focus has drifted to domain-specific summarization techniques that utilize the available knowledge specific to the domain of text. <mark>For example, automatic summarization research on medical text generally attempts to utilize the various sources of codified medical knowledge and ontologies.</mark> <mark>[34]\n",
       "\n",
       "The main drawback of the evaluation systems existing so far is that we need at least one reference summary, and for some methods more than one, to be able to compare automatic summaries with models.</mark> This is a hard and expensive task. Much effort has to be done in order to have corpus of texts and their corresponding summaries. Furthermore, for some methods, not only do we need to have human-made summaries available for comparison, but also manual annotation has to be performed in some of them (e.g. SCU in the Pyramid Method). In any case, what the evaluation methods need as an input, is a set of summaries to serve as gold standards and a set of automatic summaries. Moreover, they all perform a quantitative evaluation with regard to different similarity metrics. The first publication in the area dates back to 1957 [35] (Hans Peter Luhn), starting with a statistical technique. Research increased significantly in 2015. Term frequency–inverse document frequency had been used by 2016. <mark>Pattern-based summarization was the most powerful option for multi-document summarization found by 2016.</mark> In the following year it was surpassed by latent semantic analysis (LSA) combined with non-negative matrix factorization (NMF). Although they did not replace other approaches and are often combined with them, by 2019 machine learning methods dominated the extractive summarization of single documents, which was considered to be nearing maturity. By 2020, the field was still very active and research is shifting towards abstractive summation and real-time summarization. <mark>[36]\n",
       "\n",
       "Recently the rise of Transformer models replacing more traditional RNN (LSTM) have provided a flexibility in the mapping of text sequences to text sequences of a different type, which is well suited to automatic summarization.</mark> This includes models such as T5[37] and Pegasus. • None Roxana, Angheluta (2002). The Use of Topic Segmentation for Automatic Summarization. • None Elena, Lloret and Manuel, Palomar (2009). Challenging Issues of Automatic Summarization: Relevance Detection and Quality-based Evaluation. • None Alrehamy, Hassan (2017). \"SemCluster: Unsupervised Automatic Keyphrase Extraction Using Affinity Propagation\". Automatic Keyphrases Extraction. Advances in Intelligent Systems and Computing. Vol. 650. pp. 222–235. doi:10.1007/978-3-319-66939-7_19. ISBN . • None Marcu, Daniel (2000). The Theory and Practice of Discourse Parsing and Summarization. ISBN . • , Published in Proceeding RIAO'10 Adaptivity, Personalization and Fusion of Heterogeneous Information, CID Paris, France\n",
       "• None Xiaojin, Zhu, Andrew Goldberg, Jurgen Van Gael, and David Andrzejewski (2007). Improving diversity in ranking using absorbing random walks . , The GRASSHOPPER algorithm\n",
       "• None Miranda-Jiménez, Sabino, Gelbukh, Alexander, and Sidorov, Grigori (2013). \"Summarizing Conceptual Graphs for Automatic Summarization Task\". Conceptual Structures for STEM Research and Education. Lecture Notes in Computer Science. Vol. 7735. pp. 245–253. doi:10.1007/978-3-642-35786-2_18. ISBN . , Conceptual Structures for STEM Research and Education. "
      ],
      "text/plain": [
       "<IPython.core.display.HTML object>"
      ]
     },
     "metadata": {},
     "output_type": "display_data"
    },
    {
     "name": "stdout",
     "output_type": "stream",
     "text": [
      "88 17\n"
     ]
    },
    {
     "data": {
      "text/html": [
       "<h1>Summary - Natural language processing - Wikipedia</h1>"
      ],
      "text/plain": [
       "<IPython.core.display.HTML object>"
      ]
     },
     "metadata": {},
     "output_type": "display_data"
    },
    {
     "data": {
      "text/html": [
       "  <mark>Natural language processing (NLP) is a subfield of linguistics, computer science, and artificial intelligence concerned with the interactions between computers and human language, in particular how to program computers to process and analyze large amounts of natural language data.</mark> The goal is a computer capable of \"understanding\" the contents of documents, including the contextual nuances of the language within them. The technology can then accurately extract information and insights contained in the documents as well as categorize and organize the documents themselves. Natural language processing has its roots in the 1950s. Already in 1950, Alan Turing published an article titled \"Computing Machinery and Intelligence\" which proposed what is now called the Turing test as a criterion of intelligence, though at the time that was not articulated as a problem separate from artificial intelligence. The proposed test includes a task that involves the automated interpretation and generation of natural language. <mark>The premise of symbolic NLP is well-summarized by John Searle's Chinese room experiment: Given a collection of rules (e.g., a Chinese phrasebook, with questions and matching answers), the computer emulates natural language understanding (or other NLP tasks) by applying those rules to the data it confronts.</mark> • 1950s: The Georgetown experiment in 1954 involved fully automatic translation of more than sixty Russian sentences into English. The authors claimed that within three or five years, machine translation would be a solved problem. [2] However, real progress was much slower, and after the ALPAC report in 1966, which found that ten-year-long research had failed to fulfill the expectations, funding for machine translation was dramatically reduced. <mark>Little further research in machine translation was conducted until the late 1980s when the first statistical machine translation systems were developed.</mark> <mark>• 1960s: Some notably successful natural language processing systems developed in the 1960s were SHRDLU, a natural language system working in restricted \"blocks worlds\" with restricted vocabularies, and ELIZA, a simulation of a Rogerian psychotherapist, written by Joseph Weizenbaum between 1964 and 1966.</mark> Using almost no information about human thought or emotion, ELIZA sometimes provided a startlingly human-like interaction. When the \"patient\" exceeded the very small knowledge base, ELIZA might provide a generic response, for example, responding to \"My head hurts\" with \"Why do you say your head hurts?\". • 1970s: During the 1970s, many programmers began to write \"conceptual ontologies\", which structured real-world information into computer-understandable data. Examples are MARGIE (Schank, 1975), SAM (Cullingford, 1978), PAM (Wilensky, 1978), TaleSpin (Meehan, 1976), QUALM (Lehnert, 1977), Politics (Carbonell, 1979), and Plot Units (Lehnert 1981). During this time, the first chatterbots were written (e.g., PARRY). • 1980s: The 1980s and early 1990s mark the hey-day of symbolic methods in NLP. Focus areas of the time included research on rule-based parsing (e.g., the development of HPSG as a computational operationalization of generative grammar), morphology (e.g., two-level morphology[3]), semantics (e.g., Lesk algorithm), reference (e.g., within Centering Theory[4]) and other areas of natural language understanding (e.g., in the Rhetorical Structure Theory). Other lines of research were continued, e.g., the development of chatterbots with Racter and Jabberwacky. An important development (that eventually led to the statistical turn in the 1990s) was the rising importance of quantitative evaluation in this period. [5]\n",
       "\n",
       "Up to the 1980s, most natural language processing systems were based on complex sets of hand-written rules. <mark>Starting in the late 1980s, however, there was a revolution in natural language processing with the introduction of machine learning algorithms for language processing.</mark> This was due to both the steady increase in computational power (see Moore's law) and the gradual lessening of the dominance of Chomskyan theories of linguistics (e.g. transformational grammar), whose theoretical underpinnings discouraged the sort of corpus linguistics that underlies the machine-learning approach to language processing. [6]\n",
       "• 1990s: Many of the notable early successes on statistical methods in NLP occurred in the field of machine translation, due especially to work at IBM Research. These systems were able to take advantage of existing multilingual textual corpora that had been produced by the Parliament of Canada and the European Union as a result of laws calling for the translation of all governmental proceedings into all official languages of the corresponding systems of government. However, most other systems depended on corpora specifically developed for the tasks implemented by these systems, which was (and often continues to be) a major limitation in the success of these systems. As a result, a great deal of research has gone into methods of more effectively learning from limited amounts of data. • 2000s: With the growth of the web, increasing amounts of raw (unannotated) language data has become available since the mid-1990s. Research has thus increasingly focused on unsupervised and semi-supervised learning algorithms. Such algorithms can learn from data that has not been hand-annotated with the desired answers or using a combination of annotated and non-annotated data. Generally, this task is much more difficult than supervised learning, and typically produces less accurate results for a given amount of input data. However, there is an enormous amount of non-annotated data available (including, among other things, the entire content of the World Wide Web), which can often make up for the inferior results if the algorithm used has a low enough time complexity to be practical. <mark>In the 2010s, representation learning and deep neural network-style machine learning methods became widespread in natural language processing.</mark> <mark>That popularity was due partly to a flurry of results showing that such techniques[7][8] can achieve state-of-the-art results in many natural language tasks, e.g., in language modeling[9] and parsing.</mark> [10][11] This is increasingly important in medicine and healthcare, where NLP helps analyze notes and text in electronic health records that would otherwise be inaccessible for study when seeking to improve care. [12]\n",
       "\n",
       "In the early days, many language-processing systems were designed by symbolic methods, i.e., the hand-coding of a set of rules, coupled with a dictionary lookup:[13][14] such as by writing grammars or devising heuristic rules for stemming. <mark>More recent systems based on machine-learning algorithms have many advantages over hand-produced rules:\n",
       "• The learning procedures used during machine learning automatically focus on the most common cases, whereas when writing rules by hand it is often not at all obvious where the effort should be directed.</mark> <mark>• Automatic learning procedures can make use of statistical inference algorithms to produce models that are robust to unfamiliar input (e.g.</mark> containing words or structures that have not been seen before) and to erroneous input (e.g. with misspelled words or words accidentally omitted). Generally, handling such input gracefully with handwritten rules, or, more generally, creating systems of handwritten rules that make soft decisions, is extremely difficult, error-prone and time-consuming. • Systems based on automatically learning the rules can be made more accurate simply by supplying more input data. However, systems based on handwritten rules can only be made more accurate by increasing the complexity of the rules, which is a much more difficult task. In particular, there is a limit to the complexity of systems based on handwritten rules, beyond which the systems become more and more unmanageable. However, creating more data to input to machine-learning systems simply requires a corresponding increase in the number of man-hours worked, generally without significant increases in the complexity of the annotation process. <mark>Despite the popularity of machine learning in NLP research, symbolic methods are still (2020) commonly used:\n",
       "• when the amount of training data is insufficient to successfully apply machine learning methods, e.g., for the machine translation of low-resource languages such as provided by the Apertium system,\n",
       "• for preprocessing in NLP pipelines, e.g., tokenization, or\n",
       "• for postprocessing and transforming the output of NLP pipelines, e.g., for knowledge extraction from syntactic parses.</mark> <mark>Since the so-called \"statistical revolution\"[15][16] in the late 1980s and mid-1990s, much natural language processing research has relied heavily on machine learning.</mark> The machine-learning paradigm calls instead for using statistical inference to automatically learn such rules through the analysis of large corpora (the plural form of corpus, is a set of documents, possibly with human or computer annotations) of typical real-world examples. Many different classes of machine-learning algorithms have been applied to natural-language-processing tasks. These algorithms take as input a large set of \"features\" that are generated from the input data. <mark>Increasingly, however, research has focused on statistical models, which make soft, probabilistic decisions based on attaching real-valued weights to each input feature (complex-valued embeddings,[17] and neural networks in general have also been proposed, for e.g.</mark> speech[18]). Such models have the advantage that they can express the relative certainty of many different possible answers rather than only one, producing more reliable results when such a model is included as a component of a larger system. Some of the earliest-used machine learning algorithms, such as decision trees, produced systems of hard if-then rules similar to existing hand-written rules. <mark>However, part-of-speech tagging introduced the use of hidden Markov models to natural language processing, and increasingly, research has focused on statistical models, which make soft, probabilistic decisions based on attaching real-valued weights to the features making up the input data.</mark> The cache language models upon which many speech recognition systems now rely are examples of such statistical models. Such models are generally more robust when given unfamiliar input, especially input that contains errors (as is very common for real-world data), and produce more reliable results when integrated into a larger system comprising multiple subtasks. Since the neural turn, statistical methods in NLP research have been largely replaced by neural networks. However, they continue to be relevant for contexts in which statistical interpretability and transparency is required. A major drawback of statistical methods is that they require elaborate feature engineering. Since 2015,[19] the field has thus largely abandoned statistical methods and shifted to neural networks for machine learning. Popular techniques include the use of word embeddings to capture semantic properties of words, and an increase in end-to-end learning of a higher-level task (e.g., question answering) instead of relying on a pipeline of separate intermediate tasks (e.g., part-of-speech tagging and dependency parsing). <mark>In some areas, this shift has entailed substantial changes in how NLP systems are designed, such that deep neural network-based approaches may be viewed as a new paradigm distinct from statistical natural language processing.</mark> <mark>For instance, the term neural machine translation (NMT) emphasizes the fact that deep learning-based approaches to machine translation directly learn sequence-to-sequence transformations, obviating the need for intermediate steps such as word alignment and language modeling that was used in statistical machine translation (SMT).</mark> The following is a list of some of the most commonly researched tasks in natural language processing. Some of these tasks have direct real-world applications, while others more commonly serve as subtasks that are used to aid in solving larger tasks. Though natural language processing tasks are closely intertwined, they can be subdivided into categories for convenience. A coarse division is given below. Based on long-standing trends in the field, it is possible to extrapolate future directions of NLP. <mark>As of 2020, three trends among the topics of the long-standing series of CoNLL Shared Tasks can be observed:[38]\n",
       "• Increasing interest in multilinguality, and, potentially, multimodality (English since 1999; Spanish, Dutch since 2002; German since 2003; Bulgarian, Danish, Japanese, Portuguese, Slovenian, Swedish, Turkish since 2006; Basque, Catalan, Chinese, Greek, Hungarian, Italian, Turkish since 2007; Czech since 2009; Arabic since 2012; 2017: 40+ languages; 2018: 60+/100+ languages)\n",
       "• Elimination of symbolic representations (rule-based over supervised towards weakly supervised methods, representation learning and end-to-end systems)\n",
       "\n",
       "Most higher-level NLP applications involve aspects that emulate intelligent behaviour and apparent comprehension of natural language.</mark> More broadly speaking, the technical operationalization of increasingly advanced aspects of cognitive behaviour represents one of the developmental trajectories of NLP (see trends among CoNLL shared tasks above). Cognition refers to \"the mental action or process of acquiring knowledge and understanding through thought, experience, and the senses. \"[39] Cognitive science is the interdisciplinary, scientific study of the mind and its processes. [40] Cognitive linguistics is an interdisciplinary branch of linguistics, combining knowledge and research from both psychology and linguistics. [41] Especially during the age of symbolic NLP, the area of computational linguistics maintained strong ties with cognitive studies. <mark>As an example, George Lakoff offers a methodology to build natural language processing (NLP) algorithms through the perspective of cognitive science, along with the findings of cognitive linguistics,[42] with two defining aspects:\n",
       "• Apply the theory of conceptual metaphor, explained by Lakoff as “the understanding of one idea, in terms of another” which provides an idea of the intent of the author.</mark> [43] For example, consider the English word “big”. When used in a comparison (“That is a big tree”), the author's intent is to imply that the tree is ”physically large” relative to other trees or the authors experience. When used metaphorically (”Tomorrow is a big day”), the author’s intent to imply ”importance”. The intent behind other usages, like in ”She is a big person” will remain somewhat ambiguous to a person and a cognitive NLP algorithm alike without additional information. • Assign relative measures of meaning to a word, phrase, sentence or piece of text based on the information presented before and after the piece of text being analyzed, e.g., by means of a probabilistic context-free grammar (PCFG). The mathematical equation for such algorithms is presented in :\n",
       "\n",
       "Ties with cognitive linguistics are part of the historical heritage of NLP, but they have been less frequently addressed since the statistical turn during the 1990s. Nevertheless, approaches to develop cognitive models towards technically operationalizable frameworks have been pursued in the context of various frameworks, e.g., of cognitive grammar,[44] functional grammar,[45] construction grammar,[46] computational psycholinguistics and cognitive neuroscience (e.g., ACT-R), however, with limited uptake in mainstream NLP (as measured by presence on major conferences[47] of the ACL). More recently, ideas of cognitive NLP have been revived as an approach to achieve explainability, e.g., under the notion of \"cognitive AI\". [48] Likewise, ideas of cognitive NLP are inherent to neural models multimodal NLP (although rarely made explicit). [49] "
      ],
      "text/plain": [
       "<IPython.core.display.HTML object>"
      ]
     },
     "metadata": {},
     "output_type": "display_data"
    },
    {
     "name": "stdout",
     "output_type": "stream",
     "text": [
      "30 6\n"
     ]
    },
    {
     "data": {
      "text/html": [
       "<h1>Summary - Lemmatisation - Wikipedia</h1>"
      ],
      "text/plain": [
       "<IPython.core.display.HTML object>"
      ]
     },
     "metadata": {},
     "output_type": "display_data"
    },
    {
     "data": {
      "text/html": [
       "  <mark>Lemmatisation (or lemmatization) in linguistics is the process of grouping together the inflected forms of a word so they can be analysed as a single item, identified by the word's lemma, or dictionary form.</mark> [1]\n",
       "\n",
       "In computational linguistics, lemmatisation is the algorithmic process of determining the lemma of a word based on its intended meaning. <mark>Unlike stemming, lemmatisation depends on correctly identifying the intended part of speech and meaning of a word in a sentence, as well as within the larger context surrounding that sentence, such as neighboring sentences or even an entire document.</mark> As a result, developing efficient lemmatisation algorithms is an open area of research. [2][3][4]\n",
       "\n",
       "In many languages, words appear in several inflected forms. For example, in English, the verb 'to walk' may appear as 'walk', 'walked', 'walks' or 'walking'. The base form, 'walk', that one might look up in a dictionary, is called the lemma for the word. The association of the base form with a part of speech is often called a lexeme of the word. Lemmatisation is closely related to stemming. The difference is that a stemmer operates on a single word without knowledge of the context, and therefore cannot discriminate between words which have different meanings depending on part of speech. However, stemmers are typically easier to implement and run faster. The reduced \"accuracy\" may not matter for some applications. In fact, when used within information retrieval systems, stemming improves query recall accuracy, or true positive rate, when compared to lemmatisation. Nonetheless, stemming reduces precision, or the proportion of positively-labeled instances that are actually positive, for such systems. <mark>[5]\n",
       "• The word \"better\" has \"good\" as its lemma.</mark> This link is missed by stemming, as it requires a dictionary look-up. <mark>• The word \"walk\" is the base form for the word \"walking\", and hence this is matched in both stemming and lemmatisation.</mark> <mark>• The word \"meeting\" can be either the base form of a noun or a form of a verb (\"to meet\") depending on the context; e.g., \"in our last meeting\" or \"We are meeting again tomorrow\".</mark> Unlike stemming, lemmatisation attempts to select the correct lemma depending on the context. <mark>Document indexing software like Lucene[6] can store the base stemmed format of the word without the knowledge of meaning, but only considering word formation grammar rules.</mark> The stemmed word itself might not be a valid word: 'lazy', as seen in the example below, is stemmed by many stemmers to 'lazi'. This is because the purpose of stemming is not to produce the appropriate lemma – that is a more challenging task that requires knowledge of context. The main purpose of stemming is to map different forms of a word to a single form. [7] As a rule-based algorithm, dependent only upon the spelling of a word, it sacrifices accuracy to ensure that, for example, when 'laziness' is stemmed to 'lazi', it has the same stem as 'lazy'. A trivial way to do lemmatization is by simple dictionary lookup. This works well for straightforward inflected forms, but a rule-based system will be needed for other cases, such as in languages with long compound words. Such rules can be either hand-crafted or learned automatically from an annotated corpus. Morphological analysis of published biomedical literature can yield useful results. Morphological processing of biomedical text can be more effective by a specialised lemmatisation program for biomedicine, and may improve the accuracy of practical information extraction tasks. [8] "
      ],
      "text/plain": [
       "<IPython.core.display.HTML object>"
      ]
     },
     "metadata": {},
     "output_type": "display_data"
    }
   ],
   "source": [
    "for url in article_list:\n",
    " #print(article)\n",
    "  g = Goose()\n",
    "  article = g.extract(url)\n",
    "  sentence_list, best_sentences, _, _ = summarize(article.cleaned_text, 100, percentage=0.2)\n",
    "  print(len(sentence_list), len(best_sentences))\n",
    "  visualize(article.title, sentence_list, best_sentences)\n",
    "  "
   ]
  }
 ],
 "metadata": {
  "kernelspec": {
   "display_name": "Python 3.9.12 ('base')",
   "language": "python",
   "name": "python3"
  },
  "language_info": {
   "codemirror_mode": {
    "name": "ipython",
    "version": 3
   },
   "file_extension": ".py",
   "mimetype": "text/x-python",
   "name": "python",
   "nbconvert_exporter": "python",
   "pygments_lexer": "ipython3",
   "version": "3.9.12"
  },
  "vscode": {
   "interpreter": {
    "hash": "ad2bdc8ecc057115af97d19610ffacc2b4e99fae6737bb82f5d7fb13d2f2c186"
   }
  }
 },
 "nbformat": 4,
 "nbformat_minor": 2
}
